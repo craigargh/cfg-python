{
  "cells": [
    {
      "cell_type": "markdown",
      "metadata": {
        "slideshow": {
          "slide_type": "slide"
        }
      },
      "source": [
        "![Code First: Girls](images/logo_large.png)\n\n#### Python Session 6"
      ]
    },
    {
      "cell_type": "markdown",
      "metadata": {
        "slideshow": {
          "slide_type": "subslide"
        }
      },
      "source": [
        "This session\n1. Overview of projects\n1. Form teams\n1. Planning your project\n1. Project work"
      ]
    },
    {
      "cell_type": "markdown",
      "metadata": {
        "slideshow": {
          "slide_type": "slide"
        }
      },
      "source": [
        "### Project Briefs"
      ]
    },
    {
      "cell_type": "markdown",
      "metadata": {
        "slideshow": {
          "slide_type": "subslide"
        }
      },
      "source": [
        "Until the end of the course you will be working on team projects\n\nIn the second half of the final session each team will present their project"
      ]
    },
    {
      "cell_type": "markdown",
      "metadata": {
        "slideshow": {
          "slide_type": "subslide"
        }
      },
      "source": [
        "In your student handbook there are three project briefs\n\nEach brief includes:\n- Overview of the project\n- Required tasks\n- Ideas for extending the project\n- Links to useful resources\n- Example project code"
      ]
    },
    {
      "cell_type": "markdown",
      "metadata": {
        "slideshow": {
          "slide_type": "subslide"
        }
      },
      "source": [
        "When you start the project, do the required tasks first\n\nAfter completing the required tasks, add your own ideas to the project"
      ]
    },
    {
      "cell_type": "markdown",
      "metadata": {
        "slideshow": {
          "slide_type": "subslide"
        }
      },
      "source": [
        "Projects:\n- Top-Trumps\n- Search\n- Spreadsheet Analysis"
      ]
    },
    {
      "cell_type": "markdown",
      "metadata": {
        "slideshow": {
          "slide_type": "subslide"
        }
      },
      "source": [
        "**Exercise 6.1:** Read the project briefs and decide which project that you want to work on"
      ]
    },
    {
      "cell_type": "markdown",
      "metadata": {
        "slideshow": {
          "slide_type": "slide"
        }
      },
      "source": [
        "### teams"
      ]
    },
    {
      "cell_type": "markdown",
      "metadata": {
        "slideshow": {
          "slide_type": "subslide"
        }
      },
      "source": [
        "**Exercise 6.2:** Get into teams of 2-3 people"
      ]
    },
    {
      "cell_type": "markdown",
      "metadata": {
        "slideshow": {
          "slide_type": "slide"
        }
      },
      "source": [
        "### Planning Requirements"
      ]
    },
    {
      "cell_type": "markdown",
      "metadata": {
        "slideshow": {
          "slide_type": "subslide"
        }
      },
      "source": [
        "After completing the project's required tasks, you can customise it with your own ideas"
      ]
    },
    {
      "cell_type": "markdown",
      "metadata": {
        "slideshow": {
          "slide_type": "subslide"
        }
      },
      "source": [
        "MoSCoW is a technique for prioritising requirements\n\nRequirements are put into four categories:\n\n- Must\n- Should\n- Could\n- Won't"
      ]
    },
    {
      "cell_type": "markdown",
      "metadata": {
        "slideshow": {
          "slide_type": "subslide"
        }
      },
      "source": [
        "A example list of requirements for a book search:\n- Users should be able to enter the book's name to search for it\n- The price of the book should be shown on the search results\n- The user should be able to order the book from Amazon\n- The author of the book should be shown in the search results\n- The book's front cover should be shown in the search results"
      ]
    },
    {
      "cell_type": "markdown",
      "metadata": {
        "slideshow": {
          "slide_type": "subslide"
        }
      },
      "source": [
        "Prioritised list of requirements:\n\nMust\n- Users should be able to enter the book's name to search for it\n- The author of the book should be shown in the search results\n\nShould\n- The price of the book should be shown on the search results\n\nCould\n- The book's front cover should be shown in the search results\n\nWon't\n- The user should be able to order the book from Amazon"
      ]
    },
    {
      "cell_type": "markdown",
      "metadata": {
        "slideshow": {
          "slide_type": "subslide"
        }
      },
      "source": [
        "**Exercise 6.3:** Come up with ideas for your project\n\n1. Individually, come up with as many ideas for the project as possible\n2. Share one of your ideas with the team, going around each team member until all ideas have been covered\n3. As a team, prioritise the ideas into \"Must, Should, Could, Won't\""
      ]
    },
    {
      "cell_type": "markdown",
      "metadata": {
        "slideshow": {
          "slide_type": "slide"
        }
      },
      "source": [
        "### Project Work"
      ]
    },
    {
      "cell_type": "markdown",
      "metadata": {
        "slideshow": {
          "slide_type": "subslide"
        }
      },
      "source": [
        "Work on your project with your team\n\n\nTips:\n- Write your code as functions\n- Share your code with other team members frequently\n- Try to break down big tasks into smaller chunks"
      ]
    },
    {
      "cell_type": "markdown",
      "metadata": {
        "slideshow": {
          "slide_type": "slide"
        }
      },
      "source": [
        "**Session Recap**"
      ]
    },
    {
      "cell_type": "markdown",
      "metadata": {
        "slideshow": {
          "slide_type": "subslide"
        }
      },
      "source": [
        "**Question 1:** Name the four categories for MSCoW"
      ]
    },
    {
      "cell_type": "markdown",
      "metadata": {
        "slideshow": {
          "slide_type": "slide"
        }
      },
      "source": [
        "**Homework:** Continue working on your projects"
      ]
    }
  ],
  "metadata": {
    "kernelspec": {
      "display_name": "Python 3",
      "language": "python",
      "name": "python3"
    },
    "language_info": {
      "codemirror_mode": {
        "name": "ipython",
        "version": 3
      },
      "file_extension": ".py",
      "mimetype": "text/x-python",
      "name": "python",
      "nbconvert_exporter": "python",
      "pygments_lexer": "ipython3",
      "version": "3.6.7"
    },
    "livereveal": {
      "scroll": true,
      "progress": true,
      "start_slideshow_at": "selected",
      "footer": "<img src=\"images/logo.png\" style=\"margin-left: 20px; margin-bottom: 20px;\"/>"
    },
    "rise": {
      "enable_chalkboard": true
    }
  },
  "nbformat": 4,
  "nbformat_minor": 2
}