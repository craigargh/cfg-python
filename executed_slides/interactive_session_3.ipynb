{
 "cells": [
  {
   "cell_type": "markdown",
   "metadata": {
    "slideshow": {
     "slide_type": "slide"
    }
   },
   "source": [
    "**Starter:** Rewrite this code to use a for loop and the `range()` function:\n",
    "\n",
    "```python\n",
    "print('~' * 0)\n",
    "print('~' * 1)\n",
    "print('~' * 2)\n",
    "print('~' * 3)\n",
    "print('~' * 4)\n",
    "print('~' * 5)\n",
    "print('~' * 6)\n",
    "print('~' * 7)\n",
    "print('~' * 8)\n",
    "```"
   ]
  },
  {
   "cell_type": "markdown",
   "metadata": {
    "slideshow": {
     "slide_type": "subslide"
    }
   },
   "source": [
    "\n",
    "Starter solution\n",
    "\n"
   ]
  },
  {
   "cell_type": "code",
   "execution_count": 1,
   "metadata": {},
   "outputs": [
    {
     "name": "stdout",
     "output_type": "stream",
     "text": [
      "\n",
      "~\n",
      "~~\n",
      "~~~\n",
      "~~~~\n",
      "~~~~~\n",
      "~~~~~~\n",
      "~~~~~~~\n",
      "~~~~~~~~\n"
     ]
    }
   ],
   "source": [
    "for number in range(9):\n",
    "    print('~' * number)"
   ]
  },
  {
   "cell_type": "markdown",
   "metadata": {
    "slideshow": {
     "slide_type": "slide"
    }
   },
   "source": [
    "![Code First: Girls](images/logo_large.png)\n",
    "\n",
    "#### Python Session 3"
   ]
  },
  {
   "cell_type": "markdown",
   "metadata": {
    "slideshow": {
     "slide_type": "subslide"
    }
   },
   "source": [
    "Topics in this session:\n",
    "1. Comparison Operators\n",
    "1. Logical Operators\n",
    "1. If Statements"
   ]
  },
  {
   "cell_type": "markdown",
   "metadata": {
    "slideshow": {
     "slide_type": "slide"
    }
   },
   "source": [
    "### Comparisons and Logical Operators"
   ]
  },
  {
   "cell_type": "markdown",
   "metadata": {
    "slideshow": {
     "slide_type": "subslide"
    }
   },
   "source": [
    "**Bolean:** A data-type that is either `True` or `False`\n",
    "\n",
    "**Comparison operator:** compare values to determine wheter something is `True` or `False`"
   ]
  },
  {
   "cell_type": "markdown",
   "metadata": {
    "slideshow": {
     "slide_type": "subslide"
    }
   },
   "source": [
    "\n",
    "This code checks if the user has input `'Monday'` using the `==` operator\n",
    "\n"
   ]
  },
  {
   "cell_type": "code",
   "execution_count": 2,
   "metadata": {},
   "outputs": [
    {
     "name": "stdout",
     "output_type": "stream",
     "text": [
      "What day is it? Monday\n",
      "Today is Monday: True\n"
     ]
    }
   ],
   "source": [
    "today = input('What day is it? ')\n",
    "\n",
    "is_monday = today == 'Monday'\n",
    "\n",
    "print('Today is Monday: {}'.format(is_monday))"
   ]
  },
  {
   "cell_type": "markdown",
   "metadata": {
    "slideshow": {
     "slide_type": "subslide"
    }
   },
   "source": [
    "Summary of comparison operators in Python\n",
    "\n",
    "Name | Python\n",
    "---|---\n",
    "Equal to | `==`\n",
    "Not equal | `!=`\n",
    "Greater than | `>`\n",
    "Less than | `<`\n",
    "Greater than or equal | `>=`\n",
    "Less than or equal | `<=`"
   ]
  },
  {
   "cell_type": "markdown",
   "metadata": {
    "slideshow": {
     "slide_type": "subslide"
    }
   },
   "source": [
    "\n",
    "`float()` can convert strings to floats\n",
    "\n",
    "This code checks if the current temperature is freezing:\n",
    "\n"
   ]
  },
  {
   "cell_type": "code",
   "execution_count": 3,
   "metadata": {},
   "outputs": [
    {
     "name": "stdout",
     "output_type": "stream",
     "text": [
      "What is the temperature? 18\n",
      "The temperature is freezing: False\n"
     ]
    }
   ],
   "source": [
    "temperature = input('What is the temperature? ')\n",
    "\n",
    "is_freezing = float(temperature) <= 0.0\n",
    "\n",
    "print('The temperature is freezing: {}'.format(is_freezing))"
   ]
  },
  {
   "cell_type": "markdown",
   "metadata": {
    "slideshow": {
     "slide_type": "subslide"
    }
   },
   "source": [
    "\n",
    "**Exercise 3.1:** You have a budget of £10 and want to write a program to decide which burger restaurant to go to.\n",
    "\n",
    "1. Input the `price` of a burger using `input()`\n",
    "1. Check whether the `price` is less than or equal (`<=`) `10.00`\n",
    "1. Print the result in the format below\n",
    "\n",
    "```bash\n",
    "Burger is within budget: True\n",
    "```\n",
    "\n",
    "**Hint:** remember to convert the input from a string to a decimal with `float()`\n",
    "\n"
   ]
  },
  {
   "cell_type": "markdown",
   "metadata": {
    "slideshow": {
     "slide_type": "subslide"
    }
   },
   "source": [
    "\n",
    "Solution\n",
    "\n"
   ]
  },
  {
   "cell_type": "code",
   "execution_count": 4,
   "metadata": {},
   "outputs": [
    {
     "name": "stdout",
     "output_type": "stream",
     "text": [
      "How much is a burger? 8.99\n",
      "Burger is within budget: True\n"
     ]
    }
   ],
   "source": [
    "price = input('How much is a burger? ')\n",
    "\n",
    "within_budget = float(price) <= 10.00\n",
    "\n",
    "print('Burger is within budget: {}'.format(within_budget))"
   ]
  },
  {
   "cell_type": "markdown",
   "metadata": {
    "slideshow": {
     "slide_type": "subslide"
    }
   },
   "source": [
    "There are logical operators to combine multiple checks\n",
    "\n",
    "Python | What it does\n",
    "---|---\n",
    "and | both expressions are `True`\n",
    "or | at least one expression is `True`\n",
    "not | reverse the expression (`True` becomes `False` and vice-versa)"
   ]
  },
  {
   "cell_type": "markdown",
   "metadata": {
    "slideshow": {
     "slide_type": "subslide"
    }
   },
   "source": [
    "\n",
    "This program will work out if you should visit Mars based on whether you want to visit and if you can afford it:\n",
    "\n"
   ]
  },
  {
   "cell_type": "code",
   "execution_count": 5,
   "metadata": {},
   "outputs": [
    {
     "name": "stdout",
     "output_type": "stream",
     "text": [
      "Would you like to visit Mars? y/n y\n",
      "Can you afford to visit Mars? y/n n\n",
      "You should visit Mars: False\n"
     ]
    }
   ],
   "source": [
    "mars_choice = input('Would you like to visit Mars? y/n ')\n",
    "is_willing = mars_choice == 'y'\n",
    "\n",
    "affordable = input('Can you afford to visit Mars? y/n ')\n",
    "can_afford = affordable == 'y'\n",
    "\n",
    "should_visit_mars = is_willing and can_afford\n",
    "\n",
    "print('You should visit Mars: {}'.format(should_visit_mars))"
   ]
  },
  {
   "cell_type": "markdown",
   "metadata": {
    "slideshow": {
     "slide_type": "subslide"
    }
   },
   "source": [
    "\n",
    "**Exercise 3.2:** Add code to your burger program to input whether the restaurant has a vegetarian option\n",
    "\n",
    "The output should say whether the cost is within budget **AND** has a vegetarian option\n",
    "\n",
    "```bash\n",
    "Restaurant meets criteria: True\n",
    "```\n",
    "\n"
   ]
  },
  {
   "cell_type": "markdown",
   "metadata": {
    "slideshow": {
     "slide_type": "subslide"
    }
   },
   "source": [
    "\n",
    "Solution:\n",
    "\n"
   ]
  },
  {
   "cell_type": "code",
   "execution_count": 6,
   "metadata": {},
   "outputs": [
    {
     "name": "stdout",
     "output_type": "stream",
     "text": [
      "How much is a burger? 9.99\n",
      "Is there a vegetarian option? (y/n) y\n",
      "Restaurant meets criteria: True\n"
     ]
    }
   ],
   "source": [
    "price = input('How much is a burger? ')\n",
    "vegetarian = input('Is there a vegetarian option? (y/n) ')\n",
    "\n",
    "within_budget = float(price) <= 10.00\n",
    "has_vegetarian = vegetarian == 'y'\n",
    "\n",
    "is_good_choice = within_budget and has_vegetarian\n",
    "\n",
    "print('Restaurant meets criteria: {}'.format(is_good_choice))"
   ]
  },
  {
   "cell_type": "markdown",
   "metadata": {
    "slideshow": {
     "slide_type": "slide"
    }
   },
   "source": [
    "### If Statements"
   ]
  },
  {
   "cell_type": "markdown",
   "metadata": {
    "slideshow": {
     "slide_type": "subslide"
    }
   },
   "source": [
    "**if statement:** used to run a block of code depending on whether a condition is `True` or `False`"
   ]
  },
  {
   "cell_type": "code",
   "execution_count": 7,
   "metadata": {},
   "outputs": [
    {
     "name": "stdout",
     "output_type": "stream",
     "text": [
      "password: jumanji\n",
      "Success!\n"
     ]
    }
   ],
   "source": [
    "password = input('password: ')\n",
    "\n",
    "if password == 'jumanji':\n",
    "    print('Success!')"
   ]
  },
  {
   "cell_type": "markdown",
   "metadata": {
    "slideshow": {
     "slide_type": "subslide"
    }
   },
   "source": [
    "An `if` statement has the following:\n",
    "1. The `if` keyword\n",
    "1. A condition (comparison)\n",
    "1. A colon\n",
    "1. Body (indented four spaces)"
   ]
  },
  {
   "cell_type": "markdown",
   "metadata": {
    "slideshow": {
     "slide_type": "subslide"
    }
   },
   "source": [
    "![An if statement](images/if_statement.svg)"
   ]
  },
  {
   "cell_type": "markdown",
   "metadata": {
    "slideshow": {
     "slide_type": "subslide"
    }
   },
   "source": [
    "\n",
    "This program checks whether you are an admin and you have entered the right password:\n",
    "\n"
   ]
  },
  {
   "cell_type": "code",
   "execution_count": 8,
   "metadata": {},
   "outputs": [
    {
     "name": "stdout",
     "output_type": "stream",
     "text": [
      "What is your name? admin\n",
      "What is your password? tigers\n",
      "Go away\n"
     ]
    }
   ],
   "source": [
    "name = input(\"What is your name? \")\n",
    "is_admin = name == 'admin'\n",
    "\n",
    "password = input(\"What is your password? \")\n",
    "is_password_correct = password == 'dinosaurs'\n",
    "\n",
    "if is_admin and is_password_correct:\n",
    "    print('Welcome')\n",
    "\n",
    "if not is_admin or not is_password_correct:\n",
    "    print('Go away')"
   ]
  },
  {
   "cell_type": "markdown",
   "metadata": {
    "slideshow": {
     "slide_type": "subslide"
    }
   },
   "source": [
    "\n",
    "**Exercise 3.3:** Rewrite the output of your burger program to use if statements\n",
    "\n",
    "If it is a good choice it should be:\n",
    "\n",
    "```bash\n",
    "This restaurant is a great choice!\n",
    "```\n",
    "\n",
    "If it is **not** a good choice it should be:\n",
    "\n",
    "```bash\n",
    "Probably not a good idea\n",
    "```\n",
    "\n"
   ]
  },
  {
   "cell_type": "markdown",
   "metadata": {
    "slideshow": {
     "slide_type": "subslide"
    }
   },
   "source": [
    "\n",
    "Solution\n",
    "\n"
   ]
  },
  {
   "cell_type": "code",
   "execution_count": 9,
   "metadata": {},
   "outputs": [
    {
     "name": "stdout",
     "output_type": "stream",
     "text": [
      "How much is a burger? 9.99\n",
      "Is there a vegetarian option? (y/n) y\n",
      "This restaurant is a great choice!\n"
     ]
    }
   ],
   "source": [
    "price = input('How much is a burger? ')\n",
    "vegetarian = input('Is there a vegetarian option? (y/n) ')\n",
    "\n",
    "within_budget = float(price) <= 10.00\n",
    "has_vegetarian = vegetarian == 'y'\n",
    "\n",
    "is_good_choice = within_budget and has_vegetarian\n",
    "\n",
    "if is_good_choice:\n",
    "    print('This restaurant is a great choice!')\n",
    "\n",
    "if not is_good_choice:\n",
    "    print('Probably not a good idea')"
   ]
  },
  {
   "cell_type": "markdown",
   "metadata": {
    "slideshow": {
     "slide_type": "slide"
    }
   },
   "source": [
    "### Else Statements"
   ]
  },
  {
   "cell_type": "markdown",
   "metadata": {
    "slideshow": {
     "slide_type": "subslide"
    }
   },
   "source": [
    "**else statement:** Used with an `if` statement and will run when the `if` condition is `False`"
   ]
  },
  {
   "cell_type": "code",
   "execution_count": 10,
   "metadata": {},
   "outputs": [
    {
     "name": "stdout",
     "output_type": "stream",
     "text": [
      "password: cluedo\n",
      "Failure!\n"
     ]
    }
   ],
   "source": [
    "password = input('password: ')\n",
    "\n",
    "if password == 'jumanji':\n",
    "    print('Success!')\n",
    "else:\n",
    "    print('Failure!')"
   ]
  },
  {
   "cell_type": "markdown",
   "metadata": {
    "slideshow": {
     "slide_type": "subslide"
    }
   },
   "source": [
    "\n",
    "Here's the admin program rewritten to use `else`:\n",
    "\n"
   ]
  },
  {
   "cell_type": "code",
   "execution_count": 12,
   "metadata": {},
   "outputs": [
    {
     "name": "stdout",
     "output_type": "stream",
     "text": [
      "What is your name? admin\n",
      "What is your password? tigers\n",
      "Go away\n"
     ]
    }
   ],
   "source": [
    "name = input(\"What is your name? \")\n",
    "is_admin = name == 'admin'\n",
    "\n",
    "password = input(\"What is your password? \")\n",
    "is_password_correct = password == 'dinosaurs'\n",
    "\n",
    "if is_admin and is_password_correct:\n",
    "    print('Welcome')\n",
    "\n",
    "else:\n",
    "    print('Go away')"
   ]
  },
  {
   "cell_type": "markdown",
   "metadata": {
    "slideshow": {
     "slide_type": "subslide"
    }
   },
   "source": [
    "\n",
    "**Exercise 3.4:** Now that you've finished your burger, you want to pay for your food. Let's write a program to calculate your meal and apply a discount if applicable. \n",
    "\n",
    "If your total meal costs more than £20 and you have a discount, the price will be reduced by 10%. The program should print \"Discount applied\" or \"No discount\" depending on whether the discount criteria was met.\n",
    "\n"
   ]
  },
  {
   "cell_type": "code",
   "execution_count": null,
   "metadata": {},
   "outputs": [],
   "source": [
    "meal_price = float(input('How much did the meal cost? '))\n",
    "\n",
    "discount_choice = input('Do you have a discount? y/n ')\n",
    "discount_applicable = discount_choice == 'y'"
   ]
  },
  {
   "cell_type": "markdown",
   "metadata": {
    "slideshow": {
     "slide_type": "subslide"
    }
   },
   "source": [
    "\n",
    "Solution\n",
    "\n"
   ]
  },
  {
   "cell_type": "code",
   "execution_count": 14,
   "metadata": {},
   "outputs": [
    {
     "name": "stdout",
     "output_type": "stream",
     "text": [
      "How much did the meal cost? 30\n",
      "Do you have a discount? y/n y\n",
      "Discount applied\n",
      "Total cost: 27.0\n"
     ]
    }
   ],
   "source": [
    "meal_price = float(input('How much did the meal cost? '))\n",
    "\n",
    "discount_choice = input('Do you have a discount? y/n ')\n",
    "discount_applicable = discount_choice == 'y'\n",
    "\n",
    "if discount_applicable:\n",
    "    meal_price = meal_price * 0.9\n",
    "    print('Discount applied')\n",
    "else:\n",
    "    print('No discount')\n",
    "\n",
    "print('Total cost: {}'.format(meal_price))"
   ]
  },
  {
   "cell_type": "markdown",
   "metadata": {
    "slideshow": {
     "slide_type": "slide"
    }
   },
   "source": [
    "### Elif Statements"
   ]
  },
  {
   "cell_type": "markdown",
   "metadata": {
    "slideshow": {
     "slide_type": "subslide"
    }
   },
   "source": [
    "**elif statement:** used after `if` statements to check whether another condition is `True` or `False`"
   ]
  },
  {
   "cell_type": "code",
   "execution_count": 15,
   "metadata": {},
   "outputs": [
    {
     "name": "stdout",
     "output_type": "stream",
     "text": [
      "How big is the dog? 10\n",
      "That is a small dog\n"
     ]
    }
   ],
   "source": [
    "dog_size = int(input('How big is the dog? '))\n",
    "\n",
    "if dog_size > 75:\n",
    "    print('That is a big dog')\n",
    "\n",
    "elif dog_size < 25:\n",
    "    print('That is a small dog')\n",
    "\n",
    "else:\n",
    "    print('That is an average dog')"
   ]
  },
  {
   "cell_type": "markdown",
   "metadata": {
    "slideshow": {
     "slide_type": "subslide"
    }
   },
   "source": [
    "\n",
    "You can use multiple `elif` statements together\n",
    "\n"
   ]
  },
  {
   "cell_type": "code",
   "execution_count": 16,
   "metadata": {},
   "outputs": [
    {
     "name": "stdout",
     "output_type": "stream",
     "text": [
      "How big is the dog? 6\n",
      "That dog could fit in my pocket\n"
     ]
    }
   ],
   "source": [
    "dog_size = int(input('How big is the dog? '))\n",
    "\n",
    "if dog_size > 75:\n",
    "    print('That is a big dog')\n",
    "\n",
    "elif dog_size < 10:\n",
    "    print('That dog could fit in my pocket')\n",
    "\n",
    "elif dog_size < 25: \n",
    "    print('That is a small dog')\n",
    "\n",
    "else:\n",
    "    print('That is an average dog')"
   ]
  },
  {
   "cell_type": "markdown",
   "metadata": {
    "slideshow": {
     "slide_type": "subslide"
    }
   },
   "source": [
    "**Exercise 3.5:** You're cooking a pizza and need to check that the oven is at the right temperature. \n",
    "\n",
    "Write a program to:\n",
    "- Ask the user to input the temperature\n",
    "- Prints \"The oven is too hot\" if the temperature is over 200\n",
    "- Prints \"The oven is too cold\" if the temperature is under 150\n",
    "- Prints \"The oven is at the perfect temperature\" if the temperature is 180\n",
    "- Prints \"The temperature is close enough\" for any other temperature"
   ]
  },
  {
   "cell_type": "markdown",
   "metadata": {
    "slideshow": {
     "slide_type": "subslide"
    }
   },
   "source": [
    "\n",
    "Solution\n",
    "\n"
   ]
  },
  {
   "cell_type": "code",
   "execution_count": 17,
   "metadata": {},
   "outputs": [
    {
     "name": "stdout",
     "output_type": "stream",
     "text": [
      "What is the temperature of the oven? 170\n",
      "The temperature is close enough\n"
     ]
    }
   ],
   "source": [
    "temperature = float(input('What is the temperature of the oven? '))\n",
    "\n",
    "if temperature > 200:\n",
    "    print('The oven is too hot')\n",
    "elif temperature < 150:\n",
    "    print('The oven is too cold')\n",
    "elif temperature == 180:\n",
    "    print('The oven is at the perfect temperature')\n",
    "else:\n",
    "    print('The temperature is close enough')"
   ]
  },
  {
   "cell_type": "markdown",
   "metadata": {
    "slideshow": {
     "slide_type": "slide"
    }
   },
   "source": [
    "### Random"
   ]
  },
  {
   "cell_type": "markdown",
   "metadata": {
    "slideshow": {
     "slide_type": "subslide"
    }
   },
   "source": [
    "\n",
    "Python has a built-in library for random data\n",
    "\n"
   ]
  },
  {
   "cell_type": "code",
   "execution_count": 18,
   "metadata": {},
   "outputs": [
    {
     "name": "stdout",
     "output_type": "stream",
     "text": [
      "50\n"
     ]
    }
   ],
   "source": [
    "import random\n",
    "\n",
    "random_integer = random.randint(1, 100)\n",
    "\n",
    "print(random_integer)"
   ]
  },
  {
   "cell_type": "markdown",
   "metadata": {
    "slideshow": {
     "slide_type": "subslide"
    }
   },
   "source": [
    "\n",
    "The `randint()` function generates a random number between two values\n",
    "\n",
    "This program uses `randint()` to simulate dice with any number of sides\n",
    "\n"
   ]
  },
  {
   "cell_type": "code",
   "execution_count": 19,
   "metadata": {},
   "outputs": [
    {
     "name": "stdout",
     "output_type": "stream",
     "text": [
      "How many sides does the die have? 6\n",
      "You rolled a 2\n"
     ]
    }
   ],
   "source": [
    "import random\n",
    "\n",
    "sides = int(input('How many sides does the die have? '))\n",
    "random_integer = random.randint(1, sides)\n",
    "\n",
    "print('You rolled a {}'.format(random_integer))"
   ]
  },
  {
   "cell_type": "markdown",
   "metadata": {
    "slideshow": {
     "slide_type": "subslide"
    }
   },
   "source": [
    "To practice if statements choose one of the following exercises in your student guide:\n",
    "- Exercise 3.6: Flip a coin\n",
    "- Exercise 3.7: Rock, Scissors, Paper\n",
    "- Exercise 3.8: Roulette"
   ]
  },
  {
   "cell_type": "markdown",
   "metadata": {
    "slideshow": {
     "slide_type": "subslide"
    }
   },
   "source": [
    "\n",
    "**Exercise 3.6:** This program uses random to simulate a coin flip.\n",
    "\n",
    "To finish the program you will need to add the following:\n",
    "- If the random coin flip matches the choice input by the user then they win\n",
    "- Ohterwise if the random coin flip does not match the choice input by the user then they lose\n",
    "\n"
   ]
  },
  {
   "cell_type": "code",
   "execution_count": null,
   "metadata": {},
   "outputs": [],
   "source": [
    "import random\n",
    "\n",
    "def flip_coin():\n",
    "    random_number = random.randint(1, 2)\n",
    "    if random_number == 1:\n",
    "        side = 'heads'\n",
    "    else:\n",
    "        side = 'tails'\n",
    "    return side\n",
    "\n",
    "choice = input('heads or tails: ')\n",
    "result = flip_coin()\n",
    "\n",
    "print('The coin landed on {}'.format(result))"
   ]
  },
  {
   "cell_type": "markdown",
   "metadata": {
    "slideshow": {
     "slide_type": "subslide"
    }
   },
   "source": [
    "\n",
    "**Exercise 3.7:** This program simulates rock, paper, scissors. The first winning condition has been added. To finish the program you'll need to add all of the other winning and losing conditions.\n",
    "\n"
   ]
  },
  {
   "cell_type": "code",
   "execution_count": null,
   "metadata": {},
   "outputs": [],
   "source": [
    "import random\n",
    "\n",
    "def random_choice():\n",
    "    choice_number = random.randint(1, 3)\n",
    "\n",
    "    if choice_number == 1:\n",
    "        choice = 'rock'\n",
    "    elif choice_number == 2:\n",
    "        choice = 'scissors'\n",
    "    else:\n",
    "        choice = 'paper'\n",
    "\n",
    "    return choice\n",
    "\n",
    "my_choice = input('Choose rock, scissors or paper: ')\n",
    "opponent_choice = random_choice()\n",
    "\n",
    "print('Your opponent chose {}'.format(opponent_choice))\n",
    "\n",
    "if my_choice == 'rock' and opponent_choice == 'scissors':\n",
    "    print('You win!')"
   ]
  },
  {
   "cell_type": "markdown",
   "metadata": {
    "slideshow": {
     "slide_type": "subslide"
    }
   },
   "source": [
    "\n",
    "**Exercise 3.8:** Not Quite Roulette\n",
    "\n",
    "Ask the user to enter the following three things using `input()`:\n",
    "- The amount they want to bet\n",
    "- A colour (red or black)\n",
    "- A number between 1 and 100\n",
    "\n",
    "After generating a random number and colour:\n",
    "- If the colour matches, the users keeps the amount that was bet\n",
    "- If the number matches, the users wins double the amount that was bet\n",
    "- If the colour and number matches, the users wins 100 times the amount that was bet\n",
    "- When neither the colour or number matches the user wins 0\n",
    "- Output the amount the user won\n",
    "\n",
    "The following code will generate a random number and colour:\n",
    "\n"
   ]
  },
  {
   "cell_type": "code",
   "execution_count": null,
   "metadata": {},
   "outputs": [],
   "source": [
    "import random\n",
    "\n",
    "\n",
    "def colour():\n",
    "    random_number = random.randint(1, 2)\n",
    "\n",
    "    if random_number == 1:\n",
    "        colour = 'red'\n",
    "    else:\n",
    "        colour = 'black'\n",
    "\n",
    "    return colour\n",
    "\n",
    "\n",
    "random_number = random.randint(1, 100)\n",
    "random_colour = colour()"
   ]
  },
  {
   "cell_type": "markdown",
   "metadata": {
    "slideshow": {
     "slide_type": "slide"
    }
   },
   "source": [
    "### Recap"
   ]
  },
  {
   "cell_type": "markdown",
   "metadata": {
    "slideshow": {
     "slide_type": "subslide"
    }
   },
   "source": [
    "This session:\n",
    "1. Comparison operators \n",
    "1. Logical Operators\n",
    "1. If Statements"
   ]
  },
  {
   "cell_type": "markdown",
   "metadata": {
    "slideshow": {
     "slide_type": "subslide"
    }
   },
   "source": [
    "**Question 1:** Equals to (==) is a comparison operator. Name two more comparison operators"
   ]
  },
  {
   "cell_type": "markdown",
   "metadata": {
    "slideshow": {
     "slide_type": "subslide"
    }
   },
   "source": [
    "\n",
    "**Question 2:** What is the output of this code?\n",
    "\n"
   ]
  },
  {
   "cell_type": "code",
   "execution_count": null,
   "metadata": {},
   "outputs": [],
   "source": [
    "print(True and True)\n",
    "print(True and False)\n",
    "print(True or True)\n",
    "print(True or False)"
   ]
  },
  {
   "cell_type": "markdown",
   "metadata": {
    "slideshow": {
     "slide_type": "subslide"
    }
   },
   "source": [
    "\n",
    "**Question 3:** I expect this code to output \"This is too many apples\", but instead it outputs \"That is a sensible number of apples\". Why does this happen?\n",
    "\n"
   ]
  },
  {
   "cell_type": "code",
   "execution_count": null,
   "metadata": {},
   "outputs": [],
   "source": [
    "apples = 100\n",
    "\n",
    "if apples >= 10:\n",
    "    print('That is a sensible number of apples')\n",
    "elif apples > 50:\n",
    "    print('This is too many apples')\n",
    "elif apples < 10:\n",
    "    print('That is not enough apples')"
   ]
  },
  {
   "cell_type": "markdown",
   "metadata": {
    "slideshow": {
     "slide_type": "slide"
    }
   },
   "source": [
    "**Homework:** Session 3 homework questions in your student guide"
   ]
  }
 ],
 "metadata": {
  "kernelspec": {
   "display_name": "Python 3",
   "language": "python",
   "name": "python3"
  },
  "language_info": {
   "codemirror_mode": {
    "name": "ipython",
    "version": 3
   },
   "file_extension": ".py",
   "mimetype": "text/x-python",
   "name": "python",
   "nbconvert_exporter": "python",
   "pygments_lexer": "ipython3",
   "version": "3.6.7"
  },
  "livereveal": {
   "footer": "<img src=\"images/logo.png\" style=\"margin-left: 20px; margin-bottom: 20px;\"/>",
   "progress": true,
   "scroll": true,
   "start_slideshow_at": "selected"
  },
  "rise": {
   "enable_chalkboard": true
  }
 },
 "nbformat": 4,
 "nbformat_minor": 2
}
