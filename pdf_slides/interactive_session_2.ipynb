{
 "cells": [
  {
   "cell_type": "markdown",
   "metadata": {
    "slideshow": {
     "slide_type": "slide"
    }
   },
   "source": [
    "**Starter:** There are three mistakes in this program. What are the mistakes and how do you fix them?\n",
    "\n",
    "```python\n",
    "name = Jess\n",
    "age = 20\n",
    "\n",
    "print('My name is {} and I am {} years old').format(age, name) \n",
    "```"
   ]
  },
  {
   "cell_type": "markdown",
   "metadata": {
    "slideshow": {
     "slide_type": "slide"
    }
   },
   "source": [
    "![Code First: Girls](images/logo_large.png)\n",
    "\n",
    "#### Python Session 2"
   ]
  },
  {
   "cell_type": "markdown",
   "metadata": {
    "slideshow": {
     "slide_type": "subslide"
    }
   },
   "source": [
    "This session:\n",
    "\n",
    "1. User Input\n",
    "1. Importing modules\n",
    "1. Problem solving with Turtle\n",
    "1. For Loops\n",
    "1. Functions"
   ]
  },
  {
   "cell_type": "markdown",
   "metadata": {
    "slideshow": {
     "slide_type": "subslide"
    }
   },
   "source": [
    "By the end of this you will be able to:\n",
    "\n",
    "- Construct programs that use user input\n",
    "- Describe the purpose of Python modules\n",
    "- Solve problems to create drawings using the Turtle module\n",
    "- Modify duplicated code to use for Loops \n",
    "- Construct reusable functions"
   ]
  },
  {
   "cell_type": "markdown",
   "metadata": {
    "slideshow": {
     "slide_type": "slide"
    }
   },
   "source": [
    "### User Input"
   ]
  },
  {
   "cell_type": "markdown",
   "metadata": {
    "slideshow": {
     "slide_type": "subslide"
    }
   },
   "source": [
    "The `input()` function allows you to input data after the program has started running"
   ]
  },
  {
   "cell_type": "markdown",
   "metadata": {
    "slideshow": {
     "slide_type": "subslide"
    }
   },
   "source": [
    "\n",
    "This program uses input to ask what your name is\n",
    "\n"
   ]
  },
  {
   "cell_type": "code",
   "execution_count": 1,
   "metadata": {},
   "outputs": [
    {
     "name": "stdout",
     "output_type": "stream",
     "text": [
      "What is you name? Jess\n",
      "Hello, Jess\n"
     ]
    }
   ],
   "source": [
    "name = input('What is you name? ')\n",
    "print('Hello, {}'.format(name))"
   ]
  },
  {
   "cell_type": "markdown",
   "metadata": {
    "slideshow": {
     "slide_type": "subslide"
    }
   },
   "source": [
    "[GIF OF USING input()]"
   ]
  },
  {
   "cell_type": "markdown",
   "metadata": {
    "slideshow": {
     "slide_type": "subslide"
    }
   },
   "source": [
    "\n",
    "**Exercise 2.1:** Write a program that asks two questions using `input()` then prints the values that were entered. You can choose any questions that you want.\n",
    "\n",
    "Example:\n",
    "\n"
   ]
  },
  {
   "cell_type": "code",
   "execution_count": 2,
   "metadata": {},
   "outputs": [
    {
     "name": "stdout",
     "output_type": "stream",
     "text": [
      "Do you like dogs or cats more? dogs\n",
      "What would name your pet? Fredward\n",
      "You like dogs and you would name your pet Fredward\n"
     ]
    }
   ],
   "source": [
    "animal = input('Do you like dogs or cats more? ')\n",
    "pet_name = input('What would name your pet? ')\n",
    "\n",
    "print('You like {} and you would name your pet {}'.format(animal, pet_name))"
   ]
  },
  {
   "cell_type": "markdown",
   "metadata": {
    "slideshow": {
     "slide_type": "subslide"
    }
   },
   "source": [
    "\n",
    "The `int()` function converts string value into integer values:\n",
    "\n"
   ]
  },
  {
   "cell_type": "code",
   "execution_count": 3,
   "metadata": {},
   "outputs": [
    {
     "name": "stdout",
     "output_type": "stream",
     "text": [
      "17\n"
     ]
    }
   ],
   "source": [
    "apples_string = '12'\n",
    "total_apples = int(apples_string) + 5\n",
    "\n",
    "print(total_apples) "
   ]
  },
  {
   "cell_type": "markdown",
   "metadata": {
    "slideshow": {
     "slide_type": "subslide"
    }
   },
   "source": [
    "\n",
    "The `input()` always returns a string value. You can convert this string value to an integer with `int()`:\n",
    "\n"
   ]
  },
  {
   "cell_type": "code",
   "execution_count": 4,
   "metadata": {},
   "outputs": [
    {
     "name": "stdout",
     "output_type": "stream",
     "text": [
      "How many apples did you buy? 31\n",
      "36\n"
     ]
    }
   ],
   "source": [
    "purchased_apples = input('How many apples did you buy? ')\n",
    "total_apples = int(purchased_apples) + 5\n",
    "\n",
    "print(total_apples)"
   ]
  },
  {
   "cell_type": "markdown",
   "metadata": {
    "slideshow": {
     "slide_type": "subslide"
    }
   },
   "source": [
    "\n",
    "**Exercise 2.2:** You have friends at your house for dinner and you've accidentaly burnt the lasagne. Time to order pizza.\n",
    "\n",
    "Write a program calculate how many pizzas you need to feed you and your friends\n",
    "\n"
   ]
  },
  {
   "cell_type": "code",
   "execution_count": null,
   "metadata": {},
   "outputs": [],
   "source": [
    "friends = # Add input here\n",
    "pizzas = friends * 0.5\n",
    "\n",
    "print('You need {} pizzas for {} friends'.format(pizzas, friends))"
   ]
  },
  {
   "cell_type": "markdown",
   "metadata": {
    "slideshow": {
     "slide_type": "subslide"
    }
   },
   "source": [
    "\n",
    "Solution\n",
    "\n"
   ]
  },
  {
   "cell_type": "code",
   "execution_count": 5,
   "metadata": {},
   "outputs": [
    {
     "name": "stdout",
     "output_type": "stream",
     "text": [
      "How many friends are at your house? 4\n",
      "You need 2.0 pizzas for 4 friends\n"
     ]
    }
   ],
   "source": [
    "friends = int(input('How many friends are at your house? '))\n",
    "pizzas = friends * 0.5\n",
    "\n",
    "print('You need {} pizzas for {} friends'.format(pizzas, friends))"
   ]
  },
  {
   "cell_type": "markdown",
   "metadata": {
    "slideshow": {
     "slide_type": "slide"
    }
   },
   "source": [
    "### Python Modules"
   ]
  },
  {
   "cell_type": "markdown",
   "metadata": {
    "slideshow": {
     "slide_type": "subslide"
    }
   },
   "source": [
    "**Module:** Code that someone else has written that you can reuse in your programs"
   ]
  },
  {
   "cell_type": "markdown",
   "metadata": {
    "slideshow": {
     "slide_type": "subslide"
    }
   },
   "source": [
    "\n",
    "Modules are imported into your Python programs:\n",
    "\n"
   ]
  },
  {
   "cell_type": "code",
   "execution_count": null,
   "metadata": {},
   "outputs": [],
   "source": [
    "import turtle"
   ]
  },
  {
   "cell_type": "markdown",
   "metadata": {},
   "source": [
    "\n",
    "Turtle is module for creating basic drawings.\n",
    "\n",
    "\n"
   ]
  },
  {
   "cell_type": "markdown",
   "metadata": {
    "slideshow": {
     "slide_type": "slide"
    }
   },
   "source": [
    "### Problem Solving (with Turtle)"
   ]
  },
  {
   "cell_type": "markdown",
   "metadata": {
    "slideshow": {
     "slide_type": "subslide"
    }
   },
   "source": [
    "\n",
    "After importing a module you can use the module's functions:\n",
    "\n"
   ]
  },
  {
   "cell_type": "code",
   "execution_count": null,
   "metadata": {},
   "outputs": [],
   "source": [
    "import turtle\n",
    "\n",
    "turtle.forward(100)\n",
    "turtle.right(130)\n",
    "turtle.forward(100)\n",
    "\n",
    "turtle.done()"
   ]
  },
  {
   "cell_type": "markdown",
   "metadata": {
    "slideshow": {
     "slide_type": "subslide"
    }
   },
   "source": [
    "`turtle.forward(100)` moves the turtle forward by a number of pixels\n",
    "\n",
    "`turtle.right(130)` rotates the turtle by a number of degrees\n",
    "\n",
    "`turtle.done()` tells the turtle that you've finished giving it commands. Without this it will wait for new commands (if run from the shell) or disappear (if run from file)."
   ]
  },
  {
   "cell_type": "markdown",
   "metadata": {
    "slideshow": {
     "slide_type": "subslide"
    }
   },
   "source": [
    "You can change the turtle's speed:\n",
    "\n",
    "- `turtle.speed('slowest')` for slow\n",
    "- `turtle.speed('fastest')` for fast"
   ]
  },
  {
   "cell_type": "markdown",
   "metadata": {
    "slideshow": {
     "slide_type": "subslide"
    }
   },
   "source": [
    "\n",
    "A square has **four** sides and an angle of **ninety** degrees:\n",
    "\n"
   ]
  },
  {
   "cell_type": "code",
   "execution_count": null,
   "metadata": {},
   "outputs": [],
   "source": [
    "import turtle\n",
    "\n",
    "turtle.forward(100)\n",
    "turtle.right(90)\n",
    "\n",
    "turtle.forward(100)\n",
    "turtle.right(90)\n",
    "\n",
    "turtle.forward(100)\n",
    "turtle.right(90)\n",
    "\n",
    "turtle.forward(100)\n",
    "turtle.right(90)\n",
    "\n",
    "turtle.done()"
   ]
  },
  {
   "cell_type": "markdown",
   "metadata": {
    "slideshow": {
     "slide_type": "subslide"
    }
   },
   "source": [
    "\n",
    "Variables can be used to set the angles and size of your shapes:\n",
    "\n"
   ]
  },
  {
   "cell_type": "code",
   "execution_count": null,
   "metadata": {},
   "outputs": [],
   "source": [
    "import turtle\n",
    "\n",
    "side_length = 200\n",
    "angle = 90\n",
    "\n",
    "turtle.forward(side_length)\n",
    "turtle.right(angle)\n",
    "\n",
    "turtle.forward(side_length)\n",
    "turtle.right(angle)\n",
    "\n",
    "turtle.forward(side_length)\n",
    "turtle.right(angle)\n",
    "\n",
    "turtle.forward(side_length)\n",
    "turtle.right(angle)\n",
    "\n",
    "turtle.done()"
   ]
  },
  {
   "cell_type": "markdown",
   "metadata": {
    "slideshow": {
     "slide_type": "subslide"
    }
   },
   "source": [
    "\n",
    "You can play around with filling the shape and colors:\n",
    "\n"
   ]
  },
  {
   "cell_type": "code",
   "execution_count": null,
   "metadata": {},
   "outputs": [],
   "source": [
    "import turtle\n",
    "\n",
    "side_length = 200\n",
    "angle = 90\n",
    "\n",
    "turtle.color('red', 'pink')\n",
    "turtle.begin_fill()\n",
    "\n",
    "turtle.forward(side_length)\n",
    "turtle.right(angle)\n",
    "\n",
    "turtle.forward(side_length)\n",
    "turtle.right(angle)\n",
    "\n",
    "turtle.forward(side_length)\n",
    "turtle.right(angle)\n",
    "\n",
    "turtle.forward(side_length)\n",
    "turtle.right(angle)\n",
    "\n",
    "turtle.end_fill()\n",
    "\n",
    "turtle.done()"
   ]
  },
  {
   "cell_type": "markdown",
   "metadata": {
    "slideshow": {
     "slide_type": "subslide"
    }
   },
   "source": [
    "**Exercise 2.3:** Create a new file called `triangle.py`. Using `turtle` draw a triangle.\n",
    "\n",
    "A triangle has **three** sides and an angle of **120** degrees\n",
    "\n",
    "**Extension:** Make the triangle blue"
   ]
  },
  {
   "cell_type": "markdown",
   "metadata": {
    "slideshow": {
     "slide_type": "subslide"
    }
   },
   "source": [
    "\n",
    "Solution\n",
    "\n"
   ]
  },
  {
   "cell_type": "code",
   "execution_count": null,
   "metadata": {},
   "outputs": [],
   "source": [
    "import turtle\n",
    "\n",
    "side_length = 100\n",
    "angle = 120\n",
    "\n",
    "turtle.forward(side_length)\n",
    "turtle.right(angle)\n",
    "\n",
    "turtle.forward(side_length)\n",
    "turtle.right(angle)\n",
    "\n",
    "turtle.forward(side_length)\n",
    "turtle.right(angle)\n",
    "\n",
    "turtle.done()"
   ]
  },
  {
   "cell_type": "markdown",
   "metadata": {
    "slideshow": {
     "slide_type": "subslide"
    }
   },
   "source": [
    "\n",
    "Extension Solution\n",
    "\n"
   ]
  },
  {
   "cell_type": "code",
   "execution_count": null,
   "metadata": {},
   "outputs": [],
   "source": [
    "import turtle\n",
    "\n",
    "side_length = 100\n",
    "angle = 120\n",
    "\n",
    "turtle.color('blue', 'blue')\n",
    "turtle.begin_fill()\n",
    "\n",
    "turtle.forward(side_length)\n",
    "turtle.right(angle)\n",
    "\n",
    "turtle.forward(side_length)\n",
    "turtle.right(angle)\n",
    "\n",
    "turtle.forward(side_length)\n",
    "turtle.right(angle)\n",
    "\n",
    "\n",
    "turtle.end_fill()\n",
    "\n",
    "turtle.done()"
   ]
  },
  {
   "cell_type": "markdown",
   "metadata": {
    "slideshow": {
     "slide_type": "slide"
    }
   },
   "source": [
    "### For Loops"
   ]
  },
  {
   "cell_type": "markdown",
   "metadata": {
    "slideshow": {
     "slide_type": "subslide"
    }
   },
   "source": [
    "\n",
    "**`for` loop:** allows you to repeat a block of code multiple times\n",
    "\n"
   ]
  },
  {
   "cell_type": "code",
   "execution_count": null,
   "metadata": {},
   "outputs": [],
   "source": [
    "for number in range(100):\n",
    "    print(number)"
   ]
  },
  {
   "cell_type": "markdown",
   "metadata": {
    "slideshow": {
     "slide_type": "subslide"
    }
   },
   "source": [
    "A `for` loop has\n",
    "- A `for` operator\n",
    "- A variable name that stores each list value one at a time\n",
    "- An `in` operator\n",
    "- A list of values\n",
    "- A body (indented four spaces)"
   ]
  },
  {
   "cell_type": "markdown",
   "metadata": {
    "slideshow": {
     "slide_type": "subslide"
    }
   },
   "source": [
    "\n",
    "The pre-written `range()` function can be used to make a `for` loop repeat a certain number of times. \n",
    "\n",
    "The `range()` function starts counting from `0`\n",
    "\n"
   ]
  },
  {
   "cell_type": "code",
   "execution_count": 6,
   "metadata": {},
   "outputs": [
    {
     "name": "stdout",
     "output_type": "stream",
     "text": [
      "0\n",
      "1\n",
      "2\n",
      "3\n",
      "4\n"
     ]
    }
   ],
   "source": [
    "for number in range(5):\n",
    "    print(number)"
   ]
  },
  {
   "cell_type": "markdown",
   "metadata": {
    "slideshow": {
     "slide_type": "subslide"
    }
   },
   "source": [
    "\n",
    "For loops are really useful for repeating code. Notice in the original code for the square that you repeat the same bit of code four times:\n",
    "\n"
   ]
  },
  {
   "cell_type": "code",
   "execution_count": null,
   "metadata": {},
   "outputs": [],
   "source": [
    "import turtle\n",
    "\n",
    "side_length = 200\n",
    "angle = 90\n",
    "\n",
    "turtle.forward(side_length)\n",
    "turtle.right(angle)\n",
    "\n",
    "turtle.forward(side_length)\n",
    "turtle.right(angle)\n",
    "\n",
    "turtle.forward(side_length)\n",
    "turtle.right(angle)\n",
    "\n",
    "turtle.forward(side_length)\n",
    "turtle.right(angle)\n",
    "\n",
    "turtle.done()"
   ]
  },
  {
   "cell_type": "markdown",
   "metadata": {
    "slideshow": {
     "slide_type": "subslide"
    }
   },
   "source": [
    "\n",
    "Using a for loop you can simplify the program:\n",
    "\n"
   ]
  },
  {
   "cell_type": "code",
   "execution_count": null,
   "metadata": {},
   "outputs": [],
   "source": [
    "import turtle\n",
    "\n",
    "side_length = 200\n",
    "angle = 90\n",
    "\n",
    "for side in range(4):\n",
    "    turtle.forward(side_length)\n",
    "    turtle.right(angle)\n",
    "\n",
    "turtle.done()"
   ]
  },
  {
   "cell_type": "markdown",
   "metadata": {
    "slideshow": {
     "slide_type": "subslide"
    }
   },
   "source": [
    "\n",
    "**Exercise 2.4: Choose your sides**\n",
    "\n",
    "In this exercise you'll create a program that can draw shapes with any number of sides.\n",
    "\n",
    "When you run the program it will ask you to input the number of sides that the shape should have. The program will then calculate the correct angle for the shape and draw it for you.\n",
    "\n",
    "I've started the program for you:\n",
    "\n"
   ]
  },
  {
   "cell_type": "code",
   "execution_count": null,
   "metadata": {},
   "outputs": [],
   "source": [
    "import turtle\n",
    "\n",
    "sides = int(input('Number of sides: ')) \n",
    "\n",
    "angle = 360 / sides\n",
    "side_length = 60\n",
    "\n",
    "# Add the for loop here\n",
    "turtle.forward(side_length)\n",
    "turtle.right(angle)\n",
    "\n",
    "turtle.done()"
   ]
  },
  {
   "cell_type": "markdown",
   "metadata": {
    "slideshow": {
     "slide_type": "subslide"
    }
   },
   "source": [
    "\n",
    "Solution\n",
    "\n",
    "\n"
   ]
  },
  {
   "cell_type": "code",
   "execution_count": null,
   "metadata": {},
   "outputs": [],
   "source": [
    "import turtle\n",
    "\n",
    "sides = int(input('Number of sides: ')) \n",
    "\n",
    "angle = 360 / sides\n",
    "side_length = 60\n",
    "\n",
    "for side in range(sides):\n",
    "    turtle.forward(side_length)\n",
    "    turtle.right(angle)\n",
    "\n",
    "turtle.done()"
   ]
  },
  {
   "cell_type": "markdown",
   "metadata": {
    "slideshow": {
     "slide_type": "slide"
    }
   },
   "source": [
    "### Functions"
   ]
  },
  {
   "cell_type": "markdown",
   "metadata": {
    "slideshow": {
     "slide_type": "subslide"
    }
   },
   "source": [
    "**Function:** A reusable block of code"
   ]
  },
  {
   "cell_type": "code",
   "execution_count": null,
   "metadata": {},
   "outputs": [],
   "source": [
    "import turtle\n",
    "\n",
    "\n",
    "def square():\n",
    "    side_length = 100\n",
    "    angle = 90\n",
    "\n",
    "    for side in range(4):\n",
    "        turtle.forward(side_length)\n",
    "        turtle.right(angle)"
   ]
  },
  {
   "cell_type": "markdown",
   "metadata": {
    "slideshow": {
     "slide_type": "subslide"
    }
   },
   "source": [
    "All functions have\n",
    "1. a `def` operator\n",
    "1. a name\n",
    "1. brackets\n",
    "1. a colon\n",
    "1. body (indented 4 spaces)"
   ]
  },
  {
   "cell_type": "markdown",
   "metadata": {
    "slideshow": {
     "slide_type": "subslide"
    }
   },
   "source": [
    "\n",
    "You write a function with its name and brackets `()` to use/call it e.g. `square()`\n",
    "\n"
   ]
  },
  {
   "cell_type": "code",
   "execution_count": null,
   "metadata": {},
   "outputs": [],
   "source": [
    "import turtle\n",
    "\n",
    "\n",
    "def square():\n",
    "    side_length = 100\n",
    "    angle = 90\n",
    "\n",
    "    for side in range(4):\n",
    "        turtle.forward(side_length)\n",
    "        turtle.right(angle)\n",
    "\n",
    "\n",
    "square()"
   ]
  },
  {
   "cell_type": "markdown",
   "metadata": {
    "slideshow": {
     "slide_type": "subslide"
    }
   },
   "source": [
    "\n",
    "Functions can be called many times\n",
    "\n"
   ]
  },
  {
   "cell_type": "code",
   "execution_count": null,
   "metadata": {},
   "outputs": [],
   "source": [
    "import turtle\n",
    "\n",
    "\n",
    "def square():\n",
    "    side_length = 100\n",
    "    angle = 90\n",
    "\n",
    "    for side in range(4):\n",
    "        turtle.forward(side_length)\n",
    "        turtle.right(angle)\n",
    "\n",
    "\n",
    "square()\n",
    "turtle.forward(150)\n",
    "square()"
   ]
  },
  {
   "cell_type": "markdown",
   "metadata": {
    "slideshow": {
     "slide_type": "subslide"
    }
   },
   "source": [
    "**Exercise 2.5:** Create a function that draws a triangle using turtle."
   ]
  },
  {
   "cell_type": "markdown",
   "metadata": {
    "slideshow": {
     "slide_type": "subslide"
    }
   },
   "source": [
    "\n",
    "Solution\n",
    "\n"
   ]
  },
  {
   "cell_type": "code",
   "execution_count": null,
   "metadata": {},
   "outputs": [],
   "source": [
    "import turtle\n",
    "\n",
    "\n",
    "def triangle():\n",
    "    side_length = 100\n",
    "    angle = 120\n",
    "\n",
    "    for side in range(3):\n",
    "        turtle.forward(side_length)\n",
    "        turtle.right(angle)\n",
    "\n",
    "\n",
    "triangle()"
   ]
  },
  {
   "cell_type": "markdown",
   "metadata": {
    "slideshow": {
     "slide_type": "slide"
    }
   },
   "source": [
    "### Function Arguments"
   ]
  },
  {
   "cell_type": "markdown",
   "metadata": {
    "slideshow": {
     "slide_type": "subslide"
    }
   },
   "source": [
    "**Argument:** A piece of data that is given to a function when it is called"
   ]
  },
  {
   "cell_type": "markdown",
   "metadata": {
    "slideshow": {
     "slide_type": "subslide"
    }
   },
   "source": [
    "\n",
    "Arguments go inside the brackets and behave like variables\n",
    "\n"
   ]
  },
  {
   "cell_type": "code",
   "execution_count": null,
   "metadata": {},
   "outputs": [],
   "source": [
    "import turtle\n",
    "\n",
    "\n",
    "def square(side_length):\n",
    "    angle = 90\n",
    "\n",
    "    for side in range(4):\n",
    "        turtle.forward(side_length)\n",
    "        turtle.right(angle)\n",
    "\n",
    "square(60)\n",
    "square(100)"
   ]
  },
  {
   "cell_type": "markdown",
   "metadata": {
    "slideshow": {
     "slide_type": "subslide"
    }
   },
   "source": [
    "**Exercise 2.6:** Modify your triangle function so that you can set the **side length** using an argument\n",
    "\n",
    "**Extension:** Use a second argument to set the **colour** of the triangle"
   ]
  },
  {
   "cell_type": "markdown",
   "metadata": {
    "slideshow": {
     "slide_type": "subslide"
    }
   },
   "source": [
    "\n",
    "Solution\n",
    "\n"
   ]
  },
  {
   "cell_type": "code",
   "execution_count": null,
   "metadata": {},
   "outputs": [],
   "source": [
    "import turtle\n",
    "\n",
    "\n",
    "def triangle(side_length):\n",
    "    angle = 120\n",
    "\n",
    "    for side in range(3):\n",
    "        turtle.forward(side_length)\n",
    "        turtle.right(angle)\n",
    "\n",
    "\n",
    "triangle(400)\n",
    "triangle(300)\n",
    "triangle(200)\n",
    "triangle(100)"
   ]
  },
  {
   "cell_type": "markdown",
   "metadata": {
    "slideshow": {
     "slide_type": "subslide"
    }
   },
   "source": [
    "\n",
    "Extension:\n",
    "\n"
   ]
  },
  {
   "cell_type": "code",
   "execution_count": null,
   "metadata": {},
   "outputs": [],
   "source": [
    "import turtle\n",
    "\n",
    "\n",
    "def triangle(side_length, colour):\n",
    "    angle = 120\n",
    "    \n",
    "    turtle.color(colour, colour)\n",
    "    turtle.begin_fill()\n",
    "\n",
    "    for side in range(3):\n",
    "        turtle.forward(side_length)\n",
    "        turtle.right(angle)\n",
    "\n",
    "    turtle.end_fill()\n",
    "\n",
    "\n",
    "triangle(400, 'red')\n",
    "triangle(300, 'pink')\n",
    "triangle(200, 'blue')\n",
    "triangle(100, 'yellow')"
   ]
  },
  {
   "cell_type": "markdown",
   "metadata": {
    "slideshow": {
     "slide_type": "subslide"
    }
   },
   "source": [
    "\n",
    "Functions can have multiple arguments seperated by commas\n",
    "\n"
   ]
  },
  {
   "cell_type": "code",
   "execution_count": null,
   "metadata": {},
   "outputs": [],
   "source": [
    "import turtle\n",
    "\n",
    "\n",
    "def square(side_length, colour):\n",
    "    angle = 90\n",
    "\n",
    "    turtle.color(colour, colour)\n",
    "    turtle.begin_fill()\n",
    "\n",
    "    for side in range(4):\n",
    "        turtle.forward(side_length)\n",
    "        turtle.right(angle)\n",
    "\n",
    "    turtle.end_fill()\n",
    "\n",
    "square(400, 'red')\n",
    "square(300, 'pink')\n",
    "square(200, 'blue')\n",
    "square(100, 'yellow')"
   ]
  },
  {
   "cell_type": "markdown",
   "metadata": {
    "slideshow": {
     "slide_type": "slide"
    }
   },
   "source": [
    "### Returning Values from Function"
   ]
  },
  {
   "cell_type": "markdown",
   "metadata": {
    "slideshow": {
     "slide_type": "subslide"
    }
   },
   "source": [
    "\n",
    "Values can be returned from functions using the `return` operator\n",
    "\n"
   ]
  },
  {
   "cell_type": "code",
   "execution_count": 7,
   "metadata": {},
   "outputs": [
    {
     "name": "stdout",
     "output_type": "stream",
     "text": [
      "342\n"
     ]
    }
   ],
   "source": [
    "def add(num_1, num_2):\n",
    "    return num_1 + num_2\n",
    "\n",
    "\n",
    "total_height = add(182, 160)\n",
    "\n",
    "print(total_height)"
   ]
  },
  {
   "cell_type": "markdown",
   "metadata": {
    "slideshow": {
     "slide_type": "subslide"
    }
   },
   "source": [
    "\n",
    "**Exercise 2.7:** Complete the function to return the area of a circle\n",
    "\n",
    "\n",
    "\n",
    "Use the comments to help you\n",
    "\n"
   ]
  },
  {
   "cell_type": "code",
   "execution_count": null,
   "metadata": {},
   "outputs": [],
   "source": [
    "def circle_area():  # add the radius argument inside the brackets\n",
    "    area = 3.14 * (radius ** 2)\n",
    "    # return area here\n",
    "\n",
    "\n",
    "circle_1 =  circle_area(10)\n",
    "\n",
    "print(circle_1)"
   ]
  },
  {
   "cell_type": "markdown",
   "metadata": {
    "slideshow": {
     "slide_type": "subslide"
    }
   },
   "source": [
    "\n",
    "Solution\n",
    "\n"
   ]
  },
  {
   "cell_type": "code",
   "execution_count": 8,
   "metadata": {},
   "outputs": [
    {
     "name": "stdout",
     "output_type": "stream",
     "text": [
      "254.34\n"
     ]
    }
   ],
   "source": [
    "def circle_area(radius):\n",
    "    area = 3.14 * (radius ** 2)\n",
    "    return area\n",
    "\n",
    "area = circle_area(9)\n",
    "\n",
    "print(area)"
   ]
  },
  {
   "cell_type": "markdown",
   "metadata": {
    "slideshow": {
     "slide_type": "slide"
    }
   },
   "source": [
    "### Recap"
   ]
  },
  {
   "cell_type": "markdown",
   "metadata": {
    "slideshow": {
     "slide_type": "subslide"
    }
   },
   "source": [
    "This session:\n",
    "\n",
    "1. Importing modules\n",
    "1. Problem solving with Turtle\n",
    "1. For Loops\n",
    "1. Functions"
   ]
  },
  {
   "cell_type": "markdown",
   "metadata": {
    "slideshow": {
     "slide_type": "subslide"
    }
   },
   "source": [
    "**Question 1:** What is a Python module?"
   ]
  },
  {
   "cell_type": "markdown",
   "metadata": {
    "slideshow": {
     "slide_type": "subslide"
    }
   },
   "source": [
    "\n",
    "**Question 2:** What is more suitable name for this function?\n",
    "\n"
   ]
  },
  {
   "cell_type": "code",
   "execution_count": null,
   "metadata": {},
   "outputs": [],
   "source": [
    "def x(days):\n",
    "    minutes = days * 24 * 60\n",
    "    return minutes\n",
    "\n",
    "print(x(10))"
   ]
  },
  {
   "cell_type": "markdown",
   "metadata": {
    "slideshow": {
     "slide_type": "subslide"
    }
   },
   "source": [
    "\n",
    "**Question 3:** Why won't this program run?\n",
    "\n"
   ]
  },
  {
   "cell_type": "code",
   "execution_count": null,
   "metadata": {},
   "outputs": [],
   "source": [
    "for number in range(100)\n",
    "print(number)"
   ]
  },
  {
   "cell_type": "markdown",
   "metadata": {
    "slideshow": {
     "slide_type": "slide"
    }
   },
   "source": [
    "**Homework:** Session 2 homework questions in your student guide"
   ]
  }
 ],
 "metadata": {
  "kernelspec": {
   "display_name": "Python 3",
   "language": "python",
   "name": "python3"
  },
  "language_info": {
   "codemirror_mode": {
    "name": "ipython",
    "version": 3
   },
   "file_extension": ".py",
   "mimetype": "text/x-python",
   "name": "python",
   "nbconvert_exporter": "python",
   "pygments_lexer": "ipython3",
   "version": "3.6.7"
  },
  "livereveal": {
   "footer": "<img src=\"images/logo.png\" style=\"margin-left: 20px; margin-bottom: 20px;\"/>",
   "progress": true,
   "scroll": true,
   "start_slideshow_at": "selected"
  },
  "rise": {
   "enable_chalkboard": true
  }
 },
 "nbformat": 4,
 "nbformat_minor": 2
}
