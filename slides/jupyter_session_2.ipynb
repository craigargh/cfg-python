{
  "cells": [
    {
      "cell_type": "markdown",
      "metadata": {
        "slideshow": {
          "slide_type": "slide"
        }
      },
      "source": [
        "**Starter:** Discuss your homework with the person sitting next to you"
      ]
    },
    {
      "cell_type": "markdown",
      "metadata": {
        "slideshow": {
          "slide_type": "slide"
        }
      },
      "source": [
        "![Code First: Girls](images/logo_large.png)\n\n#### Python Session 2"
      ]
    },
    {
      "cell_type": "markdown",
      "metadata": {
        "slideshow": {
          "slide_type": "subslide"
        }
      },
      "source": [
        "This session:\n\n1. User Input\n1. Importing libraries\n1. Problem solving with Turtle\n1. For Loops\n1. Functions"
      ]
    },
    {
      "cell_type": "markdown",
      "metadata": {
        "slideshow": {
          "slide_type": "slide"
        }
      },
      "source": [
        "### User Input"
      ]
    },
    {
      "cell_type": "markdown",
      "metadata": {
        "slideshow": {
          "slide_type": "subslide"
        }
      },
      "source": [
        "The `input()` function allows you to input data after the program has started running"
      ]
    },
    {
      "cell_type": "markdown",
      "metadata": {
        "slideshow": {
          "slide_type": "subslide"
        }
      },
      "source": [
        "[GIF OF USING input()]"
      ]
    },
    {
      "cell_type": "markdown",
      "metadata": {
        "slideshow": {
          "slide_type": "subslide"
        }
      },
      "source": [
        "\nIn a new file called `my_name.py`\n\n"
      ]
    },
    {
      "cell_type": "code",
      "metadata": {},
      "source": [
        "name = input('What is you name? ')\nprint('Hello, {}'.format(name))"
      ],
      "execution_count": null,
      "outputs": []
    },
    {
      "cell_type": "markdown",
      "metadata": {
        "slideshow": {
          "slide_type": "subslide"
        }
      },
      "source": [
        "TO DO: WRITE AN EXERCISE FOR INPUT"
      ]
    },
    {
      "cell_type": "markdown",
      "metadata": {
        "slideshow": {
          "slide_type": "subslide"
        }
      },
      "source": [
        "TO DO: Converting strings to integers"
      ]
    },
    {
      "cell_type": "markdown",
      "metadata": {
        "slideshow": {
          "slide_type": "subslide"
        }
      },
      "source": [
        "TO DO: WRITE AN EXERCISE FOR INT() AND INPUT()"
      ]
    },
    {
      "cell_type": "markdown",
      "metadata": {
        "slideshow": {
          "slide_type": "slide"
        }
      },
      "source": [
        "### Python Libraries"
      ]
    },
    {
      "cell_type": "markdown",
      "metadata": {
        "slideshow": {
          "slide_type": "subslide"
        }
      },
      "source": [
        "**Library:** Structured code that someone else has written that you can reuse in your programs"
      ]
    },
    {
      "cell_type": "markdown",
      "metadata": {
        "slideshow": {
          "slide_type": "subslide"
        }
      },
      "source": [
        "\nLibraries are imported into your Python programs:\n\n"
      ]
    },
    {
      "cell_type": "code",
      "metadata": {},
      "source": [
        "import turtle"
      ],
      "execution_count": null,
      "outputs": []
    },
    {
      "cell_type": "markdown",
      "metadata": {},
      "source": [
        "\nTurtle is library for creating basic drawings.\n\n"
      ]
    },
    {
      "cell_type": "markdown",
      "metadata": {
        "slideshow": {
          "slide_type": "subslide"
        }
      },
      "source": [
        "\nAfter importing a library you can use the library's functions:\n\n"
      ]
    },
    {
      "cell_type": "code",
      "metadata": {},
      "source": [
        "import turtle\n\nturtle.forward(100)\nturtle.right(130)\nturtle.forward(100)\n\nturtle.done()"
      ],
      "execution_count": null,
      "outputs": []
    },
    {
      "cell_type": "markdown",
      "metadata": {
        "slideshow": {
          "slide_type": "subslide"
        }
      },
      "source": [
        "`turtle.forward(100)` moves the turtle forward by a number of pixels\n\n`turtle.right(130)` rotates the turtle by a number of degrees\n\n`turtle.done()` tells the turtle that you've finished giving it commands. Without this it will wait for new commands (if run from the shell) or disappear (if run from file)."
      ]
    },
    {
      "cell_type": "markdown",
      "metadata": {
        "slideshow": {
          "slide_type": "subslide"
        }
      },
      "source": [
        "The turtle's speed can be set with `turtle.speed(1)` for slow"
      ]
    },
    {
      "cell_type": "markdown",
      "metadata": {
        "slideshow": {
          "slide_type": "slide"
        }
      },
      "source": [
        "### Problem Solving (with Turtles)"
      ]
    },
    {
      "cell_type": "markdown",
      "metadata": {
        "slideshow": {
          "slide_type": "subslide"
        }
      },
      "source": [
        "\nLet's make square together (file name `square.py`)\n\nA square has **four** sides and an angle of **ninety** degrees:\n\n"
      ]
    },
    {
      "cell_type": "code",
      "metadata": {},
      "source": [
        "import turtle\n\nturtle.forward(100)\nturtle.right(90)\n\nturtle.forward(100)\nturtle.right(90)\n\nturtle.forward(100)\nturtle.right(90)\n\nturtle.forward(100)\nturtle.right(90)\n\nturtle.done()"
      ],
      "execution_count": null,
      "outputs": []
    },
    {
      "cell_type": "markdown",
      "metadata": {
        "slideshow": {
          "slide_type": "subslide"
        }
      },
      "source": [
        "\nVariables can be used to set the angles and size of your shapes:\n\n"
      ]
    },
    {
      "cell_type": "code",
      "metadata": {},
      "source": [
        "import turtle\n\nside_length = 200\nangle = 90\n\nturtle.forward(side_length)\nturtle.right(angle)\n\nturtle.forward(side_length)\nturtle.right(angle)\n\nturtle.forward(side_length)\nturtle.right(angle)\n\nturtle.forward(side_length)\nturtle.right(angle)\n\nturtle.done()"
      ],
      "execution_count": null,
      "outputs": []
    },
    {
      "cell_type": "markdown",
      "metadata": {},
      "source": [
        "\nChange `square.py` to use variables\n\n"
      ]
    },
    {
      "cell_type": "markdown",
      "metadata": {
        "slideshow": {
          "slide_type": "subslide"
        }
      },
      "source": [
        "\nYou can play around with filling the shape and colors:\n\n"
      ]
    },
    {
      "cell_type": "code",
      "metadata": {},
      "source": [
        "import turtle\n\nside_length = 200\nangle = 90\n\nturtle.color('red', 'pink')\nturtle.begin_fill()\n\nturtle.forward(side_length)\nturtle.right(angle)\n\nturtle.forward(side_length)\nturtle.right(angle)\n\nturtle.forward(side_length)\nturtle.right(angle)\n\nturtle.forward(side_length)\nturtle.right(angle)\n\nturtle.end_fill()\n\nturtle.done()"
      ],
      "execution_count": null,
      "outputs": []
    },
    {
      "cell_type": "markdown",
      "metadata": {
        "slideshow": {
          "slide_type": "subslide"
        }
      },
      "source": [
        "**Exercise 1.1:** Create a new file called `triangle.py`. Using `turtle` draw a triangle.\n\nA triangle has **three** sides and an angle of **120** degrees\n\n**Extension:** Make the triangle blue"
      ]
    },
    {
      "cell_type": "markdown",
      "metadata": {
        "slideshow": {
          "slide_type": "subslide"
        }
      },
      "source": [
        "\nAnswer:\n\n"
      ]
    },
    {
      "cell_type": "code",
      "metadata": {},
      "source": [
        "import turtle\n\nside_length = 100\nangle = 120\n\nturtle.forward(side_length)\nturtle.right(angle)\n\nturtle.forward(side_length)\nturtle.right(angle)\n\nturtle.forward(side_length)\nturtle.right(angle)\n\nturtle.done()"
      ],
      "execution_count": null,
      "outputs": []
    },
    {
      "cell_type": "markdown",
      "metadata": {
        "slideshow": {
          "slide_type": "subslide"
        }
      },
      "source": [
        "\nExtension Answer:\n\n"
      ]
    },
    {
      "cell_type": "code",
      "metadata": {},
      "source": [
        "import turtle\n\nside_length = 100\nangle = 120\n\nturtle.color('blue', 'blue')\nturtle.begin_fill()\n\nturtle.forward(side_length)\nturtle.right(angle)\n\nturtle.forward(side_length)\nturtle.right(angle)\n\nturtle.forward(side_length)\nturtle.right(angle)\n\n\nturtle.end_fill()\n\nturtle.done()"
      ],
      "execution_count": null,
      "outputs": []
    },
    {
      "cell_type": "markdown",
      "metadata": {
        "slideshow": {
          "slide_type": "slide"
        }
      },
      "source": [
        "### For Loops"
      ]
    },
    {
      "cell_type": "markdown",
      "metadata": {
        "slideshow": {
          "slide_type": "subslide"
        }
      },
      "source": [
        "**`for` loop:** allows you to repeat a block of code for every item in a list"
      ]
    },
    {
      "cell_type": "markdown",
      "metadata": {
        "slideshow": {
          "slide_type": "subslide"
        }
      },
      "source": [
        "A `for` loop has\n- A `for` operator\n- A variable name that stores each list value one at a time\n- An `in` operator\n- A list of values\n- A body (indented four spaces)"
      ]
    },
    {
      "cell_type": "markdown",
      "metadata": {
        "slideshow": {
          "slide_type": "subslide"
        }
      },
      "source": [
        "\nThe pre-written `range()` function returns a list of numbers\n\n"
      ]
    },
    {
      "cell_type": "code",
      "metadata": {},
      "source": [
        "for number in range(5):\n    print(number)"
      ],
      "execution_count": null,
      "outputs": []
    },
    {
      "cell_type": "markdown",
      "metadata": {
        "slideshow": {
          "slide_type": "subslide"
        }
      },
      "source": [
        "\nFor loops are really useful for repeating code. Notice in the original code for the square that you repeat the same bit of code four times:\n\n"
      ]
    },
    {
      "cell_type": "code",
      "metadata": {},
      "source": [
        "import turtle\n\nside_length = 200\nangle = 90\n\nturtle.forward(side_length)\nturtle.right(angle)\n\nturtle.forward(side_length)\nturtle.right(angle)\n\nturtle.forward(side_length)\nturtle.right(angle)\n\nturtle.forward(side_length)\nturtle.right(angle)\n\nturtle.done()"
      ],
      "execution_count": null,
      "outputs": []
    },
    {
      "cell_type": "markdown",
      "metadata": {
        "slideshow": {
          "slide_type": "subslide"
        }
      },
      "source": [
        "\nUsing a for loop you can simplify the program:\n\n"
      ]
    },
    {
      "cell_type": "code",
      "metadata": {},
      "source": [
        "import turtle\n\nside_length = 200\nangle = 90\n\nfor side in range(4):\n    turtle.forward(side_length)\n    turtle.right(angle)\n\nturtle.done()"
      ],
      "execution_count": null,
      "outputs": []
    },
    {
      "cell_type": "markdown",
      "metadata": {
        "slideshow": {
          "slide_type": "subslide"
        }
      },
      "source": [
        "\n**Exercise 1.2: Choose your sides**\n\nIn this exercise you'll create a program that can draw shapes with any number of sides.\n\nWhen you run the program it will ask you to input the number of sides that the shape should have. The program will then calculate the correct angle for the shape and draw it for you.\n\nI've started the program for you:\n\n"
      ]
    },
    {
      "cell_type": "code",
      "metadata": {},
      "source": [
        "import turtle\n\nsides = int(input('Number of sides: ')) \n\nangle = 360 / sides\nside_length = 60\n\n# Add the for loop here\nturtle.forward(side_length)\nturtle.right(angle)\n\nturtle.done()"
      ],
      "execution_count": null,
      "outputs": []
    },
    {
      "cell_type": "markdown",
      "metadata": {},
      "source": [
        "\n**Extension:** Create a new file called `spiral.py` and write a program to create a 100 sided spiral with an angle of 90 degrees\n\n"
      ]
    },
    {
      "cell_type": "markdown",
      "metadata": {
        "slideshow": {
          "slide_type": "subslide"
        }
      },
      "source": [
        "\nSolution:\n\n\n"
      ]
    },
    {
      "cell_type": "code",
      "metadata": {},
      "source": [
        "import turtle\n\nsides = int(input('Number of sides: ')) \n\nangle = 360 / sides\nside_length = 60\n\nfor side in range(sides):\n    turtle.forward(side_length)\n    turtle.right(angle)\n\nturtle.done()"
      ],
      "execution_count": null,
      "outputs": []
    },
    {
      "cell_type": "markdown",
      "metadata": {
        "slideshow": {
          "slide_type": "subslide"
        }
      },
      "source": [
        "\nExtension Solution:\n\n"
      ]
    },
    {
      "cell_type": "code",
      "metadata": {},
      "source": [
        "import turtle\n\nsides = 100 \n\nangle = 360 / sides\n\nfor side in range(sides):\n    turtle.forward(side)\n    turtle.right(angle)\n\nturtle.done()"
      ],
      "execution_count": null,
      "outputs": []
    },
    {
      "cell_type": "markdown",
      "metadata": {
        "slideshow": {
          "slide_type": "slide"
        }
      },
      "source": [
        "### Functions"
      ]
    },
    {
      "cell_type": "markdown",
      "metadata": {
        "slideshow": {
          "slide_type": "subslide"
        }
      },
      "source": [
        "**Function:** A reusable block of code"
      ]
    },
    {
      "cell_type": "code",
      "metadata": {},
      "source": [
        "import turtle\n\n\ndef square():\n    side_length = 100\n    angle = 90\n\n    for side in range(4):\n        turtle.forward(side_length)\n        turtle.right(angle)"
      ],
      "execution_count": null,
      "outputs": []
    },
    {
      "cell_type": "markdown",
      "metadata": {
        "slideshow": {
          "slide_type": "subslide"
        }
      },
      "source": [
        "All functions have\n1. a `def` operator\n1. a name\n1. brackets\n1. a colon\n1. body (indented 4 spaces)"
      ]
    },
    {
      "cell_type": "markdown",
      "metadata": {
        "slideshow": {
          "slide_type": "subslide"
        }
      },
      "source": [
        "\nWe call a function to use it\n\n"
      ]
    },
    {
      "cell_type": "code",
      "metadata": {},
      "source": [
        "import turtle\n\n\ndef square():\n    side_length = 100\n    angle = 90\n\n    for side in range(4):\n        turtle.forward(side_length)\n        turtle.right(angle)\n\n\nsquare()"
      ],
      "execution_count": null,
      "outputs": []
    },
    {
      "cell_type": "markdown",
      "metadata": {
        "slideshow": {
          "slide_type": "subslide"
        }
      },
      "source": [
        "\nFunctions can be called many times\n\n"
      ]
    },
    {
      "cell_type": "code",
      "metadata": {},
      "source": [
        "import turtle\n\n\ndef square():\n    side_length = 100\n    angle = 90\n\n    for side in range(4):\n        turtle.forward(side_length)\n        turtle.right(angle)\n\n\nsquare()\nturtle.forward(150)\nsquare()"
      ],
      "execution_count": null,
      "outputs": []
    },
    {
      "cell_type": "markdown",
      "metadata": {
        "slideshow": {
          "slide_type": "subslide"
        }
      },
      "source": [
        "**Exercise 1.4:** Create a function that draws a triangle using turtle."
      ]
    },
    {
      "cell_type": "markdown",
      "metadata": {
        "slideshow": {
          "slide_type": "subslide"
        }
      },
      "source": [
        "\nSolution:\n\n"
      ]
    },
    {
      "cell_type": "code",
      "metadata": {},
      "source": [
        "import turtle\n\n\ndef triangle():\n    side_length = 100\n    angle = 120\n\n    for side in range(3):\n        turtle.forward(side_length)\n        turtle.right(angle)\n\n\ntriangle()"
      ],
      "execution_count": null,
      "outputs": []
    },
    {
      "cell_type": "markdown",
      "metadata": {
        "slideshow": {
          "slide_type": "subslide"
        }
      },
      "source": [
        "**Argument:** A parameter used to change the behaviour of a function"
      ]
    },
    {
      "cell_type": "markdown",
      "metadata": {
        "slideshow": {
          "slide_type": "subslide"
        }
      },
      "source": [
        "\nArguments go inside the brackets and behave like variables\n\n"
      ]
    },
    {
      "cell_type": "code",
      "metadata": {},
      "source": [
        "import turtle\n\n\ndef square(side_length):\n    angle = 90\n\n    for side in range(4):\n        turtle.forward(side_length)\n        turtle.right(angle)\n\nsquare(60)\nsquare(100)"
      ],
      "execution_count": null,
      "outputs": []
    },
    {
      "cell_type": "markdown",
      "metadata": {
        "slideshow": {
          "slide_type": "subslide"
        }
      },
      "source": [
        "**Exercise 1.5:** Modify your triangle function so that you can set the **side length** using an argument\n\n**Extension:** Use a second argument to set the **colour** of the triangle"
      ]
    },
    {
      "cell_type": "markdown",
      "metadata": {
        "slideshow": {
          "slide_type": "subslide"
        }
      },
      "source": [
        "\nSolution:\n\n"
      ]
    },
    {
      "cell_type": "code",
      "metadata": {},
      "source": [
        "import turtle\n\n\ndef triangle(side_length):\n    angle = 120\n\n    for side in range(3):\n        turtle.forward(side_length)\n        turtle.right(angle)\n\n\ntriangle(400)\ntriangle(300)\ntriangle(200)\ntriangle(100)"
      ],
      "execution_count": null,
      "outputs": []
    },
    {
      "cell_type": "markdown",
      "metadata": {
        "slideshow": {
          "slide_type": "subslide"
        }
      },
      "source": [
        "\nExtension:\n\n"
      ]
    },
    {
      "cell_type": "code",
      "metadata": {},
      "source": [
        "import turtle\n\n\ndef triangle(side_length, colour):\n    angle = 120\n    \n    turtle.color(colour, colour)\n    turtle.begin_fill()\n\n    for side in range(3):\n        turtle.forward(side_length)\n        turtle.right(angle)\n\n    turtle.end_fill()\n\n\ntriangle(400, 'red')\ntriangle(300, 'pink')\ntriangle(200, 'blue')\ntriangle(100, 'yellow')"
      ],
      "execution_count": null,
      "outputs": []
    },
    {
      "cell_type": "markdown",
      "metadata": {
        "slideshow": {
          "slide_type": "subslide"
        }
      },
      "source": [
        "\nFunctions can have multiple arguments seperated by commas\n\n"
      ]
    },
    {
      "cell_type": "code",
      "metadata": {},
      "source": [
        "import turtle\n\n\ndef square(side_length, colour):\n    angle = 90\n\n    turtle.color(colour, colour)\n    turtle.begin_fill()\n\n    for side in range(4):\n        turtle.forward(side_length)\n        turtle.right(angle)\n\n    turtle.end_fill()\n\nsquare(400, 'red')\nsquare(300, 'pink')\nsquare(200, 'blue')\nsquare(100, 'yellow')"
      ],
      "execution_count": null,
      "outputs": []
    },
    {
      "cell_type": "markdown",
      "metadata": {
        "slideshow": {
          "slide_type": "subslide"
        }
      },
      "source": [
        "\nValues can be returned from functions using the `return` operator\n\n"
      ]
    },
    {
      "cell_type": "code",
      "metadata": {},
      "source": [
        "def add(num_1, num_2):\n    return num_1 + num_2\n\nmy_height = 182\nfriend_height = 160\n\ntotal_height = add(my_height, friend_height)\n\nprint(total_height)"
      ],
      "execution_count": null,
      "outputs": []
    },
    {
      "cell_type": "markdown",
      "metadata": {
        "slideshow": {
          "slide_type": "subslide"
        }
      },
      "source": [
        "\n**Exercise 1.6:** Complete the function to return the area of a circle\n\n\n\nUse the comments to help you\n\n"
      ]
    },
    {
      "cell_type": "code",
      "metadata": {},
      "source": [
        "def circle_area():  # add the radius argument inside the brackets\n    area = 3.14 * (radius ** 2)\n    # return area here\n\n\narea =  circle_area(10)\n\nprint(area)"
      ],
      "execution_count": null,
      "outputs": []
    },
    {
      "cell_type": "markdown",
      "metadata": {
        "slideshow": {
          "slide_type": "subslide"
        }
      },
      "source": [
        "\nAnswer\n\n"
      ]
    },
    {
      "cell_type": "code",
      "metadata": {},
      "source": [
        "def circle_area(radius):\n    area = 3.14 * (radius ** 2)\n    return area\n\narea = circle_area(9)\n\nprint(area)"
      ],
      "execution_count": null,
      "outputs": []
    },
    {
      "cell_type": "markdown",
      "metadata": {
        "slideshow": {
          "slide_type": "slide"
        }
      },
      "source": [
        "### Recap"
      ]
    },
    {
      "cell_type": "markdown",
      "metadata": {
        "slideshow": {
          "slide_type": "subslide"
        }
      },
      "source": [
        "This session:\n\n1. Importing libraries\n1. Problem solving with Turtle\n1. For Loops\n1. Lists\n1. Functions"
      ]
    }
  ],
  "metadata": {
    "kernelspec": {
      "display_name": "Python 3",
      "language": "python",
      "name": "python3"
    },
    "language_info": {
      "codemirror_mode": {
        "name": "ipython",
        "version": 3
      },
      "file_extension": ".py",
      "mimetype": "text/x-python",
      "name": "python",
      "nbconvert_exporter": "python",
      "pygments_lexer": "ipython3",
      "version": "3.6.7"
    },
    "livereveal": {
      "scroll": true,
      "progress": true,
      "start_slideshow_at": "selected",
      "footer": "<img src=\"images/logo.png\" style=\"margin-left: 20px; margin-bottom: 20px;\"/>"
    },
    "rise": {
      "enable_chalkboard": true
    }
  },
  "nbformat": 4,
  "nbformat_minor": 2
}