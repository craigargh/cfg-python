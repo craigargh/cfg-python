{
 "cells": [
  {
   "cell_type": "markdown",
   "metadata": {
    "slideshow": {
     "slide_type": "slide"
    }
   },
   "source": [
    "**Starter:** ???"
   ]
  },
  {
   "cell_type": "markdown",
   "metadata": {
    "slideshow": {
     "slide_type": "slide"
    }
   },
   "source": [
    "![Code First: Girls](images/logo_large.png)\n",
    "\n",
    "#### Python Session 5"
   ]
  },
  {
   "cell_type": "markdown",
   "metadata": {
    "slideshow": {
     "slide_type": "slide"
    }
   },
   "source": [
    "This session\n",
    "1. Files\n",
    "1. Pip package manager\n",
    "1. APIs"
   ]
  },
  {
   "cell_type": "markdown",
   "metadata": {
    "slideshow": {
     "slide_type": "slide"
    }
   },
   "source": [
    "### Reading/Writing Files"
   ]
  },
  {
   "cell_type": "markdown",
   "metadata": {
    "slideshow": {
     "slide_type": "subslide"
    }
   },
   "source": [
    "\n",
    "Writing to a file\n",
    "\n"
   ]
  },
  {
   "cell_type": "code",
   "execution_count": null,
   "metadata": {},
   "outputs": [],
   "source": [
    "with open('people.txt', 'w+') as text_file:\n",
    "    people = 'Joanne \\nSusan \\nAmina'\n",
    "\n",
    "    text_file.write(people)"
   ]
  },
  {
   "cell_type": "markdown",
   "metadata": {
    "slideshow": {
     "slide_type": "subslide"
    }
   },
   "source": [
    "\n",
    "Reading from a file\n",
    "\n"
   ]
  },
  {
   "cell_type": "code",
   "execution_count": null,
   "metadata": {},
   "outputs": [],
   "source": [
    "with open('people.txt', 'r') as text_file:\n",
    "    contents = text_file.read()\n",
    "\n",
    "print(contents)"
   ]
  },
  {
   "cell_type": "markdown",
   "metadata": {
    "slideshow": {
     "slide_type": "subslide"
    }
   },
   "source": [
    "**Exercise 5.1:** Create a to-do list program that writes user input to a file\n",
    "\n",
    "The program should:\n",
    "- Ask the user to input a new to-do item\n",
    "- Read the contents of the existing to-do items\n",
    "- Add the new to do item to the to-do items\n",
    "- Save the updated to-do items\n",
    "\n",
    "You will need to manually create a new file called `todo.txt` in the same folder as your program before you start"
   ]
  },
  {
   "cell_type": "markdown",
   "metadata": {
    "slideshow": {
     "slide_type": "subslide"
    }
   },
   "source": [
    "\n",
    "Solution\n",
    "\n"
   ]
  },
  {
   "cell_type": "code",
   "execution_count": null,
   "metadata": {},
   "outputs": [],
   "source": [
    "new_item = input('Enter a to-do item: ')\n",
    "\n",
    "with open('todo.txt', 'r') as todo_file:\n",
    "    todo = todo_file.read()\n",
    "\n",
    "todo = todo + new_item + '\\n'\n",
    "\n",
    "with open('todo.txt', 'w+') as todo_file:\n",
    "    todo_file.write(todo)"
   ]
  },
  {
   "cell_type": "markdown",
   "metadata": {
    "slideshow": {
     "slide_type": "slide"
    }
   },
   "source": [
    "### Working With CSV Files"
   ]
  },
  {
   "cell_type": "markdown",
   "metadata": {
    "slideshow": {
     "slide_type": "subslide"
    }
   },
   "source": [
    "\n",
    "Reading a CSV\n",
    "\n"
   ]
  },
  {
   "cell_type": "code",
   "execution_count": null,
   "metadata": {},
   "outputs": [],
   "source": [
    "import csv\n",
    "\n",
    "with open('team.csv', 'r') as csv_file:\n",
    "    spreadsheet = csv.DictReader(csv_file)\n",
    "    for row in spreadsheet:\n",
    "        print(dict(row))"
   ]
  },
  {
   "cell_type": "markdown",
   "metadata": {
    "slideshow": {
     "slide_type": "subslide"
    }
   },
   "source": [
    "\n",
    "Writing a CSV\n",
    "\n"
   ]
  },
  {
   "cell_type": "code",
   "execution_count": null,
   "metadata": {},
   "outputs": [],
   "source": [
    "import csv\n",
    "\n",
    "field_names = ['name', 'age']\n",
    "\n",
    "data = [\n",
    "    {'name': 'Jill', 'age': 32},\n",
    "    {'name': 'Sara', 'age': 28},\n",
    "]\n",
    "\n",
    "with open('team.csv', 'w+') as csv_file:\n",
    "    spreadsheet = csv.DictWriter(csv_file, fieldnames=field_names)\n",
    "    \n",
    "    spreadsheet.writeheader()\n",
    "    spreadsheet.writerows(data)"
   ]
  },
  {
   "cell_type": "markdown",
   "metadata": {
    "slideshow": {
     "slide_type": "subslide"
    }
   },
   "source": [
    "\n",
    "\n",
    "\n",
    "**Exercise 5.2:** This program is supposed to read data about trees from a file to find the shortest tree. Complete the program adding code to open `trees.csv`.\n",
    "\n",
    "The `trees.csv` file included with your student guides. Save the csv file in the same folder as your Python program.\n",
    "\n"
   ]
  },
  {
   "cell_type": "code",
   "execution_count": null,
   "metadata": {},
   "outputs": [],
   "source": [
    "spreadsheet = # Add code to open the csv file\n",
    "\n",
    "heights = []\n",
    "\n",
    "for row in spreadsheet:\n",
    "    tree_height = row['height']\n",
    "    heights.append(tree_height)\n",
    "\n",
    "shortest_height = min(heights)\n",
    "print(shortest_height)"
   ]
  },
  {
   "cell_type": "markdown",
   "metadata": {
    "slideshow": {
     "slide_type": "subslide"
    }
   },
   "source": [
    "\n",
    "Solution\n",
    "\n"
   ]
  },
  {
   "cell_type": "code",
   "execution_count": null,
   "metadata": {},
   "outputs": [],
   "source": [
    "import csv\n",
    "\n",
    "with open('trees.csv', 'r') as csv_file:\n",
    "    spreadsheet = csv.DictReader(csv_file)\n",
    "\n",
    "    heights = []\n",
    "\n",
    "    for row in spreadsheet:\n",
    "        tree_height = row['height']\n",
    "        heights.append(tree_height)\n",
    "\n",
    "shortest_height = min(heights)\n",
    "print(shortest_height)"
   ]
  },
  {
   "cell_type": "markdown",
   "metadata": {
    "slideshow": {
     "slide_type": "slide"
    }
   },
   "source": [
    "### Python Pip"
   ]
  },
  {
   "cell_type": "markdown",
   "metadata": {
    "slideshow": {
     "slide_type": "subslide"
    }
   },
   "source": [
    "**pip:** A package manager used to install libraries that other people have written"
   ]
  },
  {
   "cell_type": "markdown",
   "metadata": {
    "slideshow": {
     "slide_type": "subslide"
    }
   },
   "source": [
    "pip is used via the terminal (command-line)\n",
    "\n",
    "![Opening the terminal](gifs/terminal.gif)"
   ]
  },
  {
   "cell_type": "markdown",
   "metadata": {
    "slideshow": {
     "slide_type": "subslide"
    }
   },
   "source": [
    "\n",
    "Install the `requests` library using pip\n",
    "\n",
    "``` command-line\n",
    "pip install requests\n",
    "```\n",
    "\n"
   ]
  },
  {
   "cell_type": "markdown",
   "metadata": {
    "slideshow": {
     "slide_type": "slide"
    }
   },
   "source": [
    "### APIs: Reading Stuff"
   ]
  },
  {
   "cell_type": "markdown",
   "metadata": {
    "slideshow": {
     "slide_type": "subslide"
    }
   },
   "source": [
    "**Application Programming Interface (API):** A way for different programs to interact. For example they can send data to one another.\n",
    "\n",
    "Web APIs allow you to interact with other programs over the internet."
   ]
  },
  {
   "cell_type": "markdown",
   "metadata": {
    "slideshow": {
     "slide_type": "subslide"
    }
   },
   "source": [
    "[DIAGRAM FOR REQUESTS AND RESPONSES]"
   ]
  },
  {
   "cell_type": "markdown",
   "metadata": {
    "slideshow": {
     "slide_type": "subslide"
    }
   },
   "source": [
    "Pokéapi is an API to get data about Pokémon\n",
    "\n",
    "[pokeapi.co/](https://pokeapi.co/)"
   ]
  },
  {
   "cell_type": "markdown",
   "metadata": {
    "slideshow": {
     "slide_type": "subslide"
    }
   },
   "source": [
    "Each Pokemon has a number that identifies it\n",
    "\n",
    "You can retrieve information about different Pokemon from urls\n",
    "\n",
    "[https://pokeapi.co/api/v2/pokemon/6/](https://pokeapi.co/api/v2/pokemon/6/)"
   ]
  },
  {
   "cell_type": "markdown",
   "metadata": {
    "slideshow": {
     "slide_type": "subslide"
    }
   },
   "source": [
    "\n",
    "\n",
    "Save this as `get_pokemon.py`\n",
    "\n"
   ]
  },
  {
   "cell_type": "code",
   "execution_count": null,
   "metadata": {},
   "outputs": [],
   "source": [
    "import requests\n",
    "from pprint import pprint\n",
    "\n",
    "pokemon_number = input(\"What is the Pokemon's ID? \")\n",
    "\n",
    "url = 'https://pokeapi.co/api/v2/pokemon/{}}/'.format(pokemon_number)\n",
    "\n",
    "response = requests.get(url)\n",
    "print(response)\n",
    "\n",
    "pokemon = response.json()\n",
    "pprint(pokemon)"
   ]
  },
  {
   "cell_type": "markdown",
   "metadata": {
    "slideshow": {
     "slide_type": "subslide"
    }
   },
   "source": [
    "Reponse status codes:\n",
    "\n",
    "Status Code | Name | Explanation\n",
    "--- | --- | ---\n",
    "200 | OK | The request worked\n",
    "404 | Not found | Couldn't find the url you requested\n",
    "400 | Bad request | The request you made isn't understood"
   ]
  },
  {
   "cell_type": "markdown",
   "metadata": {
    "slideshow": {
     "slide_type": "subslide"
    }
   },
   "source": [
    "**Exercise 5.3:** Get the *height* and *weight* of a specific Pokemon and print the output\n",
    "\n",
    "Extension: Print the names of all of a specific Pokemon's moves"
   ]
  },
  {
   "cell_type": "markdown",
   "metadata": {
    "slideshow": {
     "slide_type": "subslide"
    }
   },
   "source": [
    "\n",
    "Solution\n",
    "\n"
   ]
  },
  {
   "cell_type": "code",
   "execution_count": null,
   "metadata": {},
   "outputs": [],
   "source": [
    "import requests\n",
    "\n",
    "pokemon_number = input(\"What is the Pokemon's ID? \")\n",
    "\n",
    "url = 'https://pokeapi.co/api/v2/pokemon/{}/'.format(pokemon_number)\n",
    "\n",
    "response = requests.get(url)\n",
    "pokemon = response.json()\n",
    "\n",
    "print(pokemon['name'])\n",
    "print(pokemon['height'])\n",
    "print(pokemon['weight'])"
   ]
  },
  {
   "cell_type": "markdown",
   "metadata": {
    "slideshow": {
     "slide_type": "subslide"
    }
   },
   "source": [
    "\n",
    "Extension Solution\n",
    "\n"
   ]
  },
  {
   "cell_type": "code",
   "execution_count": null,
   "metadata": {},
   "outputs": [],
   "source": [
    "import requests\n",
    "\n",
    "pokemon_number = input(\"What is the Pokemon's ID? \")\n",
    "\n",
    "url = 'https://pokeapi.co/api/v2/pokemon/{}/'.format(pokemon_number)\n",
    "\n",
    "response = requests.get(url)\n",
    "pokemon = response.json()\n",
    "\n",
    "moves = pokemon['moves']\n",
    "\n",
    "for move in moves:\n",
    "    print(move['move']['name'])"
   ]
  },
  {
   "cell_type": "markdown",
   "metadata": {
    "slideshow": {
     "slide_type": "slide"
    }
   },
   "source": [
    "### Recap"
   ]
  },
  {
   "cell_type": "markdown",
   "metadata": {
    "slideshow": {
     "slide_type": "subslide"
    }
   },
   "source": [
    "This session\n",
    "1. Files\n",
    "1. Pip package manager\n",
    "1. APIs"
   ]
  },
  {
   "cell_type": "markdown",
   "metadata": {
    "slideshow": {
     "slide_type": "subslide"
    }
   },
   "source": [
    "**Homework:** Session 5 homework questions in your student guide\n",
    "\n",
    "Look at the project suggestions in your student guide and think about which one you might like to work on"
   ]
  }
 ],
 "metadata": {
  "kernelspec": {
   "display_name": "Python 3",
   "language": "python",
   "name": "python3"
  },
  "language_info": {
   "codemirror_mode": {
    "name": "ipython",
    "version": 3
   },
   "file_extension": ".py",
   "mimetype": "text/x-python",
   "name": "python",
   "nbconvert_exporter": "python",
   "pygments_lexer": "ipython3",
   "version": "3.6.7"
  },
  "livereveal": {
   "footer": "<img src=\"images/logo.png\" style=\"margin-left: 20px; margin-bottom: 20px;\"/>",
   "progress": true,
   "scroll": true,
   "start_slideshow_at": "selected"
  },
  "rise": {
   "enable_chalkboard": true
  }
 },
 "nbformat": 4,
 "nbformat_minor": 2
}
