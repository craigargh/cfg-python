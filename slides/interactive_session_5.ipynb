{
 "cells": [
  {
   "cell_type": "markdown",
   "metadata": {
    "slideshow": {
     "slide_type": "slide"
    }
   },
   "source": [
    "**Starter:** ???"
   ]
  },
  {
   "cell_type": "markdown",
   "metadata": {
    "slideshow": {
     "slide_type": "slide"
    }
   },
   "source": [
    "![Code First: Girls](images/logo_large.png)\n",
    "\n",
    "#### Python Session 5"
   ]
  },
  {
   "cell_type": "markdown",
   "metadata": {
    "slideshow": {
     "slide_type": "slide"
    }
   },
   "source": [
    "This session\n",
    "1. Files\n",
    "1. Pip package manager\n",
    "1. APIs"
   ]
  },
  {
   "cell_type": "markdown",
   "metadata": {
    "slideshow": {
     "slide_type": "slide"
    }
   },
   "source": [
    "### Reading/Writing Files"
   ]
  },
  {
   "cell_type": "markdown",
   "metadata": {
    "slideshow": {
     "slide_type": "subslide"
    }
   },
   "source": [
    "\n",
    "Writing to a file\n",
    "\n"
   ]
  },
  {
   "cell_type": "code",
   "execution_count": null,
   "metadata": {},
   "outputs": [],
   "source": [
    "with open('people.txt', 'w+') as text_file:\n",
    "    people = 'Joanne \\nSusan \\nAmina'\n",
    "\n",
    "    text_file.write(people)"
   ]
  },
  {
   "cell_type": "markdown",
   "metadata": {
    "slideshow": {
     "slide_type": "subslide"
    }
   },
   "source": [
    "\n",
    "Reading from a file\n",
    "\n"
   ]
  },
  {
   "cell_type": "code",
   "execution_count": null,
   "metadata": {},
   "outputs": [],
   "source": [
    "with open('people.txt', 'r') as text_file:\n",
    "    contents = text_file.read()\n",
    "\n",
    "print(contents)"
   ]
  },
  {
   "cell_type": "markdown",
   "metadata": {
    "slideshow": {
     "slide_type": "subslide"
    }
   },
   "source": [
    "**Exercise 5.1:** Create a to-do list program that writes user input to a file\n",
    "\n",
    "The program should:\n",
    "- Ask the user to input a new to-do item\n",
    "- Read the contents of the existing to-do items\n",
    "- Add the new to do item to the to-do items\n",
    "- Save the updated to-do items\n",
    "\n",
    "You will need to manually create a new file called `todo.txt` in the same folder as your program before you start"
   ]
  },
  {
   "cell_type": "markdown",
   "metadata": {
    "slideshow": {
     "slide_type": "subslide"
    }
   },
   "source": [
    "\n",
    "Solution\n",
    "\n"
   ]
  },
  {
   "cell_type": "code",
   "execution_count": null,
   "metadata": {},
   "outputs": [],
   "source": [
    "new_item = input('Enter a to-do item: ')\n",
    "\n",
    "with open('todo.txt', 'r') as todo_file:\n",
    "    todo = todo_file.read()\n",
    "\n",
    "todo = todo + new_item + '\\n'\n",
    "\n",
    "with open('todo.txt', 'w+') as todo_file:\n",
    "    todo_file.write(todo)"
   ]
  },
  {
   "cell_type": "markdown",
   "metadata": {
    "slideshow": {
     "slide_type": "slide"
    }
   },
   "source": [
    "### Working With CSV Files"
   ]
  },
  {
   "cell_type": "markdown",
   "metadata": {
    "slideshow": {
     "slide_type": "subslide"
    }
   },
   "source": [
    "\n",
    "Writing a CSV\n",
    "\n"
   ]
  },
  {
   "cell_type": "code",
   "execution_count": null,
   "metadata": {},
   "outputs": [],
   "source": [
    "import csv\n",
    "\n",
    "data = [\n",
    "    ['name', 'age'],\n",
    "    ['Jill', 32],\n",
    "    ['Sara', 28],\n",
    "]\n",
    "\n",
    "with open('team.csv', 'w+') as csv_file:\n",
    "    spreadsheet = csv.writer(csv_file)\n",
    "    spreadsheet.writerows(data)"
   ]
  },
  {
   "cell_type": "markdown",
   "metadata": {
    "slideshow": {
     "slide_type": "subslide"
    }
   },
   "source": [
    "\n",
    "Reading a CSV\n",
    "\n"
   ]
  },
  {
   "cell_type": "code",
   "execution_count": null,
   "metadata": {},
   "outputs": [],
   "source": [
    "import csv\n",
    "\n",
    "with open('team.csv', 'w+') as csv_file:\n",
    "    spreadsheet = csv.reader(csv_file)\n",
    "    \n",
    "    for row in spreadsheet:\n",
    "        print(row)"
   ]
  },
  {
   "cell_type": "markdown",
   "metadata": {
    "slideshow": {
     "slide_type": "subslide"
    }
   },
   "source": [
    "**Exercise 5.2:** "
   ]
  },
  {
   "cell_type": "markdown",
   "metadata": {
    "slideshow": {
     "slide_type": "slide"
    }
   },
   "source": [
    "### Python Pip"
   ]
  },
  {
   "cell_type": "markdown",
   "metadata": {
    "slideshow": {
     "slide_type": "subslide"
    }
   },
   "source": [
    "**pip:** A package manager used to install libraries that other people have written"
   ]
  },
  {
   "cell_type": "markdown",
   "metadata": {
    "slideshow": {
     "slide_type": "subslide"
    }
   },
   "source": [
    "pip is used via the terminal (command-line)\n",
    "\n",
    "![Opening the terminal](gifs/terminal.gif)"
   ]
  },
  {
   "cell_type": "markdown",
   "metadata": {
    "slideshow": {
     "slide_type": "subslide"
    }
   },
   "source": [
    "\n",
    "Install the `requests` library using pip\n",
    "\n",
    "``` command-line\n",
    "pip install requests\n",
    "```\n",
    "\n"
   ]
  },
  {
   "cell_type": "markdown",
   "metadata": {
    "slideshow": {
     "slide_type": "slide"
    }
   },
   "source": [
    "### APIs: Reading Stuff"
   ]
  },
  {
   "cell_type": "markdown",
   "metadata": {
    "slideshow": {
     "slide_type": "subslide"
    }
   },
   "source": [
    "**Application Programming Interface (API):** A way for different programs to interact. For example they can send data to one another.\n",
    "\n",
    "Web APIs allow you to interact with other programs over the internet."
   ]
  },
  {
   "cell_type": "markdown",
   "metadata": {
    "slideshow": {
     "slide_type": "subslide"
    }
   },
   "source": [
    "[DIAGRAM FOR REQUESTS AND RESPONSES]"
   ]
  },
  {
   "cell_type": "markdown",
   "metadata": {
    "slideshow": {
     "slide_type": "subslide"
    }
   },
   "source": [
    "Pokéapi is an API to get data about Pokémon\n",
    "\n",
    "[pokeapi.co/](https://pokeapi.co/)"
   ]
  },
  {
   "cell_type": "markdown",
   "metadata": {
    "slideshow": {
     "slide_type": "subslide"
    }
   },
   "source": [
    "Each Pokemon has a number that identifies it\n",
    "\n",
    "You can retrieve information about different Pokemon from urls\n",
    "\n",
    "[https://pokeapi.co/api/v2/pokemon/6/](https://pokeapi.co/api/v2/pokemon/6/)"
   ]
  },
  {
   "cell_type": "markdown",
   "metadata": {
    "slideshow": {
     "slide_type": "subslide"
    }
   },
   "source": [
    "\n",
    "\n",
    "Save this as `get_pokemon.py`\n",
    "\n"
   ]
  },
  {
   "cell_type": "code",
   "execution_count": null,
   "metadata": {},
   "outputs": [],
   "source": [
    "import requests\n",
    "from pprint import pprint\n",
    "\n",
    "pokemon_number = input(\"What is the Pokemon's ID? \")\n",
    "\n",
    "url = 'https://pokeapi.co/api/v2/pokemon/{}}/'.format(pokemon_number)\n",
    "\n",
    "response = requests.get(url)\n",
    "print(response)\n",
    "\n",
    "pokemon = response.json()\n",
    "pprint(pokemon)"
   ]
  },
  {
   "cell_type": "markdown",
   "metadata": {
    "slideshow": {
     "slide_type": "subslide"
    }
   },
   "source": [
    "Reponse status codes:\n",
    "\n",
    "Status Code | Name | Explanation\n",
    "--- | --- | ---\n",
    "200 | OK | The request worked\n",
    "404 | Not found | Couldn't find the url you requested\n",
    "400 | Bad request | The request you made isn't understood"
   ]
  },
  {
   "cell_type": "markdown",
   "metadata": {
    "slideshow": {
     "slide_type": "subslide"
    }
   },
   "source": [
    "**Exercise 5.3:** Get the *height* and *weight* of a specific Pokemon and print the output\n",
    "\n",
    "Extension: Print the names of all of a specific Pokemon's moves"
   ]
  },
  {
   "cell_type": "markdown",
   "metadata": {
    "slideshow": {
     "slide_type": "subslide"
    }
   },
   "source": [
    "\n",
    "Solution\n",
    "\n"
   ]
  },
  {
   "cell_type": "code",
   "execution_count": null,
   "metadata": {},
   "outputs": [],
   "source": [
    "import requests\n",
    "\n",
    "pokemon_number = input(\"What is the Pokemon's ID? \")\n",
    "\n",
    "url = 'https://pokeapi.co/api/v2/pokemon/{}/'.format(pokemon_number)\n",
    "\n",
    "response = requests.get(url)\n",
    "pokemon = response.json()\n",
    "\n",
    "print(pokemon['name'])\n",
    "print(pokemon['height'])\n",
    "print(pokemon['weight'])"
   ]
  },
  {
   "cell_type": "markdown",
   "metadata": {
    "slideshow": {
     "slide_type": "subslide"
    }
   },
   "source": [
    "\n",
    "Extension Solution\n",
    "\n"
   ]
  },
  {
   "cell_type": "code",
   "execution_count": 2,
   "metadata": {},
   "outputs": [
    {
     "name": "stdout",
     "output_type": "stream",
     "text": [
      "What is the Pokemon's ID? 151\n",
      "pound\n",
      "mega-punch\n",
      "pay-day\n",
      "fire-punch\n",
      "ice-punch\n",
      "thunder-punch\n",
      "razor-wind\n",
      "swords-dance\n",
      "cut\n",
      "whirlwind\n",
      "fly\n",
      "bind\n",
      "mega-kick\n",
      "headbutt\n",
      "horn-drill\n",
      "body-slam\n",
      "take-down\n",
      "double-edge\n",
      "roar\n",
      "flamethrower\n",
      "water-gun\n",
      "surf\n",
      "ice-beam\n",
      "blizzard\n",
      "bubble-beam\n",
      "hyper-beam\n",
      "submission\n",
      "low-kick\n",
      "counter\n",
      "seismic-toss\n",
      "strength\n",
      "mega-drain\n",
      "solar-beam\n",
      "string-shot\n",
      "dragon-rage\n",
      "thunderbolt\n",
      "thunder-wave\n",
      "thunder\n",
      "earthquake\n",
      "fissure\n",
      "dig\n",
      "toxic\n",
      "psychic\n",
      "hypnosis\n",
      "rage\n",
      "teleport\n",
      "night-shade\n",
      "mimic\n",
      "double-team\n",
      "defense-curl\n",
      "barrier\n",
      "light-screen\n",
      "reflect\n",
      "bide\n",
      "metronome\n",
      "self-destruct\n",
      "egg-bomb\n",
      "fire-blast\n",
      "waterfall\n",
      "swift\n",
      "skull-bash\n",
      "amnesia\n",
      "soft-boiled\n",
      "dream-eater\n",
      "leech-life\n",
      "sky-attack\n",
      "transform\n",
      "flash\n",
      "psywave\n",
      "explosion\n",
      "rest\n",
      "rock-slide\n",
      "tri-attack\n",
      "super-fang\n",
      "substitute\n",
      "thief\n",
      "nightmare\n",
      "snore\n",
      "curse\n",
      "spite\n",
      "protect\n",
      "feint-attack\n",
      "sludge-bomb\n",
      "mud-slap\n",
      "zap-cannon\n",
      "icy-wind\n",
      "detect\n",
      "outrage\n",
      "sandstorm\n",
      "giga-drain\n",
      "endure\n",
      "rollout\n",
      "false-swipe\n",
      "swagger\n",
      "fury-cutter\n",
      "steel-wing\n",
      "attract\n",
      "sleep-talk\n",
      "heal-bell\n",
      "return\n",
      "frustration\n",
      "safeguard\n",
      "pain-split\n",
      "dynamic-punch\n",
      "dragon-breath\n",
      "baton-pass\n",
      "sweet-scent\n",
      "iron-tail\n",
      "synthesis\n",
      "hidden-power\n",
      "twister\n",
      "rain-dance\n",
      "sunny-day\n",
      "psych-up\n",
      "ancient-power\n",
      "shadow-ball\n",
      "rock-smash\n",
      "whirlpool\n",
      "fake-out\n",
      "uproar\n",
      "heat-wave\n",
      "hail\n",
      "torment\n",
      "will-o-wisp\n",
      "facade\n",
      "focus-punch\n",
      "nature-power\n",
      "taunt\n",
      "helping-hand\n",
      "trick\n",
      "role-play\n",
      "superpower\n",
      "magic-coat\n",
      "recycle\n",
      "brick-break\n",
      "knock-off\n",
      "endeavor\n",
      "skill-swap\n",
      "snatch\n",
      "secret-power\n",
      "dive\n",
      "hyper-voice\n",
      "air-cutter\n",
      "overheat\n",
      "rock-tomb\n",
      "silver-wind\n",
      "signal-beam\n",
      "bullet-seed\n",
      "aerial-ace\n",
      "iron-defense\n",
      "block\n",
      "dragon-claw\n",
      "bulk-up\n",
      "bounce\n",
      "covet\n",
      "calm-mind\n",
      "shock-wave\n",
      "water-pulse\n",
      "roost\n",
      "gravity\n",
      "gyro-ball\n",
      "brine\n",
      "natural-gift\n",
      "pluck\n",
      "tailwind\n",
      "u-turn\n",
      "payback\n",
      "embargo\n",
      "fling\n",
      "gastro-acid\n",
      "me-first\n",
      "last-resort\n",
      "worry-seed\n",
      "sucker-punch\n",
      "magnet-rise\n",
      "aura-sphere\n",
      "rock-polish\n",
      "poison-jab\n",
      "dark-pulse\n",
      "aqua-tail\n",
      "seed-bomb\n",
      "x-scissor\n",
      "dragon-pulse\n",
      "drain-punch\n",
      "vacuum-wave\n",
      "focus-blast\n",
      "energy-ball\n",
      "earth-power\n",
      "giga-impact\n",
      "nasty-plot\n",
      "avalanche\n",
      "shadow-claw\n",
      "zen-headbutt\n",
      "flash-cannon\n",
      "rock-climb\n",
      "defog\n",
      "trick-room\n",
      "gunk-shot\n",
      "iron-head\n",
      "stone-edge\n",
      "captivate\n",
      "stealth-rock\n",
      "grass-knot\n",
      "bug-bite\n",
      "charge-beam\n",
      "ominous-wind\n",
      "hone-claws\n",
      "wonder-room\n",
      "psyshock\n",
      "venoshock\n",
      "telekinesis\n",
      "magic-room\n",
      "smack-down\n",
      "sludge-wave\n",
      "flame-charge\n",
      "low-sweep\n",
      "foul-play\n",
      "after-you\n",
      "round\n",
      "echoed-voice\n",
      "ally-switch\n",
      "scald\n",
      "sky-drop\n",
      "incinerate\n",
      "quash\n",
      "acrobatics\n",
      "reflect-type\n",
      "retaliate\n",
      "volt-switch\n",
      "struggle-bug\n",
      "bulldoze\n",
      "frost-breath\n",
      "dragon-tail\n",
      "work-up\n",
      "electroweb\n",
      "wild-charge\n",
      "drill-run\n",
      "dual-chop\n",
      "snarl\n",
      "confide\n",
      "dazzling-gleam\n",
      "infestation\n",
      "power-up-punch\n",
      "smart-strike\n",
      "brutal-swing\n",
      "aurora-veil\n"
     ]
    }
   ],
   "source": [
    "import requests\n",
    "\n",
    "pokemon_number = input(\"What is the Pokemon's ID? \")\n",
    "\n",
    "url = 'https://pokeapi.co/api/v2/pokemon/{}/'.format(pokemon_number)\n",
    "\n",
    "response = requests.get(url)\n",
    "pokemon = response.json()\n",
    "\n",
    "moves = pokemon['moves']\n",
    "\n",
    "for move in moves:\n",
    "    print(move['move']['name'])"
   ]
  },
  {
   "cell_type": "markdown",
   "metadata": {
    "slideshow": {
     "slide_type": "slide"
    }
   },
   "source": [
    "### Recap"
   ]
  },
  {
   "cell_type": "markdown",
   "metadata": {
    "slideshow": {
     "slide_type": "subslide"
    }
   },
   "source": [
    "This session\n",
    "1. Files\n",
    "1. Pip package manager\n",
    "1. APIs"
   ]
  },
  {
   "cell_type": "markdown",
   "metadata": {
    "slideshow": {
     "slide_type": "subslide"
    }
   },
   "source": [
    "**Homework:** Session 5 homework questions in your student guide\n",
    "\n",
    "Look at the project suggestions in your student guide and think about which one you might like to work on"
   ]
  }
 ],
 "metadata": {
  "kernelspec": {
   "display_name": "Python 3",
   "language": "python",
   "name": "python3"
  },
  "language_info": {
   "codemirror_mode": {
    "name": "ipython",
    "version": 3
   },
   "file_extension": ".py",
   "mimetype": "text/x-python",
   "name": "python",
   "nbconvert_exporter": "python",
   "pygments_lexer": "ipython3",
   "version": "3.6.7"
  },
  "livereveal": {
   "footer": "<img src=\"images/logo.png\" style=\"margin-left: 20px; margin-bottom: 20px;\"/>",
   "progress": true,
   "scroll": true,
   "start_slideshow_at": "selected"
  },
  "rise": {
   "enable_chalkboard": true
  }
 },
 "nbformat": 4,
 "nbformat_minor": 2
}
