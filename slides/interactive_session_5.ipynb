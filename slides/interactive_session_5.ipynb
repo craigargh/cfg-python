{
  "cells": [
    {
      "cell_type": "markdown",
      "metadata": {
        "slideshow": {
          "slide_type": "slide"
        }
      },
      "source": [
        "**Starter:** ???"
      ]
    },
    {
      "cell_type": "markdown",
      "metadata": {
        "slideshow": {
          "slide_type": "slide"
        }
      },
      "source": [
        "![Code First: Girls](images/logo_large.png)\n\n#### Python Session 5"
      ]
    },
    {
      "cell_type": "markdown",
      "metadata": {
        "slideshow": {
          "slide_type": "slide"
        }
      },
      "source": [
        "This session\n1. Files\n1. Pip package manager\n1. APIs"
      ]
    },
    {
      "cell_type": "markdown",
      "metadata": {
        "slideshow": {
          "slide_type": "slide"
        }
      },
      "source": [
        "### Reading/Writing Files"
      ]
    },
    {
      "cell_type": "markdown",
      "metadata": {
        "slideshow": {
          "slide_type": "subslide"
        }
      },
      "source": [
        "\nWriting to a file\n\n"
      ]
    },
    {
      "cell_type": "code",
      "metadata": {},
      "source": [
        "with open('something.txt', 'w+') as text_file:\n    text_file.write('hello')"
      ],
      "execution_count": null,
      "outputs": []
    },
    {
      "cell_type": "markdown",
      "metadata": {
        "slideshow": {
          "slide_type": "subslide"
        }
      },
      "source": [
        "\nReading from a file\n\n"
      ]
    },
    {
      "cell_type": "code",
      "metadata": {},
      "source": [
        "with open('something.txt', 'w+') as text_file:\n    contents = text_file.read()\n\nprint(contents)"
      ],
      "execution_count": null,
      "outputs": []
    },
    {
      "cell_type": "markdown",
      "metadata": {
        "slideshow": {
          "slide_type": "subslide"
        }
      },
      "source": [
        "\nThe `'w+'` argument allows you to read and write to a file while only opening it once \n\n"
      ]
    },
    {
      "cell_type": "code",
      "metadata": {},
      "source": [
        "with open('something.txt', 'w+') as text_file:\n    contents = text_file.read()\n    output = reversed(contents)\n\n    text_file.write(output)"
      ],
      "execution_count": null,
      "outputs": []
    },
    {
      "cell_type": "markdown",
      "metadata": {
        "slideshow": {
          "slide_type": "subslide"
        }
      },
      "source": [
        "**Exercise 5.1:** ???"
      ]
    },
    {
      "cell_type": "markdown",
      "metadata": {
        "slideshow": {
          "slide_type": "slide"
        }
      },
      "source": [
        "### Reading/Writing CSV Files"
      ]
    },
    {
      "cell_type": "code",
      "metadata": {},
      "source": [
        "import csv\nfrom pprint import pprint\n\nwith open('.csv', 'w+') as csv_file:\n    spreadsheet = csv.reader(csv_file)\n\npprint(spreadsheet)"
      ],
      "execution_count": null,
      "outputs": []
    },
    {
      "cell_type": "code",
      "metadata": {},
      "source": [
        "import csv\n\ndata = [\n    ['name', 'age'],\n    ['Jill', 32],\n    ['Sara', 28],\n]\n\nwith open('team.csv', 'w+') as csv_file:\n    spreadsheet = csv.writer(csv_file)\n    spreadsheet.writerows(data)"
      ],
      "execution_count": null,
      "outputs": []
    },
    {
      "cell_type": "markdown",
      "metadata": {
        "slideshow": {
          "slide_type": "slide"
        }
      },
      "source": [
        "### Python Pip"
      ]
    },
    {
      "cell_type": "markdown",
      "metadata": {
        "slideshow": {
          "slide_type": "subslide"
        }
      },
      "source": [
        "**pip:** A package manager used to install libraries that other people have written"
      ]
    },
    {
      "cell_type": "markdown",
      "metadata": {
        "slideshow": {
          "slide_type": "subslide"
        }
      },
      "source": [
        "pip is used via the terminal (command-line)\n\n![Opening the terminal](gifs/terminal.gif)"
      ]
    },
    {
      "cell_type": "markdown",
      "metadata": {
        "slideshow": {
          "slide_type": "subslide"
        }
      },
      "source": [
        "\nInstall the `requests` library using pip\n\n``` command-line\npip install requests\n```\n\n"
      ]
    },
    {
      "cell_type": "markdown",
      "metadata": {
        "slideshow": {
          "slide_type": "slide"
        }
      },
      "source": [
        "### APIs: Reading Stuff"
      ]
    },
    {
      "cell_type": "markdown",
      "metadata": {
        "slideshow": {
          "slide_type": "subslide"
        }
      },
      "source": [
        "**Application Programming Interface (API):** A way to send data between programs\n\nWeb APIs allow you to do this over the internet."
      ]
    },
    {
      "cell_type": "markdown",
      "metadata": {
        "slideshow": {
          "slide_type": "subslide"
        }
      },
      "source": [
        "Pok\u00e9api is an API to get data about Pok\u00e9mon\n\n[pokeapi.co/](https://pokeapi.co/)"
      ]
    },
    {
      "cell_type": "markdown",
      "metadata": {
        "slideshow": {
          "slide_type": "subslide"
        }
      },
      "source": [
        "Each Pokemon has a number that identifies it\n\nYou can retrieve information about different Pokemon from urls\n\n[https://pokeapi.co/api/v2/pokemon/6/](https://pokeapi.co/api/v2/pokemon/6/)"
      ]
    },
    {
      "cell_type": "markdown",
      "metadata": {
        "slideshow": {
          "slide_type": "subslide"
        }
      },
      "source": [
        "\n\nSave this as `get_pokemon.py`\n\n"
      ]
    },
    {
      "cell_type": "code",
      "metadata": {},
      "source": [
        "import requests\nfrom pprint import pprint\n\nurl = 'https://pokeapi.co/api/v2/pokemon/151/'\n\nresponse = requests.get(url)\nprint(response)\n\npokemon = response.json()\npprint(pokemon)"
      ],
      "execution_count": null,
      "outputs": []
    },
    {
      "cell_type": "markdown",
      "metadata": {
        "slideshow": {
          "slide_type": "subslide"
        }
      },
      "source": [
        "Reponse status codes:\n\nStatus Code | Name | Explanation\n--- | --- | ---\n200 | OK | The request worked\n404 | Not found | Couldn't find the url you requested\n400 | Bad request | The request you made isn't understood"
      ]
    },
    {
      "cell_type": "markdown",
      "metadata": {
        "slideshow": {
          "slide_type": "subslide"
        }
      },
      "source": [
        "**Exercise:** Get the *height* and *weight* of the Pokemon and print the output\n\nAdd `input()` to choose which Pokemon you want information about"
      ]
    },
    {
      "cell_type": "markdown",
      "metadata": {
        "slideshow": {
          "slide_type": "subslide"
        }
      },
      "source": [
        "\nSolution\n\n"
      ]
    },
    {
      "cell_type": "code",
      "metadata": {},
      "source": [
        "import requests\n\npokemon_number = input(\"What is the Pokemon's ID? \")\n\nurl = 'https://pokeapi.co/api/v2/pokemon/{}/'.format(pokemon_number)\n\nresponse = requests.get(url)\npokemon = response.json()\n\nprint(pokemon['name'])\nprint(pokemon['height'])\nprint(pokemon['weight'])"
      ],
      "execution_count": null,
      "outputs": []
    },
    {
      "cell_type": "markdown",
      "metadata": {
        "slideshow": {
          "slide_type": "slide"
        }
      },
      "source": [
        "### Recap"
      ]
    },
    {
      "cell_type": "markdown",
      "metadata": {
        "slideshow": {
          "slide_type": "subslide"
        }
      },
      "source": [
        "This session\n1. Files\n1. Pip package manager\n1. APIs"
      ]
    },
    {
      "cell_type": "markdown",
      "metadata": {
        "slideshow": {
          "slide_type": "subslide"
        }
      },
      "source": [
        "**Homework:** Session 5 homework questions in your student guide\n\nLook at the project suggestions in your student guide and think about which one you might like to work on"
      ]
    }
  ],
  "metadata": {
    "kernelspec": {
      "display_name": "Python 3",
      "language": "python",
      "name": "python3"
    },
    "language_info": {
      "codemirror_mode": {
        "name": "ipython",
        "version": 3
      },
      "file_extension": ".py",
      "mimetype": "text/x-python",
      "name": "python",
      "nbconvert_exporter": "python",
      "pygments_lexer": "ipython3",
      "version": "3.6.7"
    },
    "livereveal": {
      "scroll": true,
      "progress": true,
      "start_slideshow_at": "selected",
      "footer": "<img src=\"images/logo.png\" style=\"margin-left: 20px; margin-bottom: 20px;\"/>"
    },
    "rise": {
      "enable_chalkboard": true
    }
  },
  "nbformat": 4,
  "nbformat_minor": 2
}