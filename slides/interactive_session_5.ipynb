{
  "cells": [
    {
      "cell_type": "markdown",
      "metadata": {
        "slideshow": {
          "slide_type": "slide"
        }
      },
      "source": [
        "**Starter:** How do I output the `species` values for each of the dictionaries?\n\n```python\n[\n    {'species': 'zebra', 'name': 'Penelope'},\n    {'species': 'penguin', 'name': 'Jenn'},\n    {'species': 'elephant', 'name': 'Harris'},\n    {'species': 'flamingo', 'name': 'Florence'},\n]\n\n```"
      ]
    },
    {
      "cell_type": "markdown",
      "metadata": {
        "slideshow": {
          "slide_type": "slide"
        }
      },
      "source": [
        "![Code First: Girls](images/logo_large.png)\n\n#### Python Session 5"
      ]
    },
    {
      "cell_type": "markdown",
      "metadata": {
        "slideshow": {
          "slide_type": "slide"
        }
      },
      "source": [
        "This session\n1. Files\n1. Pip package manager\n1. APIs"
      ]
    },
    {
      "cell_type": "markdown",
      "metadata": {
        "slideshow": {
          "slide_type": "slide"
        }
      },
      "source": [
        "### Reading/Writing Files"
      ]
    },
    {
      "cell_type": "markdown",
      "metadata": {
        "slideshow": {
          "slide_type": "subslide"
        }
      },
      "source": [
        "\nWriting to a file\n\n"
      ]
    },
    {
      "cell_type": "code",
      "metadata": {},
      "source": [
        "with open('people.txt', 'w+') as text_file:\n    people = 'Joanne \\nSusan \\nAmina'\n\n    text_file.write(people)"
      ],
      "execution_count": null,
      "outputs": []
    },
    {
      "cell_type": "markdown",
      "metadata": {
        "slideshow": {
          "slide_type": "subslide"
        }
      },
      "source": [
        "\nReading from a file\n\n"
      ]
    },
    {
      "cell_type": "code",
      "metadata": {},
      "source": [
        "with open('people.txt', 'r') as text_file:\n    contents = text_file.read()\n\nprint(contents)"
      ],
      "execution_count": null,
      "outputs": []
    },
    {
      "cell_type": "markdown",
      "metadata": {
        "slideshow": {
          "slide_type": "subslide"
        }
      },
      "source": [
        "**Exercise 5.1:** Create a to-do list program that writes user input to a file\n\nThe program should:\n- Ask the user to input a new to-do item\n- Read the contents of the existing to-do items\n- Add the new to do item to the existing to-do items\n- Save the updated to-do items\n\nYou will need to manually create a new file called `todo.txt` in the same folder as your program before you start"
      ]
    },
    {
      "cell_type": "markdown",
      "metadata": {
        "slideshow": {
          "slide_type": "subslide"
        }
      },
      "source": [
        "\nSolution\n\n"
      ]
    },
    {
      "cell_type": "code",
      "metadata": {},
      "source": [
        "new_item = input('Enter a to-do item: ')\n\nwith open('todo.txt', 'r') as todo_file:\n    todo = todo_file.read()\n\ntodo = todo + new_item + '\\n'\n\nwith open('todo.txt', 'w+') as todo_file:\n    todo_file.write(todo)"
      ],
      "execution_count": null,
      "outputs": []
    },
    {
      "cell_type": "markdown",
      "metadata": {
        "slideshow": {
          "slide_type": "slide"
        }
      },
      "source": [
        "### Working With CSV Files"
      ]
    },
    {
      "cell_type": "markdown",
      "metadata": {
        "slideshow": {
          "slide_type": "subslide"
        }
      },
      "source": [
        "\nWriting a CSV\n\n"
      ]
    },
    {
      "cell_type": "code",
      "metadata": {},
      "source": [
        "import csv\n\nfield_names = ['name', 'age']\n\ndata = [\n    {'name': 'Jill', 'age': 32},\n    {'name': 'Sara', 'age': 28},\n]\n\nwith open('team.csv', 'w+') as csv_file:\n    spreadsheet = csv.DictWriter(csv_file, fieldnames=field_names)\n    \n    spreadsheet.writeheader()\n    spreadsheet.writerows(data)"
      ],
      "execution_count": null,
      "outputs": []
    },
    {
      "cell_type": "markdown",
      "metadata": {
        "slideshow": {
          "slide_type": "subslide"
        }
      },
      "source": [
        "\nReading a CSV\n\n"
      ]
    },
    {
      "cell_type": "code",
      "metadata": {},
      "source": [
        "import csv\n\nwith open('team.csv', 'r') as csv_file:\n    spreadsheet = csv.DictReader(csv_file)\n    for row in spreadsheet:\n        print(dict(row))"
      ],
      "execution_count": null,
      "outputs": []
    },
    {
      "cell_type": "markdown",
      "metadata": {
        "slideshow": {
          "slide_type": "subslide"
        }
      },
      "source": [
        "\n\n**Exercise 5.2:** This program is supposed to read data about trees from a file to find the shortest tree. Complete the program adding code to open `trees.csv`.\n\nThe `trees.csv` file included with your student guides. Save the csv file in the same folder as your Python program.\n\n"
      ]
    },
    {
      "cell_type": "code",
      "metadata": {},
      "source": [
        "spreadsheet = # Add code to open the csv file\n\nheights = []\n\nfor row in spreadsheet:\n    tree_height = row['height']\n    heights.append(tree_height)\n\nshortest_height = min(heights)\nprint(shortest_height)"
      ],
      "execution_count": null,
      "outputs": []
    },
    {
      "cell_type": "markdown",
      "metadata": {
        "slideshow": {
          "slide_type": "subslide"
        }
      },
      "source": [
        "\nSolution\n\n"
      ]
    },
    {
      "cell_type": "code",
      "metadata": {},
      "source": [
        "import csv\n\nwith open('trees.csv', 'r') as csv_file:\n    spreadsheet = csv.DictReader(csv_file)\n\n    heights = []\n\n    for row in spreadsheet:\n        tree_height = row['height']\n        heights.append(tree_height)\n\nshortest_height = min(heights)\nprint(shortest_height)"
      ],
      "execution_count": null,
      "outputs": []
    },
    {
      "cell_type": "markdown",
      "metadata": {
        "slideshow": {
          "slide_type": "slide"
        }
      },
      "source": [
        "### Python Pip"
      ]
    },
    {
      "cell_type": "markdown",
      "metadata": {
        "slideshow": {
          "slide_type": "subslide"
        }
      },
      "source": [
        "**pip:** A package manager used to install libraries that other people have written"
      ]
    },
    {
      "cell_type": "markdown",
      "metadata": {
        "slideshow": {
          "slide_type": "subslide"
        }
      },
      "source": [
        "pip is used via the terminal (command-line)\n\n![Opening the terminal](gifs/7_pip.gif)"
      ]
    },
    {
      "cell_type": "markdown",
      "metadata": {
        "slideshow": {
          "slide_type": "subslide"
        }
      },
      "source": [
        "\nInstall the `requests` library using pip\n\n``` command-line\npip install requests\n```\n\n"
      ]
    },
    {
      "cell_type": "markdown",
      "metadata": {
        "slideshow": {
          "slide_type": "slide"
        }
      },
      "source": [
        "### APIs: Reading Stuff"
      ]
    },
    {
      "cell_type": "markdown",
      "metadata": {
        "slideshow": {
          "slide_type": "subslide"
        }
      },
      "source": [
        "**Application Programming Interface (API):** A way for different programs to interact. For example they can send data to one another.\n\nWeb APIs allow you to interact with other programs over the internet."
      ]
    },
    {
      "cell_type": "markdown",
      "metadata": {
        "slideshow": {
          "slide_type": "subslide"
        }
      },
      "source": [
        "![](images/request_response.svg)"
      ]
    },
    {
      "cell_type": "markdown",
      "metadata": {
        "slideshow": {
          "slide_type": "subslide"
        }
      },
      "source": [
        "**API Request:** When your program asks an API for some or to complete a specific action\n\n**API Response:** The result of your request from the API"
      ]
    },
    {
      "cell_type": "markdown",
      "metadata": {
        "slideshow": {
          "slide_type": "subslide"
        }
      },
      "source": [
        "Pok\u00e9api is an API to get data about Pok\u00e9mon\n\n[pokeapi.co/](https://pokeapi.co/)"
      ]
    },
    {
      "cell_type": "markdown",
      "metadata": {
        "slideshow": {
          "slide_type": "subslide"
        }
      },
      "source": [
        "Each Pokemon has a number that identifies it\n\nYou can retrieve information about different Pokemon from urls\n\n[https://pokeapi.co/api/v2/pokemon/6/](https://pokeapi.co/api/v2/pokemon/6/)"
      ]
    },
    {
      "cell_type": "markdown",
      "metadata": {
        "slideshow": {
          "slide_type": "subslide"
        }
      },
      "source": [
        "\n\nSave this as `get_pokemon.py`\n\n"
      ]
    },
    {
      "cell_type": "code",
      "metadata": {},
      "source": [
        "import requests\nfrom pprint import pprint\n\npokemon_number = input(\"What is the Pokemon's ID? \")\n\nurl = 'https://pokeapi.co/api/v2/pokemon/{}/'.format(pokemon_number)\n\nresponse = requests.get(url)\nprint(response)\n\npokemon = response.json()\npprint(pokemon)"
      ],
      "execution_count": null,
      "outputs": []
    },
    {
      "cell_type": "markdown",
      "metadata": {
        "slideshow": {
          "slide_type": "subslide"
        }
      },
      "source": [
        "Reponse status codes:\n\nStatus Code | Name | Explanation\n--- | --- | ---\n200 | OK | The request worked\n404 | Not found | Couldn't find the url you requested\n400 | Bad request | The request you made isn't understood"
      ]
    },
    {
      "cell_type": "markdown",
      "metadata": {
        "slideshow": {
          "slide_type": "subslide"
        }
      },
      "source": [
        "**Exercise 5.3:** Get the *height* and *weight* of a specific Pokemon and print the output\n\nExtension: Print the names of all of a specific Pokemon's moves"
      ]
    },
    {
      "cell_type": "markdown",
      "metadata": {
        "slideshow": {
          "slide_type": "subslide"
        }
      },
      "source": [
        "\nSolution\n\n"
      ]
    },
    {
      "cell_type": "code",
      "metadata": {},
      "source": [
        "import requests\n\npokemon_number = input(\"What is the Pokemon's ID? \")\n\nurl = 'https://pokeapi.co/api/v2/pokemon/{}/'.format(pokemon_number)\n\nresponse = requests.get(url)\npokemon = response.json()\n\nprint(pokemon['name'])\nprint(pokemon['height'])\nprint(pokemon['weight'])"
      ],
      "execution_count": null,
      "outputs": []
    },
    {
      "cell_type": "markdown",
      "metadata": {
        "slideshow": {
          "slide_type": "subslide"
        }
      },
      "source": [
        "\nExtension Solution\n\n"
      ]
    },
    {
      "cell_type": "code",
      "metadata": {},
      "source": [
        "import requests\n\npokemon_number = input(\"What is the Pokemon's ID? \")\n\nurl = 'https://pokeapi.co/api/v2/pokemon/{}/'.format(pokemon_number)\n\nresponse = requests.get(url)\npokemon = response.json()\n\nmoves = pokemon['moves']\n\nfor move in moves:\n    print(move['move']['name'])"
      ],
      "execution_count": null,
      "outputs": []
    },
    {
      "cell_type": "markdown",
      "metadata": {
        "slideshow": {
          "slide_type": "slide"
        }
      },
      "source": [
        "### Recap"
      ]
    },
    {
      "cell_type": "markdown",
      "metadata": {
        "slideshow": {
          "slide_type": "subslide"
        }
      },
      "source": [
        "This session\n1. Files\n1. Pip package manager\n1. APIs"
      ]
    },
    {
      "cell_type": "markdown",
      "metadata": {
        "slideshow": {
          "slide_type": "subslide"
        }
      },
      "source": [
        "**Question 1:** What is a web API?"
      ]
    },
    {
      "cell_type": "markdown",
      "metadata": {
        "slideshow": {
          "slide_type": "subslide"
        }
      },
      "source": [
        "**Question 2:** What is the purpose of pip and PyPI?"
      ]
    },
    {
      "cell_type": "markdown",
      "metadata": {
        "slideshow": {
          "slide_type": "subslide"
        }
      },
      "source": [
        "\n**Question 3:** Explain what this code does:\n\n"
      ]
    },
    {
      "cell_type": "code",
      "metadata": {},
      "source": [
        "import requests\n\nurl = 'https://pokeapi.co/api/v2/item/28/'\nresponse = requests.get(url)\ndata = response.json()\n\nprint(data['name'])"
      ],
      "execution_count": null,
      "outputs": []
    },
    {
      "cell_type": "markdown",
      "metadata": {
        "slideshow": {
          "slide_type": "subslide"
        }
      },
      "source": [
        "**Homework:** Session 5 homework questions in your student guide\n\nLook at the project suggestions in your student guide and think about which one you might like to work on"
      ]
    }
  ],
  "metadata": {
    "kernelspec": {
      "display_name": "Python 3",
      "language": "python",
      "name": "python3"
    },
    "language_info": {
      "codemirror_mode": {
        "name": "ipython",
        "version": 3
      },
      "file_extension": ".py",
      "mimetype": "text/x-python",
      "name": "python",
      "nbconvert_exporter": "python",
      "pygments_lexer": "ipython3",
      "version": "3.6.7"
    },
    "livereveal": {
      "scroll": true,
      "progress": true,
      "start_slideshow_at": "selected",
      "footer": "<img src=\"images/logo.png\" style=\"margin-left: 20px; margin-bottom: 20px;\"/>"
    },
    "rise": {
      "enable_chalkboard": true
    }
  },
  "nbformat": 4,
  "nbformat_minor": 2
}