{
  "cells": [
    {
      "cell_type": "markdown",
      "metadata": {
        "slideshow": {
          "slide_type": "slide"
        }
      },
      "source": [
        "**Starter:** ???"
      ]
    },
    {
      "cell_type": "markdown",
      "metadata": {
        "slideshow": {
          "slide_type": "slide"
        }
      },
      "source": [
        "![Code First: Girls](images/logo_large.png)\n\n#### Python Session 3"
      ]
    },
    {
      "cell_type": "markdown",
      "metadata": {
        "slideshow": {
          "slide_type": "subslide"
        }
      },
      "source": [
        "This session:\n1. Logical Operators\n1. If Statements"
      ]
    },
    {
      "cell_type": "markdown",
      "metadata": {
        "slideshow": {
          "slide_type": "slide"
        }
      },
      "source": [
        "### Logical Operators"
      ]
    },
    {
      "cell_type": "markdown",
      "metadata": {
        "slideshow": {
          "slide_type": "subslide"
        }
      },
      "source": [
        "**Bolean:** A data-type that is either `True` or `False`\n\n**Logical Operators:** compare values to determine wheter something is `True` or `False`"
      ]
    },
    {
      "cell_type": "markdown",
      "metadata": {
        "slideshow": {
          "slide_type": "subslide"
        }
      },
      "source": [
        "\nThis code checks if the user has input `'Monday'` using the `==` operator\n\n"
      ]
    },
    {
      "cell_type": "code",
      "metadata": {},
      "source": [
        "today = input('What day is it? ')\n\nis_monday = today == 'Monday'\n\nprint('Today is Monday: {}'.format(is_monday))"
      ],
      "execution_count": null,
      "outputs": []
    },
    {
      "cell_type": "markdown",
      "metadata": {
        "slideshow": {
          "slide_type": "subslide"
        }
      },
      "source": [
        "Operators in Python\n\nName | Python\n---|---\nEqual to | `==`\nNot equal | `!=`\nGreater than | `>`\nLess than | `<`\nGreater than or equal | `>=`\nLess than or equal | `<=`"
      ]
    },
    {
      "cell_type": "markdown",
      "metadata": {
        "slideshow": {
          "slide_type": "subslide"
        }
      },
      "source": [
        "\nThis code checks if the current temperature is freezing:\n\n"
      ]
    },
    {
      "cell_type": "code",
      "metadata": {},
      "source": [
        "temperature = input('What is the temperature? ')\n\nis_freezing = int(temperature) <= 0\n\nprint('The temperature is freezing: {}'.format(is_freezing))"
      ],
      "execution_count": null,
      "outputs": []
    },
    {
      "cell_type": "markdown",
      "metadata": {
        "slideshow": {
          "slide_type": "subslide"
        }
      },
      "source": [
        "\n**Exercise 3.1:** You have a budget of \u00a310 and want to write a program to decide which burger restaurant to go to.\n\n1. Input the `price` of a burger using `input()`\n1. Check whether the `price` is less than or equal (`<=`) `10.00`\n1. Print the result in the format below\n\n```bash\nBurger is within budget: True\n```\n\n**Hint:** remember to convert the input from a string to a decimal with `float()`\n\n"
      ]
    },
    {
      "cell_type": "markdown",
      "metadata": {
        "slideshow": {
          "slide_type": "subslide"
        }
      },
      "source": [
        "\nAnswer\n\n"
      ]
    },
    {
      "cell_type": "code",
      "metadata": {},
      "source": [
        "price = input('How much is a burger? ')\n\nwithin_budget = float(price) <= 10.00\n\nprint('Burger is within budget: {}'.format(within_budget))"
      ],
      "execution_count": null,
      "outputs": []
    },
    {
      "cell_type": "markdown",
      "metadata": {
        "slideshow": {
          "slide_type": "subslide"
        }
      },
      "source": [
        "There are operators to combine multiple checks\n\nPython | What it does\n---|---\nand | both expressions are `True`\nor | at least one expression is `True`\nnot | reverse the expression (`True` becomes `False` and vice-versa)"
      ]
    },
    {
      "cell_type": "markdown",
      "metadata": {
        "slideshow": {
          "slide_type": "subslide"
        }
      },
      "source": [
        "\nThis program will work out if you should visit Mars based on whether you want to visit and if you can afford it:\n\n"
      ]
    },
    {
      "cell_type": "code",
      "metadata": {},
      "source": [
        "mars_choice = input('Would you like to visit Mars? y/n')\nis_willing = mars_choice == 'y'\n\naffordable = input('Can you afford to visit Mars? y/n')\ncan_afford = affordable == 'y'\n\nshould_visit_mars = is_willing and can_afford\n\nprint('You should visit Mars: {}'.format(should_visit_mars))"
      ],
      "execution_count": null,
      "outputs": []
    },
    {
      "cell_type": "markdown",
      "metadata": {
        "slideshow": {
          "slide_type": "subslide"
        }
      },
      "source": [
        "\n**Exercise 3.2:** Add code to your burger program to input whether the restaurant has a vegetarian option\n\nThe output should say whether the cost is within budget **AND** has a vegetarian option\n\n```bash\nRestaurant meets criteria: True\n```\n\n"
      ]
    },
    {
      "cell_type": "markdown",
      "metadata": {
        "slideshow": {
          "slide_type": "subslide"
        }
      },
      "source": [
        "\nSolution:\n\n"
      ]
    },
    {
      "cell_type": "code",
      "metadata": {},
      "source": [
        "price = input('How much is a burger? ')\nvegetarian = input('Is there a vegetarian option? (y/n) ')\n\nwithin_budget = float(price) <= 10.00\nhas_vegetarian = vegetarian == 'y'\n\nis_good_choice = within_budget and has_vegetarian\n\nprint('Restaurant meets criteria: {}'.format(is_good_choice))"
      ],
      "execution_count": null,
      "outputs": []
    },
    {
      "cell_type": "markdown",
      "metadata": {
        "slideshow": {
          "slide_type": "slide"
        }
      },
      "source": [
        "### If Statements"
      ]
    },
    {
      "cell_type": "markdown",
      "metadata": {
        "slideshow": {
          "slide_type": "subslide"
        }
      },
      "source": [
        "**if statement:** used to run a block of code depending on whether a condition is `True` or `False`"
      ]
    },
    {
      "cell_type": "code",
      "metadata": {},
      "source": [
        "password = input('password: ')\n\nif password == 'jumanji':\n    print('Success!')"
      ],
      "execution_count": null,
      "outputs": []
    },
    {
      "cell_type": "markdown",
      "metadata": {
        "slideshow": {
          "slide_type": "subslide"
        }
      },
      "source": [
        "An `if` statement has the following:\n1. The `if` keyword\n1. A condition (logical operator expression)\n1. A colon\n1. Body (indented four spaces)"
      ]
    },
    {
      "cell_type": "markdown",
      "metadata": {
        "slideshow": {
          "slide_type": "subslide"
        }
      },
      "source": [
        "\nThis program checks whether you are an admin and you have entered the right password:\n\n"
      ]
    },
    {
      "cell_type": "code",
      "metadata": {},
      "source": [
        "name = input(\"What is your name? \")\nis_admin = name == 'admin'\n\npassword = input(\"What is your password? \")\nis_password_correct = password == 'dinosaurs'\n\nif is_admin and is_password_correct:\n    print('Welcome')\n\nif not is_admin or not is_password_correct:\n    print('Go away')"
      ],
      "execution_count": null,
      "outputs": []
    },
    {
      "cell_type": "markdown",
      "metadata": {
        "slideshow": {
          "slide_type": "subslide"
        }
      },
      "source": [
        "\n**Exercise 3.3:** Rewrite the output of your burger program to use if statements\n\nDepending on the input the output should be:\n\n```bash\nThis restaurant is a great choice!\n```\n\nOtherwise it should be:\n\n```bash\nProbably not a good idea\n```\n\n"
      ]
    },
    {
      "cell_type": "markdown",
      "metadata": {
        "slideshow": {
          "slide_type": "slide"
        }
      },
      "source": [
        "### Else Statements"
      ]
    },
    {
      "cell_type": "markdown",
      "metadata": {
        "slideshow": {
          "slide_type": "subslide"
        }
      },
      "source": [
        "**else statement:** Used with an `if` statement and will run when the `if` condition is `False`"
      ]
    },
    {
      "cell_type": "code",
      "metadata": {},
      "source": [
        "password = input('password: ')\n\nif password == 'jumanji':\n    print('Success!')\nelse:\n    print('Failure!')"
      ],
      "execution_count": null,
      "outputs": []
    },
    {
      "cell_type": "markdown",
      "metadata": {
        "slideshow": {
          "slide_type": "subslide"
        }
      },
      "source": [
        "\nHere's the admin program rewritten to use `else`:\n\n"
      ]
    },
    {
      "cell_type": "code",
      "metadata": {},
      "source": [
        "name = input(\"What is your name? \")\nis_admin = name == 'admin'\n\npassword = input(\"What is your password? \")\nis_password_correct = password == 'dinosaurs'\n\nif is_admin and is_password_correct:\n    print('Welcome')\n\nelse:\n    print('Go away')"
      ],
      "execution_count": null,
      "outputs": []
    },
    {
      "cell_type": "markdown",
      "metadata": {
        "slideshow": {
          "slide_type": "subslide"
        }
      },
      "source": [
        "\n**Exercise 3.4:**\n\n"
      ]
    },
    {
      "cell_type": "code",
      "metadata": {},
      "source": [
        "???"
      ],
      "execution_count": null,
      "outputs": []
    },
    {
      "cell_type": "markdown",
      "metadata": {
        "slideshow": {
          "slide_type": "slide"
        }
      },
      "source": [
        "### Elif Statements"
      ]
    },
    {
      "cell_type": "markdown",
      "metadata": {
        "slideshow": {
          "slide_type": "subslide"
        }
      },
      "source": [
        "\n**Exercise ???:** Rock, scissors, paper\n\n"
      ]
    },
    {
      "cell_type": "code",
      "metadata": {},
      "source": [
        "import random\n\n\ndef random_choice():\n    choice_number = random.randint(1, 3)\n\n    if choice_number == 1:\n        choice = 'rock'\n    elif choice_number == 2:\n        choice = 'scissors'\n    else:\n        choice = 'paper'\n\n    return choice\n\nmy_choice = input('Choose rock, scissors or paper: ')\nopponent_choice = random_choice()\n\nprint('You opponent chose {}'.format(opponent_choice))\n\nif my_choice = 'rock' and opponent_choice == 'scissors':\n    print('You win!')"
      ],
      "execution_count": null,
      "outputs": []
    },
    {
      "cell_type": "markdown",
      "metadata": {
        "slideshow": {
          "slide_type": "slide"
        }
      },
      "source": [
        "### Recap"
      ]
    },
    {
      "cell_type": "markdown",
      "metadata": {
        "slideshow": {
          "slide_type": "subslide"
        }
      },
      "source": [
        "This session:\n1. Logical Operators\n1. If Statements"
      ]
    },
    {
      "cell_type": "markdown",
      "metadata": {
        "slideshow": {
          "slide_type": "subslide"
        }
      },
      "source": [
        "**Homework:** Session 3 homework questions in your student guide"
      ]
    }
  ],
  "metadata": {
    "kernelspec": {
      "display_name": "Python 3",
      "language": "python",
      "name": "python3"
    },
    "language_info": {
      "codemirror_mode": {
        "name": "ipython",
        "version": 3
      },
      "file_extension": ".py",
      "mimetype": "text/x-python",
      "name": "python",
      "nbconvert_exporter": "python",
      "pygments_lexer": "ipython3",
      "version": "3.6.7"
    },
    "livereveal": {
      "scroll": true,
      "progress": true,
      "start_slideshow_at": "selected",
      "footer": "<img src=\"images/logo.png\" style=\"margin-left: 20px; margin-bottom: 20px;\"/>"
    },
    "rise": {
      "enable_chalkboard": true
    }
  },
  "nbformat": 4,
  "nbformat_minor": 2
}