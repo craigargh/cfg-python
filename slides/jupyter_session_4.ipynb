{
  "cells": [
    {
      "cell_type": "markdown",
      "metadata": {
        "slideshow": {
          "slide_type": "slide"
        }
      },
      "source": [
        "![Code First: Girls](images/logo_large.png)\n\n#### Python Session 4"
      ]
    },
    {
      "cell_type": "markdown",
      "metadata": {
        "slideshow": {
          "slide_type": "slide"
        }
      },
      "source": [
        "This session\n1. Pip package manager\n1. APIs\n1. Flask and Jinja"
      ]
    },
    {
      "cell_type": "markdown",
      "metadata": {
        "slideshow": {
          "slide_type": "slide"
        }
      },
      "source": [
        "### Python Pip"
      ]
    },
    {
      "cell_type": "markdown",
      "metadata": {
        "slideshow": {
          "slide_type": "subslide"
        }
      },
      "source": [
        "**pip:** A package manager used to install libraries that other people have written"
      ]
    },
    {
      "cell_type": "markdown",
      "metadata": {
        "slideshow": {
          "slide_type": "subslide"
        }
      },
      "source": [
        "pip is used via the terminal (command-line)\n\n![Opening the terminal](gifs/terminal.gif)"
      ]
    },
    {
      "cell_type": "markdown",
      "metadata": {
        "slideshow": {
          "slide_type": "subslide"
        }
      },
      "source": [
        "\nInstall the `requests` library using pip\n\n``` command-line\npip install requests\n```\n\n"
      ]
    },
    {
      "cell_type": "markdown",
      "metadata": {
        "slideshow": {
          "slide_type": "slide"
        }
      },
      "source": [
        "### APIs: Reading Stuff"
      ]
    },
    {
      "cell_type": "markdown",
      "metadata": {
        "slideshow": {
          "slide_type": "subslide"
        }
      },
      "source": [
        "**Application Programming Interface (API):** A way to interact with another application from your code through requests.\n\nWeb APIs allow you to do this over the internet."
      ]
    },
    {
      "cell_type": "markdown",
      "metadata": {
        "slideshow": {
          "slide_type": "subslide"
        }
      },
      "source": [
        "Pok\u00e9api is an API to get data about Pok\u00e9mon\n\n[pokeapi.co/](https://pokeapi.co/)"
      ]
    },
    {
      "cell_type": "markdown",
      "metadata": {
        "slideshow": {
          "slide_type": "subslide"
        }
      },
      "source": [
        "Each Pokemon has a number that identifies it\n\nYou can retrieve information about different Pokemon from urls\n\n[https://pokeapi.co/api/v2/pokemon/6/](https://pokeapi.co/api/v2/pokemon/6/)"
      ]
    },
    {
      "cell_type": "markdown",
      "metadata": {
        "slideshow": {
          "slide_type": "subslide"
        }
      },
      "source": [
        "\n\nSave this as `get_pokemon.py`\n\n"
      ]
    },
    {
      "cell_type": "code",
      "metadata": {},
      "source": [
        "import requests\nfrom pprint import pprint\n\nurl = 'https://pokeapi.co/api/v2/pokemon/151/'\n\nresponse = requests.get(url)\nprint(response)\n\npokemon = response.json()\npprint(pokemon)"
      ],
      "execution_count": null,
      "outputs": []
    },
    {
      "cell_type": "markdown",
      "metadata": {
        "slideshow": {
          "slide_type": "subslide"
        }
      },
      "source": [
        "Reponse status codes:\n\nStatus Code | Name | Explanation\n--- | --- | ---\n200 | OK | The request worked\n404 | Not found | Couldn't find the url you requested\n400 | Bad request | The request you made isn't understood"
      ]
    },
    {
      "cell_type": "markdown",
      "metadata": {
        "slideshow": {
          "slide_type": "subslide"
        }
      },
      "source": [
        "**Task:** Get the *height* and *weight* of the Pokemon and print the output\n\nAdd `input()` to choose which Pokemon you want information about"
      ]
    },
    {
      "cell_type": "markdown",
      "metadata": {
        "slideshow": {
          "slide_type": "subslide"
        }
      },
      "source": [
        "\nSolution\n\n"
      ]
    },
    {
      "cell_type": "code",
      "metadata": {},
      "source": [
        "import requests\n\npokemon_number = input(\"What is the Pokemon's ID? \")\n\nurl = 'https://pokeapi.co/api/v2/pokemon/{}/'.format(pokemon_number)\n\nresponse = requests.get(url)\npokemon = response.json()\n\nprint(pokemon['name'])\nprint(pokemon['height'])\nprint(pokemon['weight'])"
      ],
      "execution_count": null,
      "outputs": []
    },
    {
      "cell_type": "markdown",
      "metadata": {
        "slideshow": {
          "slide_type": "slide"
        }
      },
      "source": [
        "### Flask: Routing"
      ]
    },
    {
      "cell_type": "markdown",
      "metadata": {
        "slideshow": {
          "slide_type": "subslide"
        }
      },
      "source": [
        "**Flask:** A Python library for building programs that run on the web, including websites and APIs.\n\nFlask manages things like routing and rendering templates so that you can focus on writing your application's code."
      ]
    },
    {
      "cell_type": "markdown",
      "metadata": {
        "slideshow": {
          "slide_type": "subslide"
        }
      },
      "source": [
        "\n\nWe want to install Flask using pip using the Terminal\n\n``` command-line\npip install flask\n```\n\n"
      ]
    },
    {
      "cell_type": "markdown",
      "metadata": {
        "slideshow": {
          "slide_type": "subslide"
        }
      },
      "source": [
        "\nFlask is installed along with the packages it depends on\n\n``` command-line\nSuccessfully installed Jinja2-2.10 MarkupSafe-1.0 Werkzeug-0.14.1 click-6.7 flask-0.12.2 itsdangerous-0.24\n```\n\n"
      ]
    },
    {
      "cell_type": "code",
      "metadata": {},
      "source": [
        "from flask import Flask\napp = Flask(__name__)\n\n\n@app.route('/')\ndef home():\n    return 'I am home'\n\n\napp.run(debug=True)"
      ],
      "execution_count": null,
      "outputs": []
    },
    {
      "cell_type": "markdown",
      "metadata": {
        "slideshow": {
          "slide_type": "subslide"
        }
      },
      "source": [
        "After running the Python program, you can view the website at [localhost:5000](http://localhost:5000)"
      ]
    },
    {
      "cell_type": "markdown",
      "metadata": {
        "slideshow": {
          "slide_type": "subslide"
        }
      },
      "source": [
        "![A basic Flask website shown in the browser](images/flask_home.png)"
      ]
    },
    {
      "cell_type": "markdown",
      "metadata": {
        "slideshow": {
          "slide_type": "subslide"
        }
      },
      "source": [
        "The `@app.route()` code is a **function decorator**.\n\nIt tells Flask to run a function when someone goes to a specific url\n\nThe function should return a either `string` or a `response` (covered later)"
      ]
    },
    {
      "cell_type": "markdown",
      "metadata": {
        "slideshow": {
          "slide_type": "subslide"
        }
      },
      "source": [
        "\nThis adds [localhost:5000/about/](http://localhost:5000/about/)\n\n"
      ]
    },
    {
      "cell_type": "code",
      "metadata": {},
      "source": [
        "from flask import Flask\napp = Flask(__name__)\n\n\n@app.route('/')\ndef home():\n    return 'I am home'\n\n\n@app.route('/about/')\ndef about():\n    return 'This is a Flask website'\n\n\napp.run(debug=True)"
      ],
      "execution_count": null,
      "outputs": []
    },
    {
      "cell_type": "markdown",
      "metadata": {},
      "source": [
        "\n\n\n**Tip:** Remember to include the second forward slash after `'about'`\n\n\n"
      ]
    },
    {
      "cell_type": "markdown",
      "metadata": {
        "slideshow": {
          "slide_type": "subslide"
        }
      },
      "source": [
        "**Task:** Add an app route that returns your name when you go to `localhost:5000/hello/` in your browser"
      ]
    },
    {
      "cell_type": "markdown",
      "metadata": {
        "slideshow": {
          "slide_type": "subslide"
        }
      },
      "source": [
        "\nSolution\n\n"
      ]
    },
    {
      "cell_type": "code",
      "metadata": {},
      "source": [
        "from flask import Flask\napp = Flask(__name__)\n\n\n@app.route('/hello/')\ndef hello():\n    return 'James'\n\n\napp.run(debug=True)"
      ],
      "execution_count": null,
      "outputs": []
    },
    {
      "cell_type": "markdown",
      "metadata": {
        "slideshow": {
          "slide_type": "slide"
        }
      },
      "source": [
        "### Flask: Dynamic Routes"
      ]
    },
    {
      "cell_type": "markdown",
      "metadata": {
        "slideshow": {
          "slide_type": "subslide"
        }
      },
      "source": [
        "So far our Flask app only has fixed routes\n\nFlask can also handle dynamic routing"
      ]
    },
    {
      "cell_type": "markdown",
      "metadata": {
        "slideshow": {
          "slide_type": "subslide"
        }
      },
      "source": [
        "\nChange your code for the `'/hello/'` route\n\n"
      ]
    },
    {
      "cell_type": "code",
      "metadata": {},
      "source": [
        "@app.route('/hello/<name>/')\ndef hello(name):\n    return 'Hello {}'.format(name)"
      ],
      "execution_count": null,
      "outputs": []
    },
    {
      "cell_type": "markdown",
      "metadata": {},
      "source": [
        "\nIn the web browser go to\n\n- [http://localhost:5000/hello/kitty/](http://localhost:5000/hello/kitty/)\n- [http://localhost:5000/hello/sailor/](http://localhost:5000/hello/sailor/)\n- [http://localhost:5000/hello/friend/](http://localhost:5000/hello/friend/)\n\n\n"
      ]
    },
    {
      "cell_type": "markdown",
      "metadata": {
        "slideshow": {
          "slide_type": "subslide"
        }
      },
      "source": [
        "\n**Task:** I want to calculate the area of a circle using my Flask app. Use the following code as a starting point\n\n"
      ]
    },
    {
      "cell_type": "code",
      "metadata": {},
      "source": [
        "def circle_area(radius):\n    area = 3.14 * (radius ** 2)\n    return area"
      ],
      "execution_count": null,
      "outputs": []
    },
    {
      "cell_type": "markdown",
      "metadata": {},
      "source": [
        "\nFor a circle with radius 5, the url should look like this [http://localhost:5000/circle/5/](http://localhost:5000/circle/5/)\n\n\n"
      ]
    },
    {
      "cell_type": "markdown",
      "metadata": {
        "slideshow": {
          "slide_type": "subslide"
        }
      },
      "source": [
        "\nSolution\n\n"
      ]
    },
    {
      "cell_type": "code",
      "metadata": {},
      "source": [
        "@app.route('/circle/<radius>/')\ndef circle_area(radius):\n    radius = int(radius)\n    area = 3.14 * (radius ** 2)\n\n    return str(area)"
      ],
      "execution_count": null,
      "outputs": []
    },
    {
      "cell_type": "markdown",
      "metadata": {
        "slideshow": {
          "slide_type": "subslide"
        }
      },
      "source": [
        "DO NOT USE `input()` WITH FLASK"
      ]
    },
    {
      "cell_type": "markdown",
      "metadata": {
        "slideshow": {
          "slide_type": "slide"
        }
      },
      "source": [
        "### Flask: HTML with Jinja"
      ]
    },
    {
      "cell_type": "markdown",
      "metadata": {
        "slideshow": {
          "slide_type": "subslide"
        }
      },
      "source": [
        "Jinja is a template format for using HTML with Python\n\nFlask looks for Jinja templates in the `templates` folder"
      ]
    },
    {
      "cell_type": "markdown",
      "metadata": {
        "slideshow": {
          "slide_type": "subslide"
        }
      },
      "source": [
        "1. Create a Python file called `colours_html.py`\n\n1. Next to the file create a `templates` folder\n\n1. In the `templates` folder create a file called `colour.html`"
      ]
    },
    {
      "cell_type": "markdown",
      "metadata": {
        "slideshow": {
          "slide_type": "subslide"
        }
      },
      "source": [
        "![](images/flask_templates.png)"
      ]
    },
    {
      "cell_type": "markdown",
      "metadata": {
        "slideshow": {
          "slide_type": "subslide"
        }
      },
      "source": [
        "\n`colours_html.py`\n\n"
      ]
    },
    {
      "cell_type": "code",
      "metadata": {},
      "source": [
        "from flask import Flask, render_template\n\napp = Flask(__name__)\n\n\n@app.route('/colour/')\ndef show_colour():\n    return render_template('colour.html')\n\n\napp.run(debug=True)"
      ],
      "execution_count": null,
      "outputs": []
    },
    {
      "cell_type": "markdown",
      "metadata": {
        "slideshow": {
          "slide_type": "subslide"
        }
      },
      "source": [
        "\n`colour.html`\n\n```html\n<html>\n    <body>\n        <div style=\"color: red\">\n            This text is red\n        </div>\n    </body>\n</html>\n```\n\n"
      ]
    },
    {
      "cell_type": "markdown",
      "metadata": {
        "slideshow": {
          "slide_type": "subslide"
        }
      },
      "source": [
        "![](images/red_html.png)"
      ]
    },
    {
      "cell_type": "markdown",
      "metadata": {
        "slideshow": {
          "slide_type": "subslide"
        }
      },
      "source": [
        "\nSimilar to string formatting, Jinja templates have arguments\n\n```html\n<html>\n    <body>\n        <div style=\"color: {{colour}}\">\n            This text is {{colour}}\n        </div>\n    </body>\n</html>\n```\n\n"
      ]
    },
    {
      "cell_type": "code",
      "metadata": {},
      "source": [
        "from flask import Flask, render_template\n\napp = Flask(__name__)\n\n\n@app.route('/colour/<colour>/')\ndef show_colour(colour):\n    return render_template('colour.html', colour=colour)\n\n\napp.run(debug=True)"
      ],
      "execution_count": null,
      "outputs": []
    },
    {
      "cell_type": "markdown",
      "metadata": {
        "slideshow": {
          "slide_type": "subslide"
        }
      },
      "source": [
        "\n**Task:** Create a new html file called `size.html`. When I go to `localhost:5000/size/12/` it should show some text in that font size\n\n```html\n<html>\n    <body>\n        <div style=\"font-size: {{size}}pt\">\n            This text is {{size}}\n        </div>\n    </body>\n</html>\n```\n\n"
      ]
    },
    {
      "cell_type": "markdown",
      "metadata": {
        "slideshow": {
          "slide_type": "subslide"
        }
      },
      "source": [
        "\nSolution\n"
      ]
    },
    {
      "cell_type": "code",
      "metadata": {},
      "source": [
        "from flask import Flask, render_template\n\napp = Flask(__name__)\n\n\n@app.route('/size/<size>/')\ndef show_colour(size):\n    return render_template('size.html', size=size)\n\n\napp.run(debug=True)"
      ],
      "execution_count": null,
      "outputs": []
    },
    {
      "cell_type": "markdown",
      "metadata": {
        "slideshow": {
          "slide_type": "subslide"
        }
      },
      "source": [
        "\nYou can use for loops to repeat blocks of HTML\n\n```html\n<html>\n    <body>\n    <ul>\n    {% for fruit in fruits %}\n        <li>fruit</li>\n    {% endfor %}\n    </ul>\n    </body>\n</html>\n```\n\n"
      ]
    },
    {
      "cell_type": "code",
      "metadata": {},
      "source": [
        "from flask import Flask, render_template\n\napp = Flask(__name__)\n\n\n@app.route('/size/<size>/')\ndef show_fruits(size):\n    fruits = ['apple', 'banana', 'pear']\n\n    return render_template('fruit.html', fruits=fruits)\n\n\napp.run(debug=True)"
      ],
      "execution_count": null,
      "outputs": []
    },
    {
      "cell_type": "markdown",
      "metadata": {
        "slideshow": {
          "slide_type": "subslide"
        }
      },
      "source": [
        "The course guide has an example of using if statements and css inside Jinja templates"
      ]
    },
    {
      "cell_type": "markdown",
      "metadata": {
        "slideshow": {
          "slide_type": "slide"
        }
      },
      "source": [
        "### Flask: Forms"
      ]
    },
    {
      "cell_type": "markdown",
      "metadata": {
        "slideshow": {
          "slide_type": "subslide"
        }
      },
      "source": [
        "Covered in the course guide \"Getting user generated data from your webpage to Python\""
      ]
    },
    {
      "cell_type": "markdown",
      "metadata": {
        "slideshow": {
          "slide_type": "slide"
        }
      },
      "source": [
        "### Recap"
      ]
    },
    {
      "cell_type": "markdown",
      "metadata": {
        "slideshow": {
          "slide_type": "subslide"
        }
      },
      "source": [
        "This session\n1. Pip package manager\n1. Getting data with an API\n1. Flask and Jinja"
      ]
    },
    {
      "cell_type": "markdown",
      "metadata": {
        "slideshow": {
          "slide_type": "slide"
        }
      },
      "source": [
        "PROJECTS"
      ]
    }
  ],
  "metadata": {
    "kernelspec": {
      "display_name": "Python 3",
      "language": "python",
      "name": "python3"
    },
    "language_info": {
      "codemirror_mode": {
        "name": "ipython",
        "version": 3
      },
      "file_extension": ".py",
      "mimetype": "text/x-python",
      "name": "python",
      "nbconvert_exporter": "python",
      "pygments_lexer": "ipython3",
      "version": "3.6.7"
    },
    "livereveal": {
      "scroll": true,
      "progress": true,
      "start_slideshow_at": "selected",
      "footer": "<img src=\"images/logo.png\" style=\"margin-left: 20px; margin-bottom: 20px;\"/>"
    },
    "rise": {
      "enable_chalkboard": true
    }
  },
  "nbformat": 4,
  "nbformat_minor": 2
}