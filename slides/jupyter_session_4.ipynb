{
  "cells": [
    {
      "cell_type": "markdown",
      "metadata": {
        "slideshow": {
          "slide_type": "slide"
        }
      },
      "source": [
        "**Starter:** ???"
      ]
    },
    {
      "cell_type": "markdown",
      "metadata": {
        "slideshow": {
          "slide_type": "slide"
        }
      },
      "source": [
        "![Code First: Girls](images/logo_large.png)\n\n#### Python Session 4"
      ]
    },
    {
      "cell_type": "markdown",
      "metadata": {
        "slideshow": {
          "slide_type": "subslide"
        }
      },
      "source": [
        "This session:\n1. Lists\n1. Dictionaries"
      ]
    },
    {
      "cell_type": "markdown",
      "metadata": {
        "slideshow": {
          "slide_type": "slide"
        }
      },
      "source": [
        "### Lists"
      ]
    },
    {
      "cell_type": "markdown",
      "metadata": {
        "slideshow": {
          "slide_type": "subslide"
        }
      },
      "source": [
        "**List:** an ordered collection of values"
      ]
    },
    {
      "cell_type": "markdown",
      "metadata": {
        "slideshow": {
          "slide_type": "subslide"
        }
      },
      "source": [
        "\nList are written inside square brackets and separated by commas\n\n\n"
      ]
    },
    {
      "cell_type": "code",
      "metadata": {},
      "source": [
        "lottery_numbers = [4, 8, 15, 16, 23, 42]"
      ],
      "execution_count": null,
      "outputs": []
    },
    {
      "cell_type": "code",
      "metadata": {},
      "source": [
        "student_names = ['Diedre', 'Hank', 'Helena', 'Salome']"
      ],
      "execution_count": null,
      "outputs": []
    },
    {
      "cell_type": "markdown",
      "metadata": {
        "slideshow": {
          "slide_type": "subslide"
        }
      },
      "source": [
        "\nLists can be made up of values of one or more data types\n\n"
      ]
    },
    {
      "cell_type": "code",
      "metadata": {},
      "source": [
        "orchid_row = ['Magnoliopsida', 12, 3, 8, 9, 'white']"
      ],
      "execution_count": null,
      "outputs": []
    },
    {
      "cell_type": "markdown",
      "metadata": {
        "slideshow": {
          "slide_type": "subslide"
        }
      },
      "source": [
        "List values can be accessed using their **index** in square brackets\n\n"
      ]
    },
    {
      "cell_type": "code",
      "metadata": {},
      "source": [
        "student_names = ['Diedre', 'Hank', 'Helena', 'Salome']\n\nprint(student_names[2])"
      ],
      "execution_count": null,
      "outputs": []
    },
    {
      "cell_type": "markdown",
      "metadata": {
        "slideshow": {
          "slide_type": "subslide"
        }
      },
      "source": [
        "\nList indexes start counting from 0\n\n"
      ]
    },
    {
      "cell_type": "code",
      "metadata": {},
      "source": [
        "student_names = [\n    'Diedre',    # index 0\n    'Hank',      # index 1\n    'Helena',    # index 2\n    'Salome'     # index 3\n]\n\nprint(student_names[0])"
      ],
      "execution_count": null,
      "outputs": []
    },
    {
      "cell_type": "markdown",
      "metadata": {
        "slideshow": {
          "slide_type": "slide"
        }
      },
      "source": [
        "### For Loops \u2665 Lists"
      ]
    },
    {
      "cell_type": "markdown",
      "metadata": {
        "slideshow": {
          "slide_type": "subslide"
        }
      },
      "source": [
        "Using lists and for loops together"
      ]
    },
    {
      "cell_type": "code",
      "metadata": {},
      "source": [
        "student_names = ['Diedre', 'Hank', 'Helena', 'Salome']\n\nfor student_name in student_names:\n    print(student_name)"
      ],
      "execution_count": null,
      "outputs": []
    },
    {
      "cell_type": "markdown",
      "metadata": {
        "slideshow": {
          "slide_type": "subslide"
        }
      },
      "source": [
        "\n**Exercise 1.3:** I have a load of cats and I want you to create a piece of art with all of their names on it.\n\nYou need to use the turtle library to write the cats' names on each corner of a square.\n\nThe `turtle.write()` function will write a string using turtle. I've started the code for you, you need to add the for loop:\n\n\n"
      ]
    },
    {
      "cell_type": "code",
      "metadata": {},
      "source": [
        "import turtle\n\ncat_names = ['Fluffy', 'Ginger', 'Whiskers', 'Rod']\n\n# Add for loop here\n\nturtle.write(cat_name)\nturtle.forward(100)\nturtle.right(90)\n\nturtle.done()"
      ],
      "execution_count": null,
      "outputs": []
    },
    {
      "cell_type": "markdown",
      "metadata": {
        "slideshow": {
          "slide_type": "subslide"
        }
      },
      "source": [
        "\nSolution:\n\n"
      ]
    },
    {
      "cell_type": "code",
      "metadata": {},
      "source": [
        "import turtle\n\ncat_names = ['Fluffy', 'Ginger', 'Whiskers', 'Rod']\n\nfor cat_name in cat_names:\n    turtle.write(cat_name)\n    turtle.forward(100)\n    turtle.right(90)\n\nturtle.done()"
      ],
      "execution_count": null,
      "outputs": []
    },
    {
      "cell_type": "markdown",
      "metadata": {
        "slideshow": {
          "slide_type": "slide"
        }
      },
      "source": [
        "### Dictionaries"
      ]
    },
    {
      "cell_type": "markdown",
      "metadata": {
        "slideshow": {
          "slide_type": "subslide"
        }
      },
      "source": [
        "**Dictionary:** Stores a colleciton of labelled items. Each item has a key and a value"
      ]
    },
    {
      "cell_type": "code",
      "metadata": {},
      "source": [
        "person = {\n    'name': 'Jessica',\n    'age': 23,\n    'height': 172\n}"
      ],
      "execution_count": null,
      "outputs": []
    },
    {
      "cell_type": "markdown",
      "metadata": {
        "slideshow": {
          "slide_type": "subslide"
        }
      },
      "source": [
        "\nValues in a dictionary are accessed using their keys\n"
      ]
    },
    {
      "cell_type": "code",
      "metadata": {},
      "source": [
        "person = {\n    'name': 'Jessica',\n    'age': 23,\n    'height': 172\n}\n\nprint(person['name'])"
      ],
      "execution_count": null,
      "outputs": []
    },
    {
      "cell_type": "markdown",
      "metadata": {
        "slideshow": {
          "slide_type": "subslide"
        }
      },
      "source": [
        "\n**Exercise:** Print the values of `name`, `post_code` and `street_number` from the dictionary\n\n"
      ]
    },
    {
      "cell_type": "code",
      "metadata": {},
      "source": [
        "place = {\n    'name': 'The Anchor',\n    'post_code': 'E14 6HY',\n    'street_number': '54',\n    'location': {\n        'longitude': 127,\n        'latitude': 63,\n    }\n}"
      ],
      "execution_count": null,
      "outputs": []
    },
    {
      "cell_type": "markdown",
      "metadata": {},
      "source": [
        "\n**Extension:** Print the values of `longitude` and `latitude` from the inner dictionary\n\n"
      ]
    },
    {
      "cell_type": "markdown",
      "metadata": {
        "slideshow": {
          "slide_type": "subslide"
        }
      },
      "source": [
        "\nSolution:\n\n"
      ]
    },
    {
      "cell_type": "code",
      "metadata": {},
      "source": [
        "place = {\n    'name': 'The Anchor',\n    'post_code': 'E14 6HY',\n    'street_number': '54',\n    'location': {\n        'longitude': 127,\n        'latitude': 63,\n    }\n}\n\nprint(place['name'])\nprint(place['post_code'])\nprint(place['street_number'])"
      ],
      "execution_count": null,
      "outputs": []
    },
    {
      "cell_type": "markdown",
      "metadata": {
        "slideshow": {
          "slide_type": "subslide"
        }
      },
      "source": [
        "\nExtension:\n\n"
      ]
    },
    {
      "cell_type": "code",
      "metadata": {},
      "source": [
        "print(place['location']['longitude'])\nprint(place['location']['latitude'])\n\n\nlocation = place['location']\n\nprint(location['longitude'])\nprint(location['latitude'])"
      ],
      "execution_count": null,
      "outputs": []
    },
    {
      "cell_type": "markdown",
      "metadata": {
        "slideshow": {
          "slide_type": "subslide"
        }
      },
      "source": [
        "\nPutting dictionaries inside a list is very common\n\n"
      ]
    },
    {
      "cell_type": "code",
      "metadata": {},
      "source": [
        "people = [\n    {'name': 'Jessica', 'age': 23},\n    {'name': 'Trisha', 'age': 24},\n]\n\nfor person in people:\n    print(person['name'])\n    print(person['age'])"
      ],
      "execution_count": null,
      "outputs": []
    },
    {
      "cell_type": "markdown",
      "metadata": {
        "slideshow": {
          "slide_type": "subslide"
        }
      },
      "source": [
        "\n**Exercise:** Using a for loop, output the values `name`, `colour` and `price` of each dictionary in the list\n\n"
      ]
    },
    {
      "cell_type": "code",
      "metadata": {},
      "source": [
        "fruits = [\n    {'name': 'apple', 'colour': 'red', 'price': 0.12},\n    {'name': 'banana', 'colour': 'yellow', 'price': 0.2},\n    {'name': 'pear', 'colour': 'green', 'price': 0.19},\n]"
      ],
      "execution_count": null,
      "outputs": []
    },
    {
      "cell_type": "markdown",
      "metadata": {
        "slideshow": {
          "slide_type": "subslide"
        }
      },
      "source": [
        "\nSolution\n\n"
      ]
    },
    {
      "cell_type": "code",
      "metadata": {},
      "source": [
        "fruits = [\n    {'name': 'apple', 'colour': 'red', 'price': 0.12},\n    {'name': 'banana', 'colour': 'yellow', 'price': 0.2},\n    {'name': 'pear', 'colour': 'green', 'price': 0.19},\n]\n\nfor fruit in fruits:\n    print(fruit['name'])\n    print(fruit['colour'])\n    print(fruit['price'])"
      ],
      "execution_count": null,
      "outputs": []
    },
    {
      "cell_type": "markdown",
      "metadata": {
        "slideshow": {
          "slide_type": "slide"
        }
      },
      "source": [
        "### Recap"
      ]
    },
    {
      "cell_type": "markdown",
      "metadata": {
        "slideshow": {
          "slide_type": "subslide"
        }
      },
      "source": [
        "This session:\n1. Lists \n1. Dictionaries"
      ]
    },
    {
      "cell_type": "markdown",
      "metadata": {
        "slideshow": {
          "slide_type": "subslide"
        }
      },
      "source": [
        "**Homework:** Session 4 homework questions in your student guide"
      ]
    }
  ],
  "metadata": {
    "kernelspec": {
      "display_name": "Python 3",
      "language": "python",
      "name": "python3"
    },
    "language_info": {
      "codemirror_mode": {
        "name": "ipython",
        "version": 3
      },
      "file_extension": ".py",
      "mimetype": "text/x-python",
      "name": "python",
      "nbconvert_exporter": "python",
      "pygments_lexer": "ipython3",
      "version": "3.6.7"
    },
    "livereveal": {
      "scroll": true,
      "progress": true,
      "start_slideshow_at": "selected",
      "footer": "<img src=\"images/logo.png\" style=\"margin-left: 20px; margin-bottom: 20px;\"/>"
    },
    "rise": {
      "enable_chalkboard": true
    }
  },
  "nbformat": 4,
  "nbformat_minor": 2
}