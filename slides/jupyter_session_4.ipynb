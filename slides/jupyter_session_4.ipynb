{
  "cells": [
    {
      "cell_type": "markdown",
      "metadata": {
        "slideshow": {
          "slide_type": "slide"
        }
      },
      "source": [
        "### Lists"
      ]
    },
    {
      "cell_type": "markdown",
      "metadata": {
        "slideshow": {
          "slide_type": "subslide"
        }
      },
      "source": [
        "**List:** an ordered collection of values"
      ]
    },
    {
      "cell_type": "markdown",
      "metadata": {
        "slideshow": {
          "slide_type": "subslide"
        }
      },
      "source": [
        "\nList are written inside square brackets and separated by commas\n\n\n"
      ]
    },
    {
      "cell_type": "code",
      "metadata": {},
      "source": [
        "lottery_numbers = [4, 8, 15, 16, 23, 42]"
      ],
      "execution_count": null,
      "outputs": []
    },
    {
      "cell_type": "code",
      "metadata": {},
      "source": [
        "student_names = ['Diedre', 'Hank', 'Helena', 'Salome']"
      ],
      "execution_count": null,
      "outputs": []
    },
    {
      "cell_type": "markdown",
      "metadata": {
        "slideshow": {
          "slide_type": "subslide"
        }
      },
      "source": [
        "\nLists can be made up of values of one or more data types\n\n"
      ]
    },
    {
      "cell_type": "code",
      "metadata": {},
      "source": [
        "orchid_row = ['Magnoliopsida', 12, 3, 8, 9, 'white']"
      ],
      "execution_count": null,
      "outputs": []
    },
    {
      "cell_type": "markdown",
      "metadata": {
        "slideshow": {
          "slide_type": "subslide"
        }
      },
      "source": [
        "List values can be accessed using their **index** in square brackets\n\n"
      ]
    },
    {
      "cell_type": "code",
      "metadata": {},
      "source": [
        "student_names = ['Diedre', 'Hank', 'Helena', 'Salome']\n\nprint(student_names[2])"
      ],
      "execution_count": null,
      "outputs": []
    },
    {
      "cell_type": "markdown",
      "metadata": {
        "slideshow": {
          "slide_type": "subslide"
        }
      },
      "source": [
        "\nList indexes start counting from 0\n\n"
      ]
    },
    {
      "cell_type": "code",
      "metadata": {},
      "source": [
        "student_names = [\n    'Diedre',    # index 0\n    'Hank',      # index 1\n    'Helena',    # index 2\n    'Salome'   # index 3\n]\n\nprint(student_names[0])"
      ],
      "execution_count": null,
      "outputs": []
    },
    {
      "cell_type": "markdown",
      "metadata": {
        "slideshow": {
          "slide_type": "slide"
        }
      },
      "source": [
        "### For Loops \u2665 Lists"
      ]
    },
    {
      "cell_type": "markdown",
      "metadata": {
        "slideshow": {
          "slide_type": "subslide"
        }
      },
      "source": [
        "Using lists and for loops together"
      ]
    },
    {
      "cell_type": "code",
      "metadata": {},
      "source": [
        "student_names = ['Diedre', 'Hank', 'Helena', 'Salome']\n\nfor student_name in student_names:\n    print(student_name)"
      ],
      "execution_count": null,
      "outputs": []
    },
    {
      "cell_type": "markdown",
      "metadata": {
        "slideshow": {
          "slide_type": "subslide"
        }
      },
      "source": [
        "\n**Exercise 1.3:** I have a load of cats and I want you to create a piece of art with all of their names on it.\n\nYou need to use the turtle library to write the cats' names on each corner of a square.\n\nThe `turtle.write()` function will write a string using turtle. I've started the code for you, you need to add the for loop:\n\n\n"
      ]
    },
    {
      "cell_type": "code",
      "metadata": {},
      "source": [
        "import turtle\n\ncat_names = ['Fluffy', 'Ginger', 'Whiskers', 'Rod']\n\n# Add for loop here\n\nturtle.write(cat_name)\nturtle.forward(100)\nturtle.right(90)\n\nturtle.done()"
      ],
      "execution_count": null,
      "outputs": []
    },
    {
      "cell_type": "markdown",
      "metadata": {
        "slideshow": {
          "slide_type": "subslide"
        }
      },
      "source": [
        "\nSolution:\n\n"
      ]
    },
    {
      "cell_type": "code",
      "metadata": {},
      "source": [
        "import turtle\n\ncat_names = ['Fluffy', 'Ginger', 'Whiskers', 'Rod']\n\nfor cat_name in cat_names:\n    turtle.write(cat_name)\n    turtle.forward(100)\n    turtle.right(90)\n\nturtle.done()"
      ],
      "execution_count": null,
      "outputs": []
    }
  ],
  "metadata": {
    "kernelspec": {
      "display_name": "Python 3",
      "language": "python",
      "name": "python3"
    },
    "language_info": {
      "codemirror_mode": {
        "name": "ipython",
        "version": 3
      },
      "file_extension": ".py",
      "mimetype": "text/x-python",
      "name": "python",
      "nbconvert_exporter": "python",
      "pygments_lexer": "ipython3",
      "version": "3.6.7"
    },
    "livereveal": {
      "scroll": true,
      "progress": true,
      "start_slideshow_at": "selected",
      "footer": "<img src=\"images/logo.png\" style=\"margin-left: 20px; margin-bottom: 20px;\"/>"
    },
    "rise": {
      "enable_chalkboard": true
    }
  },
  "nbformat": 4,
  "nbformat_minor": 2
}