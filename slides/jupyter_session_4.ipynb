{
  "cells": [
    {
      "cell_type": "markdown",
      "metadata": {
        "slideshow": {
          "slide_type": "slide"
        }
      },
      "source": [
        "**Starter:** ???"
      ]
    },
    {
      "cell_type": "markdown",
      "metadata": {
        "slideshow": {
          "slide_type": "slide"
        }
      },
      "source": [
        "![Code First: Girls](images/logo_large.png)\n\n#### Python Session 4"
      ]
    },
    {
      "cell_type": "markdown",
      "metadata": {
        "slideshow": {
          "slide_type": "subslide"
        }
      },
      "source": [
        "This session:\n1. Lists\n1. Dictionaries"
      ]
    },
    {
      "cell_type": "markdown",
      "metadata": {
        "slideshow": {
          "slide_type": "slide"
        }
      },
      "source": [
        "### Lists"
      ]
    },
    {
      "cell_type": "markdown",
      "metadata": {
        "slideshow": {
          "slide_type": "subslide"
        }
      },
      "source": [
        "**List:** an ordered collection of values"
      ]
    },
    {
      "cell_type": "markdown",
      "metadata": {
        "slideshow": {
          "slide_type": "subslide"
        }
      },
      "source": [
        "\nList are written inside square brackets and separated by commas\n\nA list of integers\n\n"
      ]
    },
    {
      "cell_type": "code",
      "metadata": {},
      "source": [
        "lottery_numbers = [4, 8, 15, 16, 23, 42]"
      ],
      "execution_count": null,
      "outputs": []
    },
    {
      "cell_type": "markdown",
      "metadata": {},
      "source": [
        "\nA list of strings\n\n"
      ]
    },
    {
      "cell_type": "code",
      "metadata": {},
      "source": [
        "student_names = ['Diedre', 'Hank', 'Helena', 'Salome']"
      ],
      "execution_count": null,
      "outputs": []
    },
    {
      "cell_type": "markdown",
      "metadata": {
        "slideshow": {
          "slide_type": "subslide"
        }
      },
      "source": [
        "\nLists can be made up of values of one or more data types\n\n"
      ]
    },
    {
      "cell_type": "code",
      "metadata": {},
      "source": [
        "person = ['Jess', 32]"
      ],
      "execution_count": null,
      "outputs": []
    },
    {
      "cell_type": "markdown",
      "metadata": {
        "slideshow": {
          "slide_type": "subslide"
        }
      },
      "source": [
        "List values can be accessed using their **index** in square brackets\n\n"
      ]
    },
    {
      "cell_type": "code",
      "metadata": {},
      "source": [
        "student_names = ['Diedre', 'Hank', 'Helena', 'Salome']\n\nprint(student_names[2])"
      ],
      "execution_count": null,
      "outputs": []
    },
    {
      "cell_type": "markdown",
      "metadata": {
        "slideshow": {
          "slide_type": "subslide"
        }
      },
      "source": [
        "\nList indexes start counting from 0\n\n"
      ]
    },
    {
      "cell_type": "code",
      "metadata": {},
      "source": [
        "student_names = [\n    'Diedre',    # index 0\n    'Hank',      # index 1\n    'Helena',    # index 2\n    'Salome'     # index 3\n]\n\nprint(student_names[0])"
      ],
      "execution_count": null,
      "outputs": []
    },
    {
      "cell_type": "markdown",
      "metadata": {
        "slideshow": {
          "slide_type": "subslide"
        }
      },
      "source": [
        "\nYou can also set the values in lists using their indexes, similar to how you would a variable\n\n"
      ]
    },
    {
      "cell_type": "code",
      "metadata": {},
      "source": [
        "student_names = [\n    'Diedre',    # index 0\n    'Hank',      # index 1\n    'Helena',    # index 2\n    'Salome'     # index 3\n]\n\nstudent_names[1] = 'Joshua'"
      ],
      "execution_count": null,
      "outputs": []
    },
    {
      "cell_type": "markdown",
      "metadata": {
        "slideshow": {
          "slide_type": "subslide"
        }
      },
      "source": [
        "\n**Exercise 4.1:** When I'm travelling in the winter I often forget to pack warm clothes. Let's write a program to help me to remember the right clothes.\n\nThe program should check if the first item in the `clothes` list is `\"shorts\"`. If it is it should change the value to `\"warm coat\"`.\n\n"
      ]
    },
    {
      "cell_type": "code",
      "metadata": {},
      "source": [
        "clothes = [\n    \"shorts\",\n    \"shoes\",\n    \"t-shirt\",\n]"
      ],
      "execution_count": null,
      "outputs": []
    },
    {
      "cell_type": "markdown",
      "metadata": {
        "slideshow": {
          "slide_type": "slide"
        }
      },
      "source": [
        "### append() and in"
      ]
    },
    {
      "cell_type": "markdown",
      "metadata": {
        "slideshow": {
          "slide_type": "subslide"
        }
      },
      "source": [
        "\nYou can check if an value is in a list using the `in` operator. If the value is in the list it will result in `True` and `False` if it is not.\n\n"
      ]
    },
    {
      "cell_type": "code",
      "metadata": {},
      "source": [
        "student_name = input('Which student are you looking for? ')\n\nstudents = [\n    'Diedre', 'Hank', 'Helena', 'Salome',\n]\n\nif student_name in students:\n    print('{} is in the class'.format(student_name))\nelse:\n    print('{} is not in the class'.format(student_name))"
      ],
      "execution_count": null,
      "outputs": []
    },
    {
      "cell_type": "markdown",
      "metadata": {
        "slideshow": {
          "slide_type": "subslide"
        }
      },
      "source": [
        "\nThe `.append()` method is used to add items to a list\n\n"
      ]
    },
    {
      "cell_type": "code",
      "metadata": {},
      "source": [
        "students = [\n    'Diedre', 'Hank', 'Helena', 'Salome',\n]\nstudent_name = input('What is the name of the new student? ')\n\nstudents.append(student_name)\n\nprint(students)"
      ],
      "execution_count": null,
      "outputs": []
    },
    {
      "cell_type": "markdown",
      "metadata": {
        "slideshow": {
          "slide_type": "subslide"
        }
      },
      "source": [
        "**Exercise 4.2:** Whenever I'm shopping and I buy some bread I always forget to buy butter. Create a list and if `'bread'` is in the list, add `'butter'` to the shopping list.\n\n\nTry running the program with and without bread in the list to check that your program works.\n\nExtension: Check if butter is already in the shopping list before adding it"
      ]
    },
    {
      "cell_type": "markdown",
      "metadata": {
        "slideshow": {
          "slide_type": "slide"
        }
      },
      "source": [
        "### For Loops \u2665 Lists"
      ]
    },
    {
      "cell_type": "markdown",
      "metadata": {
        "slideshow": {
          "slide_type": "subslide"
        }
      },
      "source": [
        "Using lists and for loops together"
      ]
    },
    {
      "cell_type": "code",
      "metadata": {},
      "source": [
        "student_names = ['Diedre', 'Hank', 'Helena', 'Salome']\n\nfor student_name in student_names:\n    print(student_name)"
      ],
      "execution_count": null,
      "outputs": []
    },
    {
      "cell_type": "markdown",
      "metadata": {
        "slideshow": {
          "slide_type": "subslide"
        }
      },
      "source": [
        "\nCounting the total number of items in a list using a for loop\n\n"
      ]
    },
    {
      "cell_type": "code",
      "metadata": {},
      "source": [
        "student_names = ['Diedre', 'Hank', 'Helena', 'Salome']\ncount = 0\n\nfor student_name in student_names:\n    count = count + 1\n\nprint(count)"
      ],
      "execution_count": null,
      "outputs": []
    },
    {
      "cell_type": "markdown",
      "metadata": {
        "slideshow": {
          "slide_type": "subslide"
        }
      },
      "source": [
        "\n**Exercise 4.3:** I want to work out how much money I've spent on lunch this week. I've created a list of what I spent each day.\n\nWrite a program that uses a `for` loop to calculate the total cost \n\n"
      ]
    },
    {
      "cell_type": "code",
      "metadata": {},
      "source": [
        "costs = [8.30, 7.12, 5.01, 1.00, 0.99, 5.92, 3.50]\ntotal_cost = 0"
      ],
      "execution_count": null,
      "outputs": []
    },
    {
      "cell_type": "markdown",
      "metadata": {
        "slideshow": {
          "slide_type": "subslide"
        }
      },
      "source": [
        "\nThe `len()` function can tell you how many items are in a list\n\n"
      ]
    },
    {
      "cell_type": "code",
      "metadata": {},
      "source": [
        "student_names = ['Diedre', 'Hank', 'Helena', 'Salome']\ncount = len(student_names)\n\nprint(count)"
      ],
      "execution_count": null,
      "outputs": []
    },
    {
      "cell_type": "markdown",
      "metadata": {
        "slideshow": {
          "slide_type": "subslide"
        }
      },
      "source": [
        "\nThe `sum()` function can be used to add up all of the values in a list:\n\n"
      ]
    },
    {
      "cell_type": "code",
      "metadata": {},
      "source": [
        "costs = [8.30, 7.12, 5.01, 1.00, 0.99, 5.92, 3.50]\ntotal = sum(costs)\n\nprint(total)"
      ],
      "execution_count": null,
      "outputs": []
    },
    {
      "cell_type": "markdown",
      "metadata": {
        "slideshow": {
          "slide_type": "slide"
        }
      },
      "source": [
        "### Dictionaries"
      ]
    },
    {
      "cell_type": "markdown",
      "metadata": {
        "slideshow": {
          "slide_type": "subslide"
        }
      },
      "source": [
        "**Dictionary:** Stores a colleciton of labelled items. Each item has a key and a value"
      ]
    },
    {
      "cell_type": "code",
      "metadata": {},
      "source": [
        "person = {\n    'name': 'Jessica',\n    'age': 23,\n    'height': 172\n}"
      ],
      "execution_count": null,
      "outputs": []
    },
    {
      "cell_type": "markdown",
      "metadata": {
        "slideshow": {
          "slide_type": "subslide"
        }
      },
      "source": [
        "\nValues in a dictionary are accessed using their keys\n"
      ]
    },
    {
      "cell_type": "code",
      "metadata": {},
      "source": [
        "person = {\n    'name': 'Jessica',\n    'age': 23,\n    'height': 172\n}\n\nprint(person['name'])"
      ],
      "execution_count": null,
      "outputs": []
    },
    {
      "cell_type": "markdown",
      "metadata": {
        "slideshow": {
          "slide_type": "subslide"
        }
      },
      "source": [
        "\n**Exercise 4.4:** Print the values of `name`, `post_code` and `street_number` from the dictionary\n\n"
      ]
    },
    {
      "cell_type": "code",
      "metadata": {},
      "source": [
        "place = {\n    'name': 'The Anchor',\n    'post_code': 'E14 6HY',\n    'street_number': '54',\n    'location': {\n        'longitude': 127,\n        'latitude': 63,\n    }\n}"
      ],
      "execution_count": null,
      "outputs": []
    },
    {
      "cell_type": "markdown",
      "metadata": {},
      "source": [
        "\n**Extension:** Print the values of `longitude` and `latitude` from the inner dictionary\n\n"
      ]
    },
    {
      "cell_type": "markdown",
      "metadata": {
        "slideshow": {
          "slide_type": "subslide"
        }
      },
      "source": [
        "\nSolution:\n\n"
      ]
    },
    {
      "cell_type": "code",
      "metadata": {},
      "source": [
        "place = {\n    'name': 'The Anchor',\n    'post_code': 'E14 6HY',\n    'street_number': '54',\n    'location': {\n        'longitude': 127,\n        'latitude': 63,\n    }\n}\n\nprint(place['name'])\nprint(place['post_code'])\nprint(place['street_number'])"
      ],
      "execution_count": null,
      "outputs": []
    },
    {
      "cell_type": "markdown",
      "metadata": {
        "slideshow": {
          "slide_type": "subslide"
        }
      },
      "source": [
        "\nExtension:\n\n"
      ]
    },
    {
      "cell_type": "code",
      "metadata": {},
      "source": [
        "print(place['location']['longitude'])\nprint(place['location']['latitude'])\n\n\nlocation = place['location']\n\nprint(location['longitude'])\nprint(location['latitude'])"
      ],
      "execution_count": null,
      "outputs": []
    },
    {
      "cell_type": "markdown",
      "metadata": {
        "slideshow": {
          "slide_type": "slide"
        }
      },
      "source": [
        "### Dictionaries in Lists"
      ]
    },
    {
      "cell_type": "markdown",
      "metadata": {
        "slideshow": {
          "slide_type": "subslide"
        }
      },
      "source": [
        "\nPutting dictionaries inside a list is very common\n\n"
      ]
    },
    {
      "cell_type": "code",
      "metadata": {},
      "source": [
        "people = [\n    {'name': 'Jessica', 'age': 23},\n    {'name': 'Trisha', 'age': 24},\n]\n\nfor person in people:\n    print(person['name'])\n    print(person['age'])"
      ],
      "execution_count": null,
      "outputs": []
    },
    {
      "cell_type": "markdown",
      "metadata": {
        "slideshow": {
          "slide_type": "subslide"
        }
      },
      "source": [
        "\n**Exercise 4.5:** Using a for loop, output the values `name`, `colour` and `price` of each dictionary in the list\n\n"
      ]
    },
    {
      "cell_type": "code",
      "metadata": {},
      "source": [
        "fruits = [\n    {'name': 'apple', 'colour': 'red', 'price': 0.12},\n    {'name': 'banana', 'colour': 'yellow', 'price': 0.2},\n    {'name': 'pear', 'colour': 'green', 'price': 0.19},\n]"
      ],
      "execution_count": null,
      "outputs": []
    },
    {
      "cell_type": "markdown",
      "metadata": {
        "slideshow": {
          "slide_type": "subslide"
        }
      },
      "source": [
        "\nSolution\n\n"
      ]
    },
    {
      "cell_type": "code",
      "metadata": {},
      "source": [
        "fruits = [\n    {'name': 'apple', 'colour': 'red', 'price': 0.12},\n    {'name': 'banana', 'colour': 'yellow', 'price': 0.2},\n    {'name': 'pear', 'colour': 'green', 'price': 0.19},\n]\n\nfor fruit in fruits:\n    print(fruit['name'])\n    print(fruit['colour'])\n    print(fruit['price'])"
      ],
      "execution_count": null,
      "outputs": []
    },
    {
      "cell_type": "markdown",
      "metadata": {
        "slideshow": {
          "slide_type": "slide"
        }
      },
      "source": [
        "### Challenges"
      ]
    },
    {
      "cell_type": "markdown",
      "metadata": {
        "slideshow": {
          "slide_type": "subslide"
        }
      },
      "source": [
        "???"
      ]
    },
    {
      "cell_type": "markdown",
      "metadata": {
        "slideshow": {
          "slide_type": "slide"
        }
      },
      "source": [
        "### Recap"
      ]
    },
    {
      "cell_type": "markdown",
      "metadata": {
        "slideshow": {
          "slide_type": "subslide"
        }
      },
      "source": [
        "This session:\n1. Lists \n1. Dictionaries"
      ]
    },
    {
      "cell_type": "markdown",
      "metadata": {
        "slideshow": {
          "slide_type": "subslide"
        }
      },
      "source": [
        "**Homework:** Session 4 homework questions in your student guide"
      ]
    }
  ],
  "metadata": {
    "kernelspec": {
      "display_name": "Python 3",
      "language": "python",
      "name": "python3"
    },
    "language_info": {
      "codemirror_mode": {
        "name": "ipython",
        "version": 3
      },
      "file_extension": ".py",
      "mimetype": "text/x-python",
      "name": "python",
      "nbconvert_exporter": "python",
      "pygments_lexer": "ipython3",
      "version": "3.6.7"
    },
    "livereveal": {
      "scroll": true,
      "progress": true,
      "start_slideshow_at": "selected",
      "footer": "<img src=\"images/logo.png\" style=\"margin-left: 20px; margin-bottom: 20px;\"/>"
    },
    "rise": {
      "enable_chalkboard": true
    }
  },
  "nbformat": 4,
  "nbformat_minor": 2
}