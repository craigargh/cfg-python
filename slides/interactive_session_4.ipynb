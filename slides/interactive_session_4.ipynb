{
  "cells": [
    {
      "cell_type": "markdown",
      "metadata": {
        "slideshow": {
          "slide_type": "slide"
        }
      },
      "source": [
        "**Starter:** There are four mistakes in this program. What are the mistakes and how would you fix them?\n\n```python\ncarrots = input('How many carrots do you have? ')\nrabbits = 6\n\nif rabbits < carrots:\n    print('There are not enough carrots')\nif rabbits > carrots:\n    print('There are too many carrots')\nelse:\n    print('You have the right number of carrots')\n```"
      ]
    },
    {
      "cell_type": "markdown",
      "metadata": {
        "slideshow": {
          "slide_type": "slide"
        }
      },
      "source": [
        "![Code First: Girls](images/logo_large.png)\n\n#### Python Session 4"
      ]
    },
    {
      "cell_type": "markdown",
      "metadata": {
        "slideshow": {
          "slide_type": "subslide"
        }
      },
      "source": [
        "This session:\n1. Lists\n1. Dictionaries"
      ]
    },
    {
      "cell_type": "markdown",
      "metadata": {
        "slideshow": {
          "slide_type": "slide"
        }
      },
      "source": [
        "### Lists"
      ]
    },
    {
      "cell_type": "markdown",
      "metadata": {
        "slideshow": {
          "slide_type": "subslide"
        }
      },
      "source": [
        "**List:** an ordered collection of values"
      ]
    },
    {
      "cell_type": "markdown",
      "metadata": {
        "slideshow": {
          "slide_type": "subslide"
        }
      },
      "source": [
        "\nList are written inside square brackets and separated by commas\n\nA list of integers\n\n"
      ]
    },
    {
      "cell_type": "code",
      "metadata": {},
      "source": [
        "lottery_numbers = [4, 8, 15, 16, 23, 42]"
      ],
      "execution_count": null,
      "outputs": []
    },
    {
      "cell_type": "markdown",
      "metadata": {},
      "source": [
        "\nA list of strings\n\n"
      ]
    },
    {
      "cell_type": "code",
      "metadata": {},
      "source": [
        "student_names = ['Diedre', 'Hank', 'Helena', 'Salome']"
      ],
      "execution_count": null,
      "outputs": []
    },
    {
      "cell_type": "markdown",
      "metadata": {
        "slideshow": {
          "slide_type": "subslide"
        }
      },
      "source": [
        "\nLists can be made up of values of one or more data types\n\n"
      ]
    },
    {
      "cell_type": "code",
      "metadata": {},
      "source": [
        "person = ['Jess', 32]"
      ],
      "execution_count": null,
      "outputs": []
    },
    {
      "cell_type": "markdown",
      "metadata": {
        "slideshow": {
          "slide_type": "subslide"
        }
      },
      "source": [
        "List values can be accessed using their **index** in square brackets\n\n"
      ]
    },
    {
      "cell_type": "code",
      "metadata": {},
      "source": [
        "student_names = ['Diedre', 'Hank', 'Helena', 'Salome']\n\nprint(student_names[2])"
      ],
      "execution_count": null,
      "outputs": []
    },
    {
      "cell_type": "markdown",
      "metadata": {
        "slideshow": {
          "slide_type": "subslide"
        }
      },
      "source": [
        "\nList indexes start counting from 0\n\n"
      ]
    },
    {
      "cell_type": "code",
      "metadata": {},
      "source": [
        "student_names = [\n    'Diedre',    # index 0\n    'Hank',      # index 1\n    'Helena',    # index 2\n    'Salome'     # index 3\n]\n\nprint(student_names[0])"
      ],
      "execution_count": null,
      "outputs": []
    },
    {
      "cell_type": "markdown",
      "metadata": {
        "slideshow": {
          "slide_type": "subslide"
        }
      },
      "source": [
        "\nYou can also set the values in lists using their indexes, similar to how you would set a variable\n\n"
      ]
    },
    {
      "cell_type": "code",
      "metadata": {},
      "source": [
        "student_names = [\n    'Diedre',    # index 0\n    'Hank',      # index 1\n    'Helena',    # index 2\n    'Salome'     # index 3\n]\n\nstudent_names[1] = 'Joshua'"
      ],
      "execution_count": null,
      "outputs": []
    },
    {
      "cell_type": "markdown",
      "metadata": {
        "slideshow": {
          "slide_type": "subslide"
        }
      },
      "source": [
        "\n**Exercise 4.1:** When I'm travelling in the winter I often forget to pack warm clothes. Let's write a program to help me to remember the right clothes.\n\nThe program should check if the first item in the `clothes` list is `\"shorts\"`. If it is it should change the value to `\"warm coat\"`.\n\n"
      ]
    },
    {
      "cell_type": "code",
      "metadata": {},
      "source": [
        "clothes = [\n    \"shorts\",\n    \"shoes\",\n    \"t-shirt\",\n]"
      ],
      "execution_count": null,
      "outputs": []
    },
    {
      "cell_type": "markdown",
      "metadata": {
        "slideshow": {
          "slide_type": "subslide"
        }
      },
      "source": [
        "\nSolution\n\n"
      ]
    },
    {
      "cell_type": "code",
      "metadata": {},
      "source": [
        "clothes = [\n    \"shorts\",\n    \"shoes\",\n    \"t-shirt\",\n]\n\nif clothes[0] == 'shorts':\n    clothes[0] = 'warm coat'\n\nprint(clothes)"
      ],
      "execution_count": null,
      "outputs": []
    },
    {
      "cell_type": "markdown",
      "metadata": {
        "slideshow": {
          "slide_type": "slide"
        }
      },
      "source": [
        "### List Functions"
      ]
    },
    {
      "cell_type": "markdown",
      "metadata": {
        "slideshow": {
          "slide_type": "subslide"
        }
      },
      "source": [
        "\nThere are functions designed for lists\n- `len()`: the number of items in a list\n- `max()`: The biggest value in a list\n- `min()`: The smallest value in a list\n\n"
      ]
    },
    {
      "cell_type": "code",
      "metadata": {},
      "source": [
        "costs = [1.2, 4.3, 2.0, 0.5]\n\nprint(len(costs))\nprint(max(costs))\nprint(min(costs))"
      ],
      "execution_count": null,
      "outputs": []
    },
    {
      "cell_type": "markdown",
      "metadata": {
        "slideshow": {
          "slide_type": "subslide"
        }
      },
      "source": [
        "\nFunctions for changing the order of a list\n- `sorted()`: Sorts the \n- `reversed()`: Reverses the order of a list\n\n"
      ]
    },
    {
      "cell_type": "code",
      "metadata": {},
      "source": [
        "costs = [1.2, 4.3, 2.0, 0.5]\n\nprint(sorted(costs))\nprint(list(reversed(costs)))"
      ],
      "execution_count": null,
      "outputs": []
    },
    {
      "cell_type": "markdown",
      "metadata": {
        "slideshow": {
          "slide_type": "subslide"
        }
      },
      "source": [
        "\n**Exercise 4.2:** Make a list of game scores. Using list functions write code to output information of the scores in the following format:\n\n```bash\nNumber of scores: 10\nHighest score: 200\nLowest score: 3\n```\n\n**Extension:** Output all of the scores in descending order\n\n"
      ]
    },
    {
      "cell_type": "markdown",
      "metadata": {
        "slideshow": {
          "slide_type": "slide"
        }
      },
      "source": [
        "### append() and in"
      ]
    },
    {
      "cell_type": "markdown",
      "metadata": {
        "slideshow": {
          "slide_type": "subslide"
        }
      },
      "source": [
        "\nYou can check if an value is in a list using the `in` operator. If the value is in the list it will result in `True` and `False` if it is not.\n\n"
      ]
    },
    {
      "cell_type": "code",
      "metadata": {},
      "source": [
        "student_name = input('Which student are you looking for? ')\n\nstudents = [\n    'Diedre', 'Hank', 'Helena', 'Salome',\n]\n\nif student_name in students:\n    print('{} is in the class'.format(student_name))\nelse:\n    print('{} is not in the class'.format(student_name))"
      ],
      "execution_count": null,
      "outputs": []
    },
    {
      "cell_type": "markdown",
      "metadata": {
        "slideshow": {
          "slide_type": "subslide"
        }
      },
      "source": [
        "\nThe `.append()` method is used to add items to a list\n\n"
      ]
    },
    {
      "cell_type": "code",
      "metadata": {},
      "source": [
        "students = [\n    'Diedre', 'Hank', 'Helena', 'Salome',\n]\nstudent_name = input('What is the name of the new student? ')\n\nstudents.append(student_name)\n\nprint(students)"
      ],
      "execution_count": null,
      "outputs": []
    },
    {
      "cell_type": "markdown",
      "metadata": {
        "slideshow": {
          "slide_type": "subslide"
        }
      },
      "source": [
        "**Exercise 4.3:** Whenever I'm shopping and I buy some bread I always forget to buy butter. Create a list and if `'bread'` is in the list, add `'butter'` to the shopping list.\n\nTry running the program with and without bread in the list to check that your program works.\n\nRemember the `in` operator checks if an item is in a list and the `.append()` method adds an item to a list."
      ]
    },
    {
      "cell_type": "markdown",
      "metadata": {
        "slideshow": {
          "slide_type": "subslide"
        }
      },
      "source": [
        "\nSolution\n\n"
      ]
    },
    {
      "cell_type": "code",
      "metadata": {},
      "source": [
        "shopping_list = [\n    'bread',\n    'cheese',\n    'pop tarts',\n    'carrots',\n]\n\nif 'bread' in shopping_list:\n    shopping_list.append('butter')"
      ],
      "execution_count": null,
      "outputs": []
    },
    {
      "cell_type": "markdown",
      "metadata": {
        "slideshow": {
          "slide_type": "subslide"
        }
      },
      "source": [
        "\nTo check if an item is not in a list \n\n"
      ]
    },
    {
      "cell_type": "code",
      "metadata": {},
      "source": [
        "fridge = [\n    'cheese',\n    'pizza',\n    'coke',\n]\n\nif 'milk' not in fridge:\n    print('You have no milk in the fridge')"
      ],
      "execution_count": null,
      "outputs": []
    },
    {
      "cell_type": "markdown",
      "metadata": {
        "slideshow": {
          "slide_type": "slide"
        }
      },
      "source": [
        "### For Loops \u2665 Lists"
      ]
    },
    {
      "cell_type": "markdown",
      "metadata": {
        "slideshow": {
          "slide_type": "subslide"
        }
      },
      "source": [
        "Using lists and for loops together"
      ]
    },
    {
      "cell_type": "code",
      "metadata": {},
      "source": [
        "student_names = ['Diedre', 'Hank', 'Helena', 'Salome']\n\nfor student_name in student_names:\n    print(student_name)"
      ],
      "execution_count": null,
      "outputs": []
    },
    {
      "cell_type": "markdown",
      "metadata": {
        "slideshow": {
          "slide_type": "subslide"
        }
      },
      "source": [
        "\nCounting the total number of items in a list using a for loop\n\n"
      ]
    },
    {
      "cell_type": "code",
      "metadata": {},
      "source": [
        "student_names = ['Diedre', 'Hank', 'Helena', 'Salome']\ncount = 0\n\nfor student_name in student_names:\n    count = count + 1\n\nprint(count)"
      ],
      "execution_count": null,
      "outputs": []
    },
    {
      "cell_type": "markdown",
      "metadata": {
        "slideshow": {
          "slide_type": "subslide"
        }
      },
      "source": [
        "\n**Exercise 4.4:** I want to work out how much money I've spent on lunch this week. I've created a list of what I spent each day.\n\nWrite a program that uses a `for` loop to calculate the total cost \n\n"
      ]
    },
    {
      "cell_type": "code",
      "metadata": {},
      "source": [
        "costs = [8.30, 7.12, 5.01, 1.00, 0.99, 5.92, 3.50]\ntotal_cost = 0"
      ],
      "execution_count": null,
      "outputs": []
    },
    {
      "cell_type": "markdown",
      "metadata": {
        "slideshow": {
          "slide_type": "subslide"
        }
      },
      "source": [
        "\nSolution\n\n"
      ]
    },
    {
      "cell_type": "code",
      "metadata": {},
      "source": [
        "costs = [8.30, 7.12, 5.01, 1.00, 0.99, 5.92, 3.50]\ntotal_cost = 0\n\nfor cost in costs:\n    total_cost = total_cost + cost\n\nprint(total_cost)"
      ],
      "execution_count": null,
      "outputs": []
    },
    {
      "cell_type": "markdown",
      "metadata": {
        "slideshow": {
          "slide_type": "subslide"
        }
      },
      "source": [
        "\nThere is an easier way to do the last program without a for loop. The `sum()` function can be used to add up all of the values in a list:\n\n"
      ]
    },
    {
      "cell_type": "code",
      "metadata": {},
      "source": [
        "costs = [8.30, 7.12, 5.01, 1.00, 0.99, 5.92, 3.50]\ntotal = sum(costs)\n\nprint(total)"
      ],
      "execution_count": null,
      "outputs": []
    },
    {
      "cell_type": "markdown",
      "metadata": {
        "slideshow": {
          "slide_type": "slide"
        }
      },
      "source": [
        "### Dictionaries"
      ]
    },
    {
      "cell_type": "markdown",
      "metadata": {
        "slideshow": {
          "slide_type": "subslide"
        }
      },
      "source": [
        "\n**Dictionary:** Stores a colleciton of labelled items. Each item has a *key* and a *value*\n\n\n"
      ]
    },
    {
      "cell_type": "code",
      "metadata": {},
      "source": [
        "person = {\n    'name': 'Jessica',\n    'age': 23,\n    'height': 172\n}"
      ],
      "execution_count": null,
      "outputs": []
    },
    {
      "cell_type": "markdown",
      "metadata": {
        "slideshow": {
          "slide_type": "subslide"
        }
      },
      "source": [
        "![A variable](images/dictionary.svg)"
      ]
    },
    {
      "cell_type": "markdown",
      "metadata": {
        "slideshow": {
          "slide_type": "subslide"
        }
      },
      "source": [
        "\nValues in a dictionary are accessed using their keys\n"
      ]
    },
    {
      "cell_type": "code",
      "metadata": {},
      "source": [
        "person = {\n    'name': 'Jessica',\n    'age': 23,\n    'height': 172\n}\n\nprint(person['name'])"
      ],
      "execution_count": null,
      "outputs": []
    },
    {
      "cell_type": "markdown",
      "metadata": {
        "slideshow": {
          "slide_type": "subslide"
        }
      },
      "source": [
        "\n**Exercise 4.5:** Print the values of `name`, `post_code` and `street_number` from the dictionary\n\n"
      ]
    },
    {
      "cell_type": "code",
      "metadata": {},
      "source": [
        "place = {\n    'name': 'The Anchor',\n    'post_code': 'E14 6HY',\n    'street_number': '54',\n    'location': {\n        'longitude': 127,\n        'latitude': 63,\n    }\n}"
      ],
      "execution_count": null,
      "outputs": []
    },
    {
      "cell_type": "markdown",
      "metadata": {},
      "source": [
        "\n**Extension:** Print the values of `longitude` and `latitude` from the inner dictionary\n\n"
      ]
    },
    {
      "cell_type": "markdown",
      "metadata": {
        "slideshow": {
          "slide_type": "subslide"
        }
      },
      "source": [
        "\nSolution\n\n"
      ]
    },
    {
      "cell_type": "code",
      "metadata": {},
      "source": [
        "place = {\n    'name': 'The Anchor',\n    'post_code': 'E14 6HY',\n    'street_number': '54',\n    'location': {\n        'longitude': 127,\n        'latitude': 63,\n    }\n}\n\nprint(place['name'])\nprint(place['post_code'])\nprint(place['street_number'])"
      ],
      "execution_count": null,
      "outputs": []
    },
    {
      "cell_type": "markdown",
      "metadata": {
        "slideshow": {
          "slide_type": "subslide"
        }
      },
      "source": [
        "\nExtension:\n\n"
      ]
    },
    {
      "cell_type": "code",
      "metadata": {},
      "source": [
        "print(place['location']['longitude'])\nprint(place['location']['latitude'])\n\n\nlocation = place['location']\n\nprint(location['longitude'])\nprint(location['latitude'])"
      ],
      "execution_count": null,
      "outputs": []
    },
    {
      "cell_type": "markdown",
      "metadata": {
        "slideshow": {
          "slide_type": "slide"
        }
      },
      "source": [
        "### Dictionaries in Lists"
      ]
    },
    {
      "cell_type": "markdown",
      "metadata": {
        "slideshow": {
          "slide_type": "subslide"
        }
      },
      "source": [
        "\nPutting dictionaries inside a list is very common\n\n"
      ]
    },
    {
      "cell_type": "code",
      "metadata": {},
      "source": [
        "people = [\n    {'name': 'Jessica', 'age': 23},\n    {'name': 'Trisha', 'age': 24},\n]\n\nfor person in people:\n    print(person['name'])\n    print(person['age'])"
      ],
      "execution_count": null,
      "outputs": []
    },
    {
      "cell_type": "markdown",
      "metadata": {
        "slideshow": {
          "slide_type": "subslide"
        }
      },
      "source": [
        "\n**Exercise 4.6:** Using a for loop, output the values `name`, `colour` and `price` of each dictionary in the list\n\n"
      ]
    },
    {
      "cell_type": "code",
      "metadata": {},
      "source": [
        "fruits = [\n    {'name': 'apple', 'colour': 'red', 'price': 0.12},\n    {'name': 'banana', 'colour': 'yellow', 'price': 0.2},\n    {'name': 'pear', 'colour': 'green', 'price': 0.19},\n]"
      ],
      "execution_count": null,
      "outputs": []
    },
    {
      "cell_type": "markdown",
      "metadata": {
        "slideshow": {
          "slide_type": "subslide"
        }
      },
      "source": [
        "\nSolution\n\n"
      ]
    },
    {
      "cell_type": "code",
      "metadata": {},
      "source": [
        "fruits = [\n    {'name': 'apple', 'colour': 'red', 'price': 0.12},\n    {'name': 'banana', 'colour': 'yellow', 'price': 0.2},\n    {'name': 'pear', 'colour': 'green', 'price': 0.19},\n]\n\nfor fruit in fruits:\n    print(fruit['name'])\n    print(fruit['colour'])\n    print(fruit['price'])"
      ],
      "execution_count": null,
      "outputs": []
    },
    {
      "cell_type": "markdown",
      "metadata": {
        "slideshow": {
          "slide_type": "slide"
        }
      },
      "source": [
        "### Random Choice"
      ]
    },
    {
      "cell_type": "markdown",
      "metadata": {
        "slideshow": {
          "slide_type": "subslide"
        }
      },
      "source": [
        "\nThe `choice()` function in the random module returns a random item from a list\n\n"
      ]
    },
    {
      "cell_type": "code",
      "metadata": {},
      "source": [
        "import random\n\ncolours = ['red', 'green', 'blue']\nchosen_colour = random.choice(colours)\n\nprint(chosen_colour)"
      ],
      "execution_count": null,
      "outputs": []
    },
    {
      "cell_type": "markdown",
      "metadata": {
        "slideshow": {
          "slide_type": "subslide"
        }
      },
      "source": [
        "**Exercise 4.7:** Write a program to create a random name. You should have a list of random firstnames and a list of lastnames. Choose a random item from each and display the result.\n\nExtension: Using list of verbs and a list of nouns, create randomised sentences"
      ]
    },
    {
      "cell_type": "markdown",
      "metadata": {
        "slideshow": {
          "slide_type": "slide"
        }
      },
      "source": [
        "### Recap"
      ]
    },
    {
      "cell_type": "markdown",
      "metadata": {
        "slideshow": {
          "slide_type": "subslide"
        }
      },
      "source": [
        "This session:\n1. Lists \n1. Dictionaries"
      ]
    },
    {
      "cell_type": "markdown",
      "metadata": {
        "slideshow": {
          "slide_type": "subslide"
        }
      },
      "source": [
        "**Question 1:** What shape brackets are used for creating a list and what shape brackets are used for creating a dictionary?"
      ]
    },
    {
      "cell_type": "markdown",
      "metadata": {
        "slideshow": {
          "slide_type": "subslide"
        }
      },
      "source": [
        "\n**Question 2:** What is the result of this program?\n\n"
      ]
    },
    {
      "cell_type": "code",
      "metadata": {},
      "source": [
        "cheeses = [\n    'brie',\n    'cheddar',\n    'wensleydale',\n    'edam',\n]\n\nprint(cheeses[4])"
      ],
      "execution_count": null,
      "outputs": []
    },
    {
      "cell_type": "markdown",
      "metadata": {
        "slideshow": {
          "slide_type": "subslide"
        }
      },
      "source": [
        "\n**Question 3:** This program raises an error when I run it. What do I need to change to get it to run?\n\n"
      ]
    },
    {
      "cell_type": "code",
      "metadata": {},
      "source": [
        "trees = [\n    {'leaf_colour': 'green', 'height': 2120},\n    {'leaf_colour': 'green', 'height': 2300},\n\n\nnew_tree = {\n    'leaf_colour': 'green',\n    'height': 1020\n}\n\ntrees.append(new_tree)\n\nprint(trees)"
      ],
      "execution_count": null,
      "outputs": []
    },
    {
      "cell_type": "markdown",
      "metadata": {
        "slideshow": {
          "slide_type": "slide"
        }
      },
      "source": [
        "**Homework:** Session 4 homework questions in your student guide"
      ]
    }
  ],
  "metadata": {
    "kernelspec": {
      "display_name": "Python 3",
      "language": "python",
      "name": "python3"
    },
    "language_info": {
      "codemirror_mode": {
        "name": "ipython",
        "version": 3
      },
      "file_extension": ".py",
      "mimetype": "text/x-python",
      "name": "python",
      "nbconvert_exporter": "python",
      "pygments_lexer": "ipython3",
      "version": "3.6.7"
    },
    "livereveal": {
      "scroll": true,
      "progress": true,
      "start_slideshow_at": "selected",
      "footer": "<img src=\"images/logo.png\" style=\"margin-left: 20px; margin-bottom: 20px;\"/>"
    },
    "rise": {
      "enable_chalkboard": true
    }
  },
  "nbformat": 4,
  "nbformat_minor": 2
}