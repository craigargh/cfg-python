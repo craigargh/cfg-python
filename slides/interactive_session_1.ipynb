{
  "cells": [
    {
      "cell_type": "markdown",
      "metadata": {
        "slideshow": {
          "slide_type": "slide"
        }
      },
      "source": [
        "Make sure that you have installed:\n1. Python 3.7 (www.python.org/downloads/)\n1. PyCharm Community Edition (www.jetbrains.com/pycharm/download/)"
      ]
    },
    {
      "cell_type": "markdown",
      "metadata": {
        "slideshow": {
          "slide_type": "slide"
        }
      },
      "source": [
        "![Code First: Girls](images/logo_large.png)\n\n#### Python Session 1"
      ]
    },
    {
      "cell_type": "markdown",
      "metadata": {
        "slideshow": {
          "slide_type": "subslide"
        }
      },
      "source": [
        "Course overview:\n\n1. Data types, variables and operations\n1. Input, loops and functions\n1. If statements\n1. Lists and dictionaries\n1. Files, modules and APIs\n1. Project planning and group project \n1. Group project\n1. Group project and presentations"
      ]
    },
    {
      "cell_type": "markdown",
      "metadata": {
        "slideshow": {
          "slide_type": "subslide"
        }
      },
      "source": [
        "Instructor Introductions"
      ]
    },
    {
      "cell_type": "markdown",
      "metadata": {
        "slideshow": {
          "slide_type": "subslide"
        }
      },
      "source": [
        "Put a coloured Post-It note on the back of your laptop monitor during exercises:\n- Red/pink: I need instructor support\n- Green: I do not need instructor support"
      ]
    },
    {
      "cell_type": "markdown",
      "metadata": {
        "slideshow": {
          "slide_type": "subslide"
        }
      },
      "source": [
        "Topics this session:\n\n1. Run Python with files and console\n1. Recognise data types (Integers, Floats and Strings)\n1. Identify different maths operations\n1. Understand Error Messages\n1. Use variables in your programs"
      ]
    },
    {
      "cell_type": "markdown",
      "metadata": {
        "slideshow": {
          "slide_type": "subslide"
        }
      },
      "source": [
        "PyCharm"
      ]
    },
    {
      "cell_type": "markdown",
      "metadata": {
        "slideshow": {
          "slide_type": "slide"
        }
      },
      "source": [
        "### Why Python?"
      ]
    },
    {
      "cell_type": "markdown",
      "metadata": {
        "slideshow": {
          "slide_type": "subslide"
        }
      },
      "source": [
        "> **Programming Language:** A language with a set of rules that are used to communicate instructions to a computer\n\n> **Program:** A set of instructions that are run by a computer"
      ]
    },
    {
      "cell_type": "markdown",
      "metadata": {
        "slideshow": {
          "slide_type": "subslide"
        }
      },
      "source": [
        "Human languages are used to communicate between people\n\nProgramming languages are used to communicate instructions from people to computers"
      ]
    },
    {
      "cell_type": "markdown",
      "metadata": {
        "slideshow": {
          "slide_type": "subslide"
        }
      },
      "source": [
        "Python:\n\n1. Designed to be readable\n1. Wide selection of 3rd party libraries\n1. Popular\n1. Open Source"
      ]
    },
    {
      "cell_type": "markdown",
      "metadata": {
        "slideshow": {
          "slide_type": "slide"
        }
      },
      "source": [
        "### Your first Python Program"
      ]
    },
    {
      "cell_type": "markdown",
      "metadata": {
        "slideshow": {
          "slide_type": "subslide"
        }
      },
      "source": [
        "Open PyCharm and click `Create New Project`\n\n![PyCharm Landing Page](gifs/1_new_project.png)"
      ]
    },
    {
      "cell_type": "markdown",
      "metadata": {
        "slideshow": {
          "slide_type": "subslide"
        }
      },
      "source": [
        "Call the project `cfg-python`\n\nUnder `Project Interpreter: New Virtualenv environment`, set Base interpreter to Python 3.7\n\n![create new PyCharm project](gifs/2_new_project.gif)"
      ]
    },
    {
      "cell_type": "markdown",
      "metadata": {
        "slideshow": {
          "slide_type": "subslide"
        }
      },
      "source": [
        "Right click on `cfg-python` > `New` > `Python File`\n\nName the file `hello` (`.py` is added automatically)\n\n![create new PyCharm file](gifs/3_new_file.gif)"
      ]
    },
    {
      "cell_type": "markdown",
      "metadata": {
        "slideshow": {
          "slide_type": "subslide"
        }
      },
      "source": [
        "\nAdd this code to `hello.py`\n\n"
      ]
    },
    {
      "cell_type": "code",
      "metadata": {},
      "source": [
        "print('Hello, World!')"
      ],
      "execution_count": null,
      "outputs": []
    },
    {
      "cell_type": "markdown",
      "metadata": {
        "slideshow": {
          "slide_type": "subslide"
        }
      },
      "source": [
        "Right-click in your new file >  `Run 'hello'`\n\n![run the Python program](gifs/4_run.gif)"
      ]
    },
    {
      "cell_type": "markdown",
      "metadata": {
        "slideshow": {
          "slide_type": "subslide"
        }
      },
      "source": [
        "\ud83c\udf89 Congratulations! \ud83c\udf89 \n\nYou've just run your first Python program"
      ]
    },
    {
      "cell_type": "markdown",
      "metadata": {
        "slideshow": {
          "slide_type": "subslide"
        }
      },
      "source": [
        "**Function:** A reusable piece of code that completes a specific task\n\nYou can recognise a function as they are a word followed by round brackets `()` e.g. `print()`"
      ]
    },
    {
      "cell_type": "markdown",
      "metadata": {
        "slideshow": {
          "slide_type": "subslide"
        }
      },
      "source": [
        "\nThe `print()` function is used to output a message to the programmer\n\nYou can change the data given to the function to change the output\n\n"
      ]
    },
    {
      "cell_type": "code",
      "metadata": {},
      "source": [
        "print('I hope it is sunny this weekend')"
      ],
      "execution_count": null,
      "outputs": []
    },
    {
      "cell_type": "markdown",
      "metadata": {
        "slideshow": {
          "slide_type": "subslide"
        }
      },
      "source": [
        "**Exercise 1.1:** Now that you've run your first program, try the following:\n\n- Change the message to anything you want\n- Repeat the code on multiple lines to output several messages\n- Find out what happens when you remove different parts of the code (e.g. brackets)\n\nDon't worry if something unexpected happens. Think about what you changed and why it might have caused it to happen."
      ]
    },
    {
      "cell_type": "markdown",
      "metadata": {
        "slideshow": {
          "slide_type": "slide"
        }
      },
      "source": [
        "### Numbers and Operators in Python"
      ]
    },
    {
      "cell_type": "markdown",
      "metadata": {
        "slideshow": {
          "slide_type": "subslide"
        }
      },
      "source": [
        "**Integer:** a Python **data type** for **whole numbers**. For example `5`, `-99` and `1048` are all integers.\n\n**Float:** a Python **data type** for **decimal numbers**. For example `5.6`, `9.0` and `-67.1001` are all floats."
      ]
    },
    {
      "cell_type": "markdown",
      "metadata": {
        "slideshow": {
          "slide_type": "subslide"
        }
      },
      "source": [
        "Opening the Python Console\n\n![open Python console](gifs/5_python_console.gif)"
      ]
    },
    {
      "cell_type": "markdown",
      "metadata": {
        "slideshow": {
          "slide_type": "subslide"
        }
      },
      "source": [
        "\n**Exercise 1.2:** Type these lines into your **Python console**:\n\n"
      ]
    },
    {
      "cell_type": "code",
      "metadata": {},
      "source": [
        "5 - 6\n8 * 9\n6 / 2\n5 / 0\n5.0 / 2\n5 % 2\n2 * (10 + 3)\n2 ** 4"
      ],
      "execution_count": null,
      "outputs": []
    },
    {
      "cell_type": "markdown",
      "metadata": {},
      "source": [
        "\nWhat does each one do and what is its output?\n\nAre there any outputs you didn't expect?\n\n"
      ]
    },
    {
      "cell_type": "markdown",
      "metadata": {
        "slideshow": {
          "slide_type": "subslide"
        }
      },
      "source": [
        "Subtraction:\n"
      ]
    },
    {
      "cell_type": "code",
      "metadata": {},
      "source": [
        "5 - 6"
      ],
      "execution_count": null,
      "outputs": []
    },
    {
      "cell_type": "markdown",
      "metadata": {},
      "source": [
        "\nMultiplication:\n"
      ]
    },
    {
      "cell_type": "code",
      "metadata": {},
      "source": [
        "8 * 9"
      ],
      "execution_count": null,
      "outputs": []
    },
    {
      "cell_type": "markdown",
      "metadata": {},
      "source": [
        "\nDivision:\n"
      ]
    },
    {
      "cell_type": "code",
      "metadata": {},
      "source": [
        "6 / 2"
      ],
      "execution_count": null,
      "outputs": []
    },
    {
      "cell_type": "markdown",
      "metadata": {},
      "source": [
        "\nDivision by zero:\n"
      ]
    },
    {
      "cell_type": "code",
      "metadata": {},
      "source": [
        "5 / 0"
      ],
      "execution_count": null,
      "outputs": []
    },
    {
      "cell_type": "markdown",
      "metadata": {},
      "source": [
        "\nFloat division:\n"
      ]
    },
    {
      "cell_type": "code",
      "metadata": {},
      "source": [
        "5.0 / 2"
      ],
      "execution_count": null,
      "outputs": []
    },
    {
      "cell_type": "markdown",
      "metadata": {},
      "source": [
        "\nModulo (remainder):\n"
      ]
    },
    {
      "cell_type": "code",
      "metadata": {},
      "source": [
        "5 % 2"
      ],
      "execution_count": null,
      "outputs": []
    },
    {
      "cell_type": "markdown",
      "metadata": {},
      "source": [
        "\nBrackets:\n"
      ]
    },
    {
      "cell_type": "code",
      "metadata": {},
      "source": [
        "2 * (10 + 3)"
      ],
      "execution_count": null,
      "outputs": []
    },
    {
      "cell_type": "markdown",
      "metadata": {},
      "source": [
        "\nExponent (x to the power of y)\n"
      ]
    },
    {
      "cell_type": "code",
      "metadata": {},
      "source": [
        "2 ** 4"
      ],
      "execution_count": null,
      "outputs": []
    },
    {
      "cell_type": "markdown",
      "metadata": {
        "slideshow": {
          "slide_type": "subslide"
        }
      },
      "source": [
        "Operator types\n* `+`: add\n* `-`: subtract\n* `*`: multiply\n* `/`: division\n* `**`: exponent\n* `%`: modulo (remainder)"
      ]
    },
    {
      "cell_type": "markdown",
      "metadata": {
        "slideshow": {
          "slide_type": "slide"
        }
      },
      "source": [
        "## Python Console"
      ]
    },
    {
      "cell_type": "markdown",
      "metadata": {
        "slideshow": {
          "slide_type": "subslide"
        }
      },
      "source": [
        "There are two main ways to write and run Python programs:\n1. With files \n1. On the Python console (also called the shell)"
      ]
    },
    {
      "cell_type": "markdown",
      "metadata": {
        "slideshow": {
          "slide_type": "subslide"
        }
      },
      "source": [
        "Python File | Python Console\n---|---\nRuns all lines from top-to-bottom | Runs one line as it is entered\nOnly shows output when using `print()` | Shows output for every line\nFor code that will be ran multiple times | Interactive for exploration"
      ]
    },
    {
      "cell_type": "markdown",
      "metadata": {
        "slideshow": {
          "slide_type": "slide"
        }
      },
      "source": [
        "### The String Data Type"
      ]
    },
    {
      "cell_type": "markdown",
      "metadata": {
        "slideshow": {
          "slide_type": "subslide"
        }
      },
      "source": [
        "**String:** a Python data type for **text** and **characters**.\n\nFor example `'Hello'`, `\"abcdef1234\"` and `'cats'` are all strings"
      ]
    },
    {
      "cell_type": "markdown",
      "metadata": {
        "slideshow": {
          "slide_type": "subslide"
        }
      },
      "source": [
        "\nStrings must be written between a pair of single or double speech marks\n\n `'...'` or `\"...\"`\n\n\n"
      ]
    },
    {
      "cell_type": "code",
      "metadata": {},
      "source": [
        "\"This is a string\""
      ],
      "execution_count": null,
      "outputs": []
    },
    {
      "cell_type": "code",
      "metadata": {},
      "source": [
        "'This is also a string'"
      ],
      "execution_count": null,
      "outputs": []
    },
    {
      "cell_type": "markdown",
      "metadata": {
        "slideshow": {
          "slide_type": "subslide"
        }
      },
      "source": [
        "Forgetting the speech marks\n\n"
      ]
    },
    {
      "cell_type": "code",
      "metadata": {},
      "source": [
        "hello"
      ],
      "execution_count": null,
      "outputs": []
    },
    {
      "cell_type": "markdown",
      "metadata": {},
      "source": [
        "\nWill cause this exception\n\n```bash\nTraceback (most recent call last):\n  File \"<stdin>\", line 1, in <module>\nNameError: name 'hello' is not defined\n```\n\n"
      ]
    },
    {
      "cell_type": "markdown",
      "metadata": {
        "slideshow": {
          "slide_type": "subslide"
        }
      },
      "source": [
        "To fix it add speech marks\n\n\n"
      ]
    },
    {
      "cell_type": "code",
      "metadata": {},
      "source": [
        "\"hello\""
      ],
      "execution_count": null,
      "outputs": []
    },
    {
      "cell_type": "markdown",
      "metadata": {
        "slideshow": {
          "slide_type": "subslide"
        }
      },
      "source": [
        "The `*` and `+` operators work on strings as well as integers.\n\nLet's investigate what they do"
      ]
    },
    {
      "cell_type": "markdown",
      "metadata": {
        "slideshow": {
          "slide_type": "subslide"
        }
      },
      "source": [
        "\n**Exercise 1.3:**\n\nIn your **Python console** type each of these\n\n"
      ]
    },
    {
      "cell_type": "code",
      "metadata": {},
      "source": [
        "\"Cat\"\n\"Cat\" + \" videos\"\n\n\"Cat\" * 3\n\"Cat\" + 3\n\n\"Cat\".upper()\n\"Cat\".lower()\n\n\"the lord of the rings\".title()"
      ],
      "execution_count": null,
      "outputs": []
    },
    {
      "cell_type": "markdown",
      "metadata": {},
      "source": [
        "\nWhat is the output for each one and why?\n\nOne of them causes an exception. Read the exception message. What do you think it means?\n\n"
      ]
    },
    {
      "cell_type": "markdown",
      "metadata": {
        "slideshow": {
          "slide_type": "subslide"
        }
      },
      "source": [
        "\nResults:\n\n"
      ]
    },
    {
      "cell_type": "code",
      "metadata": {},
      "source": [
        "\"Cat\""
      ],
      "execution_count": null,
      "outputs": []
    },
    {
      "cell_type": "code",
      "metadata": {},
      "source": [
        "\"Cat\" + \" videos\""
      ],
      "execution_count": null,
      "outputs": []
    },
    {
      "cell_type": "code",
      "metadata": {},
      "source": [
        "\"Cat\" * 3"
      ],
      "execution_count": null,
      "outputs": []
    },
    {
      "cell_type": "code",
      "metadata": {},
      "source": [
        "\"Cat\" + 3"
      ],
      "execution_count": null,
      "outputs": []
    },
    {
      "cell_type": "code",
      "metadata": {},
      "source": [
        "\"Cat\".upper()"
      ],
      "execution_count": null,
      "outputs": []
    },
    {
      "cell_type": "code",
      "metadata": {},
      "source": [
        "\"Cat\".lower()"
      ],
      "execution_count": null,
      "outputs": []
    },
    {
      "cell_type": "code",
      "metadata": {},
      "source": [
        "\"the lord of the rings\".title()"
      ],
      "execution_count": null,
      "outputs": []
    },
    {
      "cell_type": "markdown",
      "metadata": {
        "slideshow": {
          "slide_type": "subslide"
        }
      },
      "source": [
        "1. The `+` operator can join two strings together, this is called **concatenation**\n\n1. The `*` operator repeats a string a number of times\n\n1. `.upper()`, `.lower()` and `.title()` are **methods**"
      ]
    },
    {
      "cell_type": "markdown",
      "metadata": {
        "slideshow": {
          "slide_type": "subslide"
        }
      },
      "source": [
        "**method:** A repeatable piece of code that completes a task for specific data-type\n\nMethods are like funcitons, but they are tied to a specific data-types e.g. `.upper()` can only used with a string and not an integet or a float"
      ]
    },
    {
      "cell_type": "markdown",
      "metadata": {
        "slideshow": {
          "slide_type": "subslide"
        }
      },
      "source": [
        "\nRunning this code\n\n"
      ]
    },
    {
      "cell_type": "code",
      "metadata": {},
      "source": [
        "print(\"Cat\" + 3)"
      ],
      "execution_count": null,
      "outputs": []
    },
    {
      "cell_type": "markdown",
      "metadata": {},
      "source": [
        "\nWill cause this exception\n\n```bash\nTraceback (most recent call last):\n  File \"<stdin>\", line 1, in <module>\nTypeError: can only concatenate str (not \"int\") to str\n```\n\n"
      ]
    },
    {
      "cell_type": "markdown",
      "metadata": {
        "slideshow": {
          "slide_type": "subslide"
        }
      },
      "source": [
        "\nPutting a number in `str()` converts it to a string\n\n"
      ]
    },
    {
      "cell_type": "code",
      "metadata": {},
      "source": [
        "print(\"Cat\" + str(3))"
      ],
      "execution_count": null,
      "outputs": []
    },
    {
      "cell_type": "markdown",
      "metadata": {
        "slideshow": {
          "slide_type": "slide"
        }
      },
      "source": [
        "### Variables"
      ]
    },
    {
      "cell_type": "markdown",
      "metadata": {
        "slideshow": {
          "slide_type": "subslide"
        }
      },
      "source": [
        "**Variable:** a reusable **label** for a data value in Python"
      ]
    },
    {
      "cell_type": "markdown",
      "metadata": {
        "slideshow": {
          "slide_type": "subslide"
        }
      },
      "source": [
        "\nCreating (assigning) a variable has three parts:\n1. The variable's name\n1. An equals sign `=`\n1. The data value it references\n\n"
      ]
    },
    {
      "cell_type": "code",
      "metadata": {},
      "source": [
        "username = 'sarah_1987'\nage = 23"
      ],
      "execution_count": null,
      "outputs": []
    },
    {
      "cell_type": "markdown",
      "metadata": {
        "slideshow": {
          "slide_type": "subslide"
        }
      },
      "source": [
        "![A variable](images/variable.svg)"
      ]
    },
    {
      "cell_type": "markdown",
      "metadata": {
        "slideshow": {
          "slide_type": "subslide"
        }
      },
      "source": [
        "\nValues and variables are interchangeable\n\nA variable can be put anywhere that a data value can be used\n\n"
      ]
    },
    {
      "cell_type": "code",
      "metadata": {},
      "source": [
        "print('spaghetti')"
      ],
      "execution_count": null,
      "outputs": []
    },
    {
      "cell_type": "code",
      "metadata": {},
      "source": [
        "food = 'spaghetti'\nprint(food)"
      ],
      "execution_count": null,
      "outputs": []
    },
    {
      "cell_type": "markdown",
      "metadata": {
        "slideshow": {
          "slide_type": "subslide"
        }
      },
      "source": [
        "\nVariables can be reused. This program calculates the cost of 12 oranges. \n\n"
      ]
    },
    {
      "cell_type": "code",
      "metadata": {},
      "source": [
        "oranges = 12\ncost_per_orange = 0.5\n\ntotal_cost = oranges * cost_per_orange\n\nprint(str(oranges) + \" oranges\")\nprint(\"costs \" + str(total_cost))"
      ],
      "execution_count": null,
      "outputs": []
    },
    {
      "cell_type": "markdown",
      "metadata": {},
      "source": [
        "\nThe `oranges` variable is reused twice in the program\n\n"
      ]
    },
    {
      "cell_type": "markdown",
      "metadata": {
        "slideshow": {
          "slide_type": "subslide"
        }
      },
      "source": [
        "**Exercise 1.4:** In a new Python **file** called `cat_food.py`, create a program that calculates how many cans of cat food you need to feed 10 cats\n\nYour will need:\n1. A **variable** for the number of **cats**\n1. A **variable** for the number of **cans** each cat eats in a day\n1. A `print()` function to output the result\n\n**Extension:** change the calculation to work out the amount needed for 7 days"
      ]
    },
    {
      "cell_type": "markdown",
      "metadata": {
        "slideshow": {
          "slide_type": "subslide"
        }
      },
      "source": [
        "\nAn Example Solution\n"
      ]
    },
    {
      "cell_type": "code",
      "metadata": {},
      "source": [
        "cats = 10\ncans = 2\n\ntotal_cans = cats * cans\n\noutput = str(cats) + \" cats eat \" + str(total_cans) + \" cans\"\nprint(output)"
      ],
      "execution_count": null,
      "outputs": []
    },
    {
      "cell_type": "markdown",
      "metadata": {
        "slideshow": {
          "slide_type": "subslide"
        }
      },
      "source": [
        "\nExtension Solution\n\n"
      ]
    },
    {
      "cell_type": "code",
      "metadata": {},
      "source": [
        "cats = 10\ncans = 2\ndays = 7\n\ntotal_cans = cats * cans * days\n\nmsg = str(cats) + \" cats eat \" + str(total_cans) + \" cans in \" + str(days) + \" days\"\nprint(msg)"
      ],
      "execution_count": null,
      "outputs": []
    },
    {
      "cell_type": "markdown",
      "metadata": {
        "slideshow": {
          "slide_type": "slide"
        }
      },
      "source": [
        "### String Formatting"
      ]
    },
    {
      "cell_type": "markdown",
      "metadata": {
        "slideshow": {
          "slide_type": "subslide"
        }
      },
      "source": [
        "\nPython strings have a method (`.format()`) that substitutes place-holders `{}` for values\n\n"
      ]
    },
    {
      "cell_type": "code",
      "metadata": {},
      "source": [
        "oranges = 12\ncost_per_orange = 0.5\n\ntotal_cost = oranges * cost_per_orange\n\noutput = \"{} oranges costs \u00a3{}\".format(oranges, total_cost)\n\nprint(output)"
      ],
      "execution_count": null,
      "outputs": []
    },
    {
      "cell_type": "markdown",
      "metadata": {
        "slideshow": {
          "slide_type": "subslide"
        }
      },
      "source": [
        "\nThis could have been written as:\n\n"
      ]
    },
    {
      "cell_type": "code",
      "metadata": {},
      "source": [
        "oranges = 12\ncost_per_orange = 0.5\n\ntotal_cost = oranges * cost_per_orange\n\noutput = str(oranges) + \" oranges costs \u00a3\" + str(total_cost)\n\nprint(output)"
      ],
      "execution_count": null,
      "outputs": []
    },
    {
      "cell_type": "markdown",
      "metadata": {
        "slideshow": {
          "slide_type": "subslide"
        }
      },
      "source": [
        "\n**Exercise 1.5:** Rewrite `cat_food.py` to use string formatting instead of joining strings with `+`.\n\nAn example of string formatting:\n\n"
      ]
    },
    {
      "cell_type": "code",
      "metadata": {},
      "source": [
        "user_name = 'sarah_1987'\nage = 23\n\noutput = '{} is {} years old'.format(user_name, age)\nprint(output)"
      ],
      "execution_count": null,
      "outputs": []
    },
    {
      "cell_type": "markdown",
      "metadata": {
        "slideshow": {
          "slide_type": "subslide"
        }
      },
      "source": [
        "\nSolution\n\n"
      ]
    },
    {
      "cell_type": "code",
      "metadata": {},
      "source": [
        "cats = 10\ncans = 2\n\ntotal_cans = cats * cans\n\noutput = \"{} cats eat {} cans\".format(cats, total_cans)\nprint(output)"
      ],
      "execution_count": null,
      "outputs": []
    },
    {
      "cell_type": "markdown",
      "metadata": {
        "slideshow": {
          "slide_type": "slide"
        }
      },
      "source": [
        "### Comments"
      ]
    },
    {
      "cell_type": "markdown",
      "metadata": {
        "slideshow": {
          "slide_type": "subslide"
        }
      },
      "source": [
        "\n**Comment:** a way for a programmer to write human-readable notes in their code. When running a program, comments are ignored by Python.\n\n"
      ]
    },
    {
      "cell_type": "code",
      "metadata": {},
      "source": [
        "# This is a comment"
      ],
      "execution_count": null,
      "outputs": []
    },
    {
      "cell_type": "markdown",
      "metadata": {
        "slideshow": {
          "slide_type": "subslide"
        }
      },
      "source": [
        "\nComments in Python start with a `#`\n\n"
      ]
    },
    {
      "cell_type": "code",
      "metadata": {},
      "source": [
        "# A program to calculate the cost of some oranges\n\noranges = 12\ncost_per_orange = 0.5\n\ntotal_cost = oranges * cost_per_orange\n\noutput = \"{} oranges costs \u00a3{}\".format(oranges, total_cost)\n\nprint(output)"
      ],
      "execution_count": null,
      "outputs": []
    },
    {
      "cell_type": "markdown",
      "metadata": {
        "slideshow": {
          "slide_type": "slide"
        }
      },
      "source": [
        "### Recap"
      ]
    },
    {
      "cell_type": "markdown",
      "metadata": {
        "slideshow": {
          "slide_type": "subslide"
        }
      },
      "source": [
        "1. Run Python with files and console\n1. Data types (Integers, Floats and Strings)\n1. Maths operations\n1. Understanding Error Messages\n1. Variables"
      ]
    },
    {
      "cell_type": "markdown",
      "metadata": {
        "slideshow": {
          "slide_type": "subslide"
        }
      },
      "source": [
        "**Question 1:** What are the names of the maths operators?"
      ]
    },
    {
      "cell_type": "markdown",
      "metadata": {
        "slideshow": {
          "slide_type": "subslide"
        }
      },
      "source": [
        "**Question 2:** In what situation should you use a Python file and when should you use the Python Console?"
      ]
    },
    {
      "cell_type": "markdown",
      "metadata": {
        "slideshow": {
          "slide_type": "subslide"
        }
      },
      "source": [
        "\n**Question 3:** What is the output of this code?\n\n"
      ]
    },
    {
      "cell_type": "code",
      "metadata": {},
      "source": [
        "days = 31\nhours = \"24\"\ntotal_hours = days * hours\n\nmsg = \"There are {} in {} days\".format(total_hours, days)\nprint(msg)"
      ],
      "execution_count": null,
      "outputs": []
    },
    {
      "cell_type": "markdown",
      "metadata": {
        "slideshow": {
          "slide_type": "slide"
        }
      },
      "source": [
        "**Homework:** Session 1 homework questions in your student guide"
      ]
    }
  ],
  "metadata": {
    "kernelspec": {
      "display_name": "Python 3",
      "language": "python",
      "name": "python3"
    },
    "language_info": {
      "codemirror_mode": {
        "name": "ipython",
        "version": 3
      },
      "file_extension": ".py",
      "mimetype": "text/x-python",
      "name": "python",
      "nbconvert_exporter": "python",
      "pygments_lexer": "ipython3",
      "version": "3.6.7"
    },
    "livereveal": {
      "scroll": true,
      "progress": true,
      "start_slideshow_at": "selected",
      "footer": "<img src=\"images/logo.png\" style=\"margin-left: 20px; margin-bottom: 20px;\"/>"
    },
    "rise": {
      "enable_chalkboard": true
    }
  },
  "nbformat": 4,
  "nbformat_minor": 2
}