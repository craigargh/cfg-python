{
  "cells": [
    {
      "cell_type": "markdown",
      "metadata": {
        "slideshow": {
          "slide_type": "slide"
        }
      },
      "source": [
        "**Starter:** Rewrite this code to use a for loop and the `range()` function:\n\n```python\nprint('~' * 0)\nprint('~' * 1)\nprint('~' * 2)\nprint('~' * 3)\nprint('~' * 4)\nprint('~' * 5)\nprint('~' * 6)\nprint('~' * 7)\nprint('~' * 8)\n```"
      ]
    },
    {
      "cell_type": "markdown",
      "metadata": {
        "slideshow": {
          "slide_type": "subslide"
        }
      },
      "source": [
        "\nStarter solution\n\n"
      ]
    },
    {
      "cell_type": "code",
      "metadata": {},
      "source": [
        "for number in range(9):\n    print('~' * number)"
      ],
      "execution_count": null,
      "outputs": []
    },
    {
      "cell_type": "markdown",
      "metadata": {
        "slideshow": {
          "slide_type": "slide"
        }
      },
      "source": [
        "![Code First: Girls](images/logo_large.png)\n\n#### Python Session 3"
      ]
    },
    {
      "cell_type": "markdown",
      "metadata": {
        "slideshow": {
          "slide_type": "subslide"
        }
      },
      "source": [
        "Topics in this session:\n1. Comparison Operators\n1. Logical Operators\n1. If Statements"
      ]
    },
    {
      "cell_type": "markdown",
      "metadata": {
        "slideshow": {
          "slide_type": "slide"
        }
      },
      "source": [
        "### Comparisons and Logical Operators"
      ]
    },
    {
      "cell_type": "markdown",
      "metadata": {
        "slideshow": {
          "slide_type": "subslide"
        }
      },
      "source": [
        "**Bolean:** A data-type that is either `True` or `False`\n\n**Comparison operator:** compare values to determine wheter something is `True` or `False`"
      ]
    },
    {
      "cell_type": "markdown",
      "metadata": {
        "slideshow": {
          "slide_type": "subslide"
        }
      },
      "source": [
        "\nThis code checks if the user has input `'Monday'` using the `==` operator\n\n"
      ]
    },
    {
      "cell_type": "code",
      "metadata": {},
      "source": [
        "today = input('What day is it? ')\n\nis_monday = today == 'Monday'\n\nprint('Today is Monday: {}'.format(is_monday))"
      ],
      "execution_count": null,
      "outputs": []
    },
    {
      "cell_type": "markdown",
      "metadata": {
        "slideshow": {
          "slide_type": "subslide"
        }
      },
      "source": [
        "Summary of comparison operators in Python\n\nName | Python\n---|---\nEqual to | `==`\nNot equal | `!=`\nGreater than | `>`\nLess than | `<`\nGreater than or equal | `>=`\nLess than or equal | `<=`"
      ]
    },
    {
      "cell_type": "markdown",
      "metadata": {
        "slideshow": {
          "slide_type": "subslide"
        }
      },
      "source": [
        "\n`float()` can convert strings to floats\n\nThis code checks if the current temperature is freezing:\n\n"
      ]
    },
    {
      "cell_type": "code",
      "metadata": {},
      "source": [
        "temperature = input('What is the temperature? ')\n\nis_freezing = float(temperature) <= 0.0\n\nprint('The temperature is freezing: {}'.format(is_freezing))"
      ],
      "execution_count": null,
      "outputs": []
    },
    {
      "cell_type": "markdown",
      "metadata": {
        "slideshow": {
          "slide_type": "subslide"
        }
      },
      "source": [
        "\n**Exercise 3.1:** You have a budget of \u00a310 and want to write a program to decide which burger restaurant to go to.\n\n1. Input the `price` of a burger using `input()`\n1. Check whether the `price` is less than or equal (`<=`) `10.00`\n1. Print the result in the format below\n\n```bash\nBurger is within budget: True\n```\n\n**Hint:** remember to convert the input from a string to a decimal with `float()`\n\n"
      ]
    },
    {
      "cell_type": "markdown",
      "metadata": {
        "slideshow": {
          "slide_type": "subslide"
        }
      },
      "source": [
        "\nSolution\n\n"
      ]
    },
    {
      "cell_type": "code",
      "metadata": {},
      "source": [
        "price = input('How much is a burger? ')\n\nwithin_budget = float(price) <= 10.00\n\nprint('Burger is within budget: {}'.format(within_budget))"
      ],
      "execution_count": null,
      "outputs": []
    },
    {
      "cell_type": "markdown",
      "metadata": {
        "slideshow": {
          "slide_type": "subslide"
        }
      },
      "source": [
        "There are logical operators to combine multiple checks\n\nPython | What it does\n---|---\nand | both expressions are `True`\nor | at least one expression is `True`\nnot | reverse the expression (`True` becomes `False` and vice-versa)"
      ]
    },
    {
      "cell_type": "markdown",
      "metadata": {
        "slideshow": {
          "slide_type": "subslide"
        }
      },
      "source": [
        "\nThis program will work out if you should visit Mars based on whether you want to visit and if you can afford it:\n\n"
      ]
    },
    {
      "cell_type": "code",
      "metadata": {},
      "source": [
        "mars_choice = input('Would you like to visit Mars? y/n ')\nis_willing = mars_choice == 'y'\n\naffordable = input('Can you afford to visit Mars? y/n ')\ncan_afford = affordable == 'y'\n\nshould_visit_mars = is_willing and can_afford\n\nprint('You should visit Mars: {}'.format(should_visit_mars))"
      ],
      "execution_count": null,
      "outputs": []
    },
    {
      "cell_type": "markdown",
      "metadata": {
        "slideshow": {
          "slide_type": "subslide"
        }
      },
      "source": [
        "\n**Exercise 3.2:** Add code to your burger program to input whether the restaurant has a vegetarian option\n\nThe output should say whether the cost is within budget **AND** has a vegetarian option\n\n```bash\nRestaurant meets criteria: True\n```\n\n"
      ]
    },
    {
      "cell_type": "markdown",
      "metadata": {
        "slideshow": {
          "slide_type": "subslide"
        }
      },
      "source": [
        "\nSolution:\n\n"
      ]
    },
    {
      "cell_type": "code",
      "metadata": {},
      "source": [
        "price = input('How much is a burger? ')\nvegetarian = input('Is there a vegetarian option? (y/n) ')\n\nwithin_budget = float(price) <= 10.00\nhas_vegetarian = vegetarian == 'y'\n\nis_good_choice = within_budget and has_vegetarian\n\nprint('Restaurant meets criteria: {}'.format(is_good_choice))"
      ],
      "execution_count": null,
      "outputs": []
    },
    {
      "cell_type": "markdown",
      "metadata": {
        "slideshow": {
          "slide_type": "slide"
        }
      },
      "source": [
        "### If Statements"
      ]
    },
    {
      "cell_type": "markdown",
      "metadata": {
        "slideshow": {
          "slide_type": "subslide"
        }
      },
      "source": [
        "**if statement:** used to run a block of code depending on whether a condition is `True` or `False`"
      ]
    },
    {
      "cell_type": "code",
      "metadata": {},
      "source": [
        "password = input('password: ')\n\nif password == 'jumanji':\n    print('Success!')"
      ],
      "execution_count": null,
      "outputs": []
    },
    {
      "cell_type": "markdown",
      "metadata": {
        "slideshow": {
          "slide_type": "subslide"
        }
      },
      "source": [
        "An `if` statement has the following:\n1. The `if` keyword\n1. A condition (comparison)\n1. A colon\n1. Body (indented four spaces)"
      ]
    },
    {
      "cell_type": "markdown",
      "metadata": {
        "slideshow": {
          "slide_type": "subslide"
        }
      },
      "source": [
        "![An if statement](images/if_statement.svg)"
      ]
    },
    {
      "cell_type": "markdown",
      "metadata": {
        "slideshow": {
          "slide_type": "subslide"
        }
      },
      "source": [
        "\nThis program checks whether you are an admin and you have entered the right password:\n\n"
      ]
    },
    {
      "cell_type": "code",
      "metadata": {},
      "source": [
        "name = input(\"What is your name? \")\nis_admin = name == 'admin'\n\npassword = input(\"What is your password? \")\nis_password_correct = password == 'dinosaurs'\n\nif is_admin and is_password_correct:\n    print('Welcome')\n\nif not is_admin or not is_password_correct:\n    print('Go away')"
      ],
      "execution_count": null,
      "outputs": []
    },
    {
      "cell_type": "markdown",
      "metadata": {
        "slideshow": {
          "slide_type": "subslide"
        }
      },
      "source": [
        "\n**Exercise 3.3:** Rewrite the output of your burger program to use if statements\n\nIf it is a good choice it should be:\n\n```bash\nThis restaurant is a great choice!\n```\n\nIf it is **not** a good choice it should be:\n\n```bash\nProbably not a good idea\n```\n\n"
      ]
    },
    {
      "cell_type": "markdown",
      "metadata": {
        "slideshow": {
          "slide_type": "subslide"
        }
      },
      "source": [
        "\nSolution\n\n"
      ]
    },
    {
      "cell_type": "code",
      "metadata": {},
      "source": [
        "price = input('How much is a burger? ')\nvegetarian = input('Is there a vegetarian option? (y/n) ')\n\nwithin_budget = float(price) <= 10.00\nhas_vegetarian = vegetarian == 'y'\n\nis_good_choice = within_budget and has_vegetarian\n\nif is_good_choice:\n    print('This restaurant is a great choice!')\n\nif not is_good_choice:\n    print('Probably not a good idea')"
      ],
      "execution_count": null,
      "outputs": []
    },
    {
      "cell_type": "markdown",
      "metadata": {
        "slideshow": {
          "slide_type": "slide"
        }
      },
      "source": [
        "### Else Statements"
      ]
    },
    {
      "cell_type": "markdown",
      "metadata": {
        "slideshow": {
          "slide_type": "subslide"
        }
      },
      "source": [
        "**else statement:** Used with an `if` statement and will run when the `if` condition is `False`"
      ]
    },
    {
      "cell_type": "code",
      "metadata": {},
      "source": [
        "password = input('password: ')\n\nif password == 'jumanji':\n    print('Success!')\nelse:\n    print('Failure!')"
      ],
      "execution_count": null,
      "outputs": []
    },
    {
      "cell_type": "markdown",
      "metadata": {
        "slideshow": {
          "slide_type": "subslide"
        }
      },
      "source": [
        "\nHere's the admin program rewritten to use `else`:\n\n"
      ]
    },
    {
      "cell_type": "code",
      "metadata": {},
      "source": [
        "name = input(\"What is your name? \")\nis_admin = name == 'admin'\n\npassword = input(\"What is your password? \")\nis_password_correct = password == 'dinosaurs'\n\nif is_admin and is_password_correct:\n    print('Welcome')\n\nelse:\n    print('Go away')"
      ],
      "execution_count": null,
      "outputs": []
    },
    {
      "cell_type": "markdown",
      "metadata": {
        "slideshow": {
          "slide_type": "subslide"
        }
      },
      "source": [
        "\n**Exercise 3.4:** Now that you've finished your burger, you want to pay for your food. Let's write a program to calculate your meal and apply a discount if applicable. \n\nIf your total meal costs more than \u00a320 and you have a discount, the price will be reduced by 10%. The program should print \"Discount applied\" or \"No discount\" depending on whether the discount criteria was met.\n\n"
      ]
    },
    {
      "cell_type": "code",
      "metadata": {},
      "source": [
        "meal_price = float(input('How much did the meal cost? '))\n\ndiscount_choice = input('Do you have a discount? y/n ')\ndiscount_applicable = discount_choice == 'y'"
      ],
      "execution_count": null,
      "outputs": []
    },
    {
      "cell_type": "markdown",
      "metadata": {
        "slideshow": {
          "slide_type": "subslide"
        }
      },
      "source": [
        "\nSolution\n\n"
      ]
    },
    {
      "cell_type": "code",
      "metadata": {},
      "source": [
        "meal_price = float(input('How much did the meal cost? '))\n\ndiscount_choice = input('Do you have a discount? y/n ')\ndiscount_applicable = discount_choice == 'y'\n\nif discount_applicable:\n    meal_price = meal_price * 0.9\n    print('Discount applied')\nelse:\n    print('No discount')\n\nprint('Total cost: {}'.format(meal_price))"
      ],
      "execution_count": null,
      "outputs": []
    },
    {
      "cell_type": "markdown",
      "metadata": {
        "slideshow": {
          "slide_type": "slide"
        }
      },
      "source": [
        "### Elif Statements"
      ]
    },
    {
      "cell_type": "markdown",
      "metadata": {
        "slideshow": {
          "slide_type": "subslide"
        }
      },
      "source": [
        "**elif statement:** used after `if` statements to check whether another condition is `True` or `False`"
      ]
    },
    {
      "cell_type": "code",
      "metadata": {},
      "source": [
        "dog_size = int(input('How big is the dog? '))\n\nif dog_size > 75:\n    print('That is a big dog')\n\nelif dog_size < 25:\n    print('That is a small dog')\n\nelse:\n    print('That is an average dog')"
      ],
      "execution_count": null,
      "outputs": []
    },
    {
      "cell_type": "markdown",
      "metadata": {
        "slideshow": {
          "slide_type": "subslide"
        }
      },
      "source": [
        "\nYou can use multiple `elif` statements together\n\n"
      ]
    },
    {
      "cell_type": "code",
      "metadata": {},
      "source": [
        "dog_size = int(input('How big is the dog? '))\n\nif dog_size > 75:\n    print('That is a big dog')\n\nelif dog_size < 10:\n    print('That dog could fit in my pocket')\n\nelif dog_size < 25:\n    print('That is a small dog')\n\nelse:\n    print('That is an average dog')"
      ],
      "execution_count": null,
      "outputs": []
    },
    {
      "cell_type": "markdown",
      "metadata": {
        "slideshow": {
          "slide_type": "subslide"
        }
      },
      "source": [
        "**Exercise 3.5:** You're cooking a pizza and need to check that the oven is at the right temperature. \n\nWrite a program to:\n- Ask the user to input the temperature\n- Prints \"The oven is too hot\" if the temperature is over 200\n- Prints \"The oven is too cold\" if the temperature is under 150\n- Prints \"The oven is at the perfect temperature\" if the temperature is 180\n- Prints \"The temperature is close enough\" for any other temperature"
      ]
    },
    {
      "cell_type": "markdown",
      "metadata": {
        "slideshow": {
          "slide_type": "subslide"
        }
      },
      "source": [
        "\nSolution\n\n"
      ]
    },
    {
      "cell_type": "code",
      "metadata": {},
      "source": [
        "temperature = float(input('What is the temperature of the oven? '))\n\nif temperature > 200:\n    print('The oven is too hot')\nelif temperature < 150:\n    print('The oven is too cold')\nelif temperature == 180:\n    print('The oven is at the perfect temperature')\nelse:\n    print('The temperature is close enough')"
      ],
      "execution_count": null,
      "outputs": []
    },
    {
      "cell_type": "markdown",
      "metadata": {
        "slideshow": {
          "slide_type": "slide"
        }
      },
      "source": [
        "### Random"
      ]
    },
    {
      "cell_type": "markdown",
      "metadata": {
        "slideshow": {
          "slide_type": "subslide"
        }
      },
      "source": [
        "\nPython has a built-in library for random data\n\n"
      ]
    },
    {
      "cell_type": "code",
      "metadata": {},
      "source": [
        "import random\n\nrandom_integer = random.randint(1, 100)\n\nprint(random_integer)"
      ],
      "execution_count": null,
      "outputs": []
    },
    {
      "cell_type": "markdown",
      "metadata": {
        "slideshow": {
          "slide_type": "subslide"
        }
      },
      "source": [
        "\nThe `randint()` function generates a random number between two values\n\nThis program uses `randint()` to simulate dice with any number of sides\n\n"
      ]
    },
    {
      "cell_type": "code",
      "metadata": {},
      "source": [
        "import random\n\nsides = int(input('How many sides does the die have? '))\nrandom_integer = random.randint(1, sides)\n\nprint('You rolled a {}'.format(random_integer))"
      ],
      "execution_count": null,
      "outputs": []
    },
    {
      "cell_type": "markdown",
      "metadata": {
        "slideshow": {
          "slide_type": "subslide"
        }
      },
      "source": [
        "To practice if statements choose one of the following exercises in your student guide:\n- Exercise 3.6: Flip a coin\n- Exercise 3.7: Rock, Scissors, Paper\n- Exercise 3.8: Roulette"
      ]
    },
    {
      "cell_type": "markdown",
      "metadata": {
        "slideshow": {
          "slide_type": "subslide"
        }
      },
      "source": [
        "\n**Exercise 3.6:** This program uses random to simulate a coin flip.\n\nTo finish the program you will need to add the following:\n- If the random coin flip matches the choice input by the user then they win\n- Ohterwise if the random coin flip does not match the choice input by the user then they lose\n\n"
      ]
    },
    {
      "cell_type": "code",
      "metadata": {},
      "source": [
        "import random\n\ndef flip_coin():\n    random_number = random.randint(1, 2)\n    if random_number == 1:\n        side = 'heads'\n    else:\n        side = 'tails'\n    return side\n\nchoice = input('heads or tails: ')\nresult = flip_coin()\n\nprint('The coin landed on {}'.format(result))"
      ],
      "execution_count": null,
      "outputs": []
    },
    {
      "cell_type": "markdown",
      "metadata": {
        "slideshow": {
          "slide_type": "subslide"
        }
      },
      "source": [
        "\n**Exercise 3.7:** This program simulates rock, paper, scissors. The first winning condition has been added. To finish the program you'll need to add all of the other winning and losing conditions.\n\n"
      ]
    },
    {
      "cell_type": "code",
      "metadata": {},
      "source": [
        "import random\n\ndef random_choice():\n    choice_number = random.randint(1, 3)\n\n    if choice_number == 1:\n        choice = 'rock'\n    elif choice_number == 2:\n        choice = 'scissors'\n    else:\n        choice = 'paper'\n\n    return choice\n\nmy_choice = input('Choose rock, scissors or paper: ')\nopponent_choice = random_choice()\n\nprint('Your opponent chose {}'.format(opponent_choice))\n\nif my_choice == 'rock' and opponent_choice == 'scissors':\n    print('You win!')"
      ],
      "execution_count": null,
      "outputs": []
    },
    {
      "cell_type": "markdown",
      "metadata": {
        "slideshow": {
          "slide_type": "subslide"
        }
      },
      "source": [
        "\n**Exercise 3.8:** Not Quite Roulette\n\nAsk the user to enter the following three things using `input()`:\n- The amount they want to bet\n- A colour (red or black)\n- A number between 1 and 100\n\nAfter generating a random number and colour:\n- If the colour matches, the users keeps the amount that was bet\n- If the number matches, the users wins double the amount that was bet\n- If the colour and number matches, the users wins 100 times the amount that was bet\n- When neither the colour or number matches the user wins 0\n- Output the amount the user won\n\nThe following code will generate a random number and colour:\n\n"
      ]
    },
    {
      "cell_type": "code",
      "metadata": {},
      "source": [
        "import random\n\n\ndef colour():\n    random_number = random.randint(1, 2)\n\n    if random_number == 1:\n        colour = 'red'\n    else:\n        colour = 'black'\n\n    return colour\n\n\nrandom_number = random.randint(1, 100)\nrandom_colour = colour()"
      ],
      "execution_count": null,
      "outputs": []
    },
    {
      "cell_type": "markdown",
      "metadata": {
        "slideshow": {
          "slide_type": "slide"
        }
      },
      "source": [
        "### Recap"
      ]
    },
    {
      "cell_type": "markdown",
      "metadata": {
        "slideshow": {
          "slide_type": "subslide"
        }
      },
      "source": [
        "This session:\n1. Comparison operators \n1. Logical Operators\n1. If Statements"
      ]
    },
    {
      "cell_type": "markdown",
      "metadata": {
        "slideshow": {
          "slide_type": "subslide"
        }
      },
      "source": [
        "**Question 1:** Equals to (==) is a comparison operator. Name two more comparison operators"
      ]
    },
    {
      "cell_type": "markdown",
      "metadata": {
        "slideshow": {
          "slide_type": "subslide"
        }
      },
      "source": [
        "\n**Question 2:** What is the output of this code?\n\n"
      ]
    },
    {
      "cell_type": "code",
      "metadata": {},
      "source": [
        "print(True and True)\nprint(True and False)\nprint(True or True)\nprint(True or False)"
      ],
      "execution_count": null,
      "outputs": []
    },
    {
      "cell_type": "markdown",
      "metadata": {
        "slideshow": {
          "slide_type": "subslide"
        }
      },
      "source": [
        "\n**Question 3:** I expect this code to output \"This is too many apples\", but instead it outputs \"That is a sensible number of apples\". Why does this happen?\n\n"
      ]
    },
    {
      "cell_type": "code",
      "metadata": {},
      "source": [
        "apples = 100\n\nif apples >= 10:\n    print('That is a sensible number of apples')\nelif apples > 50:\n    print('This is too many apples')\nelif apples < 10:\n    print('That is not enough apples')"
      ],
      "execution_count": null,
      "outputs": []
    },
    {
      "cell_type": "markdown",
      "metadata": {
        "slideshow": {
          "slide_type": "slide"
        }
      },
      "source": [
        "**Homework:** Session 3 homework questions in your student guide"
      ]
    }
  ],
  "metadata": {
    "kernelspec": {
      "display_name": "Python 3",
      "language": "python",
      "name": "python3"
    },
    "language_info": {
      "codemirror_mode": {
        "name": "ipython",
        "version": 3
      },
      "file_extension": ".py",
      "mimetype": "text/x-python",
      "name": "python",
      "nbconvert_exporter": "python",
      "pygments_lexer": "ipython3",
      "version": "3.6.7"
    },
    "livereveal": {
      "scroll": true,
      "progress": true,
      "start_slideshow_at": "selected",
      "footer": "<img src=\"images/logo.png\" style=\"margin-left: 20px; margin-bottom: 20px;\"/>"
    },
    "rise": {
      "enable_chalkboard": true
    }
  },
  "nbformat": 4,
  "nbformat_minor": 2
}